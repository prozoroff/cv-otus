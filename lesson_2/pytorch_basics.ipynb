{
 "cells": [
  {
   "cell_type": "code",
   "execution_count": null,
   "metadata": {
    "execution": {
     "iopub.execute_input": "2024-05-09T06:32:03.434001Z",
     "iopub.status.busy": "2024-05-09T06:32:03.432798Z",
     "iopub.status.idle": "2024-05-09T06:32:03.469195Z",
     "shell.execute_reply": "2024-05-09T06:32:03.468106Z",
     "shell.execute_reply.started": "2024-05-09T06:32:03.433953Z"
    },
    "id": "621Exb17Dm1C",
    "tags": []
   },
   "outputs": [],
   "source": [
    "import torch\n",
    "import torch.nn as nn\n",
    "import torch.nn.functional as F\n",
    "\n",
    "import torchvision\n",
    "import torchvision.transforms as transforms\n",
    "\n",
    "import matplotlib.pyplot as plt\n",
    "\n",
    "import numpy as np\n",
    "\n",
    "from tqdm import tqdm"
   ]
  },
  {
   "cell_type": "markdown",
   "metadata": {
    "id": "iu4JizZKMy5O"
   },
   "source": [
    "**Перед тем как начать выполнять задание, определитесь где вы будете обучать модель: на GPU или CPU.**"
   ]
  },
  {
   "cell_type": "code",
   "execution_count": null,
   "metadata": {
    "colab": {
     "base_uri": "https://localhost:8080/"
    },
    "execution": {
     "iopub.execute_input": "2024-05-09T06:32:03.472167Z",
     "iopub.status.busy": "2024-05-09T06:32:03.471072Z",
     "iopub.status.idle": "2024-05-09T06:32:03.597519Z",
     "shell.execute_reply": "2024-05-09T06:32:03.596305Z",
     "shell.execute_reply.started": "2024-05-09T06:32:03.472118Z"
    },
    "id": "_RjdUqFklWkr",
    "outputId": "a709d79f-a11f-481d-b649-8385266dbd68",
    "tags": []
   },
   "outputs": [
    {
     "data": {
      "text/plain": [
       "device(type='cuda')"
      ]
     },
     "execution_count": 2,
     "metadata": {},
     "output_type": "execute_result"
    }
   ],
   "source": [
    "device = torch.device('cuda' if torch.cuda.is_available() else 'cpu')\n",
    "device"
   ]
  },
  {
   "cell_type": "markdown",
   "metadata": {
    "id": "nOHqu52v5hPJ"
   },
   "source": [
    "# Проблема затухания градиента"
   ]
  },
  {
   "cell_type": "markdown",
   "metadata": {
    "id": "VfVjxgNcMGNe"
   },
   "source": [
    "Рассмотрим проблему затухания градиента во время обучений неройнных сетей"
   ]
  },
  {
   "cell_type": "markdown",
   "metadata": {
    "id": "b8dzIsCuMRaK"
   },
   "source": [
    "**Залача 1:** Определите модель со следующей структурой:\n",
    "1. Вход и выход заданы - линейными слоями (nn.Linear)\n",
    "2. Скрытые слои - в виде линейных слоев в nn.ModuleList"
   ]
  },
  {
   "cell_type": "code",
   "execution_count": null,
   "metadata": {
    "execution": {
     "iopub.execute_input": "2024-05-09T06:32:03.600910Z",
     "iopub.status.busy": "2024-05-09T06:32:03.599682Z",
     "iopub.status.idle": "2024-05-09T06:32:03.621932Z",
     "shell.execute_reply": "2024-05-09T06:32:03.620759Z",
     "shell.execute_reply.started": "2024-05-09T06:32:03.600840Z"
    },
    "id": "HH04IJ7ydslR",
    "tags": []
   },
   "outputs": [],
   "source": [
    "# Класс модели:\n",
    "class DeepMLP(nn.Module):\n",
    "    def __init__(self, input_size, hidden_size, output_size, n_hidden):\n",
    "        super(DeepMLP, self).__init__()\n",
    "        self.input_layer = nn.Linear(input_size, hidden_size)\n",
    "        self.hidden_layers = nn.ModuleList([nn.Linear(hidden_size, hidden_size) for _ in range(n_hidden)])\n",
    "        self.output_layer = nn.Linear(hidden_size, output_size)\n",
    "\n",
    "    def forward(self, x):\n",
    "        x = x.view(-1, 28 * 28)\n",
    "        x = self.input_layer(x)\n",
    "        for hidden_layer in self.hidden_layers:\n",
    "            x = F.sigmoid(hidden_layer(x))\n",
    "        x = self.output_layer(x)\n",
    "        return x\n"
   ]
  },
  {
   "cell_type": "markdown",
   "metadata": {
    "id": "iKUqF0uLBHvF"
   },
   "source": [
    "**Вопрос:** Сколько параметров (весов) будет иметь эта модель, если инициализировать ее следующие аргументами:\n",
    "\n",
    "input_size=3,\n",
    "hidden_size=6,\n",
    "output_size=7,\n",
    "n_hidden=1\n",
    "\n",
    "**Пример ответа:** `123`"
   ]
  },
  {
   "cell_type": "markdown",
   "metadata": {
    "id": "2SI1GZPaMy5P"
   },
   "source": [
    "<div style=\"width: 100%; background: #eeeeff; padding: 10px\">\n",
    "    <h3>Рассчитаем аналитически</h3>\n",
    "    <b>Веса в self.input_layer</b>\n",
    "    <div>input_size * hidden_size + hidden_size = 6 * 3 + 6</div>\n",
    "    <b>Веса в каждом из слоев в self.hidden_layers</b>\n",
    "    <div>(hidden_size * hidden_size + hidden_size) * n_hidden = (6 * 6 + 6) * 1</div>\n",
    "    <b>Веса в self.output_layer</b>\n",
    "    <div>hidden_size * output_size + output_size = 6 * 7 + 7</div>\n",
    "    <br>\n",
    "    <b>Итого</b>\n",
    "    <div>6 * 3 + 6 + (6 * 6 + 6) * 1 + 6 * 7 + 7 = 115</div>\n",
    "</div>"
   ]
  },
  {
   "cell_type": "code",
   "execution_count": null,
   "metadata": {
    "colab": {
     "base_uri": "https://localhost:8080/"
    },
    "execution": {
     "iopub.execute_input": "2024-05-09T06:32:03.623947Z",
     "iopub.status.busy": "2024-05-09T06:32:03.623021Z",
     "iopub.status.idle": "2024-05-09T06:32:03.694941Z",
     "shell.execute_reply": "2024-05-09T06:32:03.693882Z",
     "shell.execute_reply.started": "2024-05-09T06:32:03.623859Z"
    },
    "id": "CTzoKU0RAq8s",
    "outputId": "4f6794eb-8d5d-4ba2-a075-314acba7c48b",
    "tags": []
   },
   "outputs": [
    {
     "data": {
      "text/plain": [
       "115"
      ]
     },
     "execution_count": 4,
     "metadata": {},
     "output_type": "execute_result"
    }
   ],
   "source": [
    "model = DeepMLP(3, 6, 7, 1)\n",
    "\n",
    "model_parameters = filter(lambda param: param.requires_grad, model.parameters())\n",
    "answer = sum([np.prod(param.size()) for param in model_parameters])\n",
    "\n",
    "answer   ### здесь должен быть выведен ответ"
   ]
  },
  {
   "cell_type": "markdown",
   "metadata": {
    "id": "ayAO6YzmM9iM"
   },
   "source": [
    "**Задача 2:** Вычислите среднее по градиенту в первом скрытом (!!!) слое.\n",
    "\n",
    "**Вопрос:** Каково это значение?\n",
    "\n",
    "**Пример ответа:** `1.2`"
   ]
  },
  {
   "cell_type": "code",
   "execution_count": null,
   "metadata": {
    "execution": {
     "iopub.execute_input": "2024-05-09T06:32:03.697457Z",
     "iopub.status.busy": "2024-05-09T06:32:03.696389Z",
     "iopub.status.idle": "2024-05-09T06:32:03.908618Z",
     "shell.execute_reply": "2024-05-09T06:32:03.907261Z",
     "shell.execute_reply.started": "2024-05-09T06:32:03.697401Z"
    },
    "id": "-p5sW_s7Fu7Q",
    "tags": []
   },
   "outputs": [],
   "source": [
    "torch.manual_seed(42)\n",
    "\n",
    "model = DeepMLP(28 * 28, 6, 7, 1)\n",
    "\n",
    "criterion = torch.nn.CrossEntropyLoss()\n",
    "optimizer = torch.optim.Adam(model.parameters(), lr=0.01)\n",
    "optimizer.zero_grad()\n",
    "out = model(torch.rand((1, 28 * 28)))\n",
    "loss = criterion(out, torch.rand((1, )).long())\n",
    "\n",
    "loss.backward()"
   ]
  },
  {
   "cell_type": "markdown",
   "metadata": {
    "id": "ZDcARkjRMy5P"
   },
   "source": [
    "<div style=\"width: 100%; background: #eeeeff; padding: 10px\">\n",
    "    <h3>Как решаем</h3>\n",
    "    <div>1. Посчитаем mean по градиентам весов hidden_layers[0].weight.grad</div>\n",
    "    <div>2. Посчитаем mean по градиентам смещений hidden_layers[0].bias.grad</div>\n",
    "</div>"
   ]
  },
  {
   "cell_type": "code",
   "execution_count": null,
   "metadata": {
    "colab": {
     "base_uri": "https://localhost:8080/"
    },
    "execution": {
     "iopub.execute_input": "2024-05-09T06:32:03.910726Z",
     "iopub.status.busy": "2024-05-09T06:32:03.909985Z",
     "iopub.status.idle": "2024-05-09T06:32:03.940921Z",
     "shell.execute_reply": "2024-05-09T06:32:03.939833Z",
     "shell.execute_reply.started": "2024-05-09T06:32:03.910677Z"
    },
    "id": "YsbyD3LwF0-b",
    "outputId": "ff9eca6e-0653-40d5-e406-a3b598cb20e7",
    "tags": []
   },
   "outputs": [
    {
     "name": "stdout",
     "output_type": "stream",
     "text": [
      "Среднее значение по градиенту весов первого скрытого слоя: 0.001038502436131239\n",
      "Среднее значение по градиенту смещений первого скрытого слоя: -0.009553598240017891\n"
     ]
    }
   ],
   "source": [
    "first_hidden_layer_grads = model.hidden_layers[0].weight.grad  # Градиенты весов первого скрытого слоя\n",
    "first_hidden_layer_bias_grads = model.hidden_layers[0].bias.grad  # Градиенты смещений первого скрытого слоя\n",
    "\n",
    "mean_grad_weight = torch.mean(first_hidden_layer_grads)\n",
    "mean_grad_bias = torch.mean(first_hidden_layer_bias_grads)\n",
    "\n",
    "print(\"Среднее значение по градиенту весов первого скрытого слоя:\", mean_grad_weight.item())\n",
    "print(\"Среднее значение по градиенту смещений первого скрытого слоя:\", mean_grad_bias.item())"
   ]
  },
  {
   "cell_type": "code",
   "execution_count": null,
   "metadata": {
    "colab": {
     "base_uri": "https://localhost:8080/"
    },
    "execution": {
     "iopub.execute_input": "2024-05-09T06:32:03.945751Z",
     "iopub.status.busy": "2024-05-09T06:32:03.945045Z",
     "iopub.status.idle": "2024-05-09T06:32:03.966459Z",
     "shell.execute_reply": "2024-05-09T06:32:03.965271Z",
     "shell.execute_reply.started": "2024-05-09T06:32:03.945719Z"
    },
    "id": "ymsQCjtXMy5P",
    "outputId": "dfaa10f2-c691-4754-a3f4-3cd853e58088",
    "tags": []
   },
   "outputs": [
    {
     "data": {
      "text/plain": [
       "0.001038502436131239"
      ]
     },
     "execution_count": 7,
     "metadata": {},
     "output_type": "execute_result"
    }
   ],
   "source": [
    "# Выведем, например, веса\n",
    "answer = mean_grad_weight.item()\n",
    "answer ### здесь должен быть выведен ответ"
   ]
  },
  {
   "cell_type": "markdown",
   "metadata": {
    "id": "F83YYq7A9mA-"
   },
   "source": [
    "Теперь попробуйте обучить небольшую модель состоящую всего-лишь из трех скрытых слоев."
   ]
  },
  {
   "cell_type": "markdown",
   "metadata": {
    "id": "N6bIiDEzNUux"
   },
   "source": [
    "**Задача 3:** Создайте объект класса модели DeepMLP"
   ]
  },
  {
   "cell_type": "code",
   "execution_count": null,
   "metadata": {
    "execution": {
     "iopub.execute_input": "2024-05-09T06:32:03.969563Z",
     "iopub.status.busy": "2024-05-09T06:32:03.968450Z",
     "iopub.status.idle": "2024-05-09T06:32:04.405564Z",
     "shell.execute_reply": "2024-05-09T06:32:04.404418Z",
     "shell.execute_reply.started": "2024-05-09T06:32:03.969510Z"
    },
    "id": "MZzRzKmOHKBf",
    "tags": []
   },
   "outputs": [],
   "source": [
    "torch.manual_seed(42)\n",
    "\n",
    "# Инициализация модели, лосс функции и оптимайзера:\n",
    "input_size = 28 * 28 # MNIST image size\n",
    "hidden_size = 32\n",
    "output_size = 10\n",
    "n_hidden=3          # небольшая модель всего из трех скрытых слоев\n",
    "model = DeepMLP(input_size, hidden_size, output_size, n_hidden).to(device)"
   ]
  },
  {
   "cell_type": "markdown",
   "metadata": {
    "id": "1U7bUJBrRf-D"
   },
   "source": [
    "**Вопрос:** Какова сумма всех выходов модели для случайного входного тензора test_data?\n",
    "\n",
    "**Пример ответа:** `1.234`"
   ]
  },
  {
   "cell_type": "markdown",
   "metadata": {
    "id": "NeTtmxmqMy5P"
   },
   "source": [
    "<div style=\"width: 100%; background: #eeeeff; padding: 10px\">\n",
    "    <h3>Как решаем</h3>\n",
    "    <div>Вызываем forward с полученным тензоров test_data и суммируем значения полученного массива</div>\n",
    "</div>"
   ]
  },
  {
   "cell_type": "code",
   "execution_count": null,
   "metadata": {
    "colab": {
     "base_uri": "https://localhost:8080/"
    },
    "execution": {
     "iopub.execute_input": "2024-05-09T06:32:04.407580Z",
     "iopub.status.busy": "2024-05-09T06:32:04.406915Z",
     "iopub.status.idle": "2024-05-09T06:32:05.126459Z",
     "shell.execute_reply": "2024-05-09T06:32:05.125488Z",
     "shell.execute_reply.started": "2024-05-09T06:32:04.407533Z"
    },
    "id": "eGW9dV-aNxF4",
    "outputId": "6cb1e81c-f647-409e-b9d7-2e0373cf3f82",
    "tags": []
   },
   "outputs": [
    {
     "data": {
      "text/plain": [
       "tensor(-0.5516, device='cuda:0', grad_fn=<SumBackward0>)"
      ]
     },
     "execution_count": 9,
     "metadata": {},
     "output_type": "execute_result"
    }
   ],
   "source": [
    "test_data = torch.rand((1, 28*28)).to(device)\n",
    "output = model(test_data)\n",
    "\n",
    "answer = torch.sum(output)\n",
    "answer   ### здесь должен быть выведен ответ"
   ]
  },
  {
   "cell_type": "markdown",
   "metadata": {
    "id": "PMe5uXRPMy5Q"
   },
   "source": [
    "Теперь попробуем имплементировать цикл обучения и затем обучить модель на датасете MNIST. Но для начала давайте скачаем и подготовим этот датасет для обучения:"
   ]
  },
  {
   "cell_type": "code",
   "execution_count": null,
   "metadata": {
    "colab": {
     "base_uri": "https://localhost:8080/"
    },
    "execution": {
     "iopub.execute_input": "2024-05-09T06:32:05.129085Z",
     "iopub.status.busy": "2024-05-09T06:32:05.127688Z",
     "iopub.status.idle": "2024-05-09T06:32:07.242186Z",
     "shell.execute_reply": "2024-05-09T06:32:07.241097Z",
     "shell.execute_reply.started": "2024-05-09T06:32:05.129047Z"
    },
    "id": "LHxa0Ooj8YGW",
    "outputId": "cc5f0ea6-e4a2-4073-992e-c279aa3c97a5",
    "tags": []
   },
   "outputs": [
    {
     "name": "stdout",
     "output_type": "stream",
     "text": [
      "Downloading http://yann.lecun.com/exdb/mnist/train-images-idx3-ubyte.gz\n",
      "Failed to download (trying next):\n",
      "HTTP Error 403: Forbidden\n",
      "\n",
      "Downloading https://ossci-datasets.s3.amazonaws.com/mnist/train-images-idx3-ubyte.gz\n",
      "Downloading https://ossci-datasets.s3.amazonaws.com/mnist/train-images-idx3-ubyte.gz to ./data/MNIST/raw/train-images-idx3-ubyte.gz\n"
     ]
    },
    {
     "name": "stderr",
     "output_type": "stream",
     "text": [
      "100%|██████████| 9912422/9912422 [00:00<00:00, 16659685.51it/s]\n"
     ]
    },
    {
     "name": "stdout",
     "output_type": "stream",
     "text": [
      "Extracting ./data/MNIST/raw/train-images-idx3-ubyte.gz to ./data/MNIST/raw\n",
      "\n",
      "Downloading http://yann.lecun.com/exdb/mnist/train-labels-idx1-ubyte.gz\n",
      "Failed to download (trying next):\n",
      "HTTP Error 403: Forbidden\n",
      "\n",
      "Downloading https://ossci-datasets.s3.amazonaws.com/mnist/train-labels-idx1-ubyte.gz\n",
      "Downloading https://ossci-datasets.s3.amazonaws.com/mnist/train-labels-idx1-ubyte.gz to ./data/MNIST/raw/train-labels-idx1-ubyte.gz\n"
     ]
    },
    {
     "name": "stderr",
     "output_type": "stream",
     "text": [
      "100%|██████████| 28881/28881 [00:00<00:00, 494714.10it/s]\n"
     ]
    },
    {
     "name": "stdout",
     "output_type": "stream",
     "text": [
      "Extracting ./data/MNIST/raw/train-labels-idx1-ubyte.gz to ./data/MNIST/raw\n",
      "\n",
      "Downloading http://yann.lecun.com/exdb/mnist/t10k-images-idx3-ubyte.gz\n",
      "Failed to download (trying next):\n",
      "HTTP Error 403: Forbidden\n",
      "\n",
      "Downloading https://ossci-datasets.s3.amazonaws.com/mnist/t10k-images-idx3-ubyte.gz\n",
      "Downloading https://ossci-datasets.s3.amazonaws.com/mnist/t10k-images-idx3-ubyte.gz to ./data/MNIST/raw/t10k-images-idx3-ubyte.gz\n"
     ]
    },
    {
     "name": "stderr",
     "output_type": "stream",
     "text": [
      "100%|██████████| 1648877/1648877 [00:00<00:00, 4596385.31it/s]\n"
     ]
    },
    {
     "name": "stdout",
     "output_type": "stream",
     "text": [
      "Extracting ./data/MNIST/raw/t10k-images-idx3-ubyte.gz to ./data/MNIST/raw\n",
      "\n",
      "Downloading http://yann.lecun.com/exdb/mnist/t10k-labels-idx1-ubyte.gz\n",
      "Failed to download (trying next):\n",
      "HTTP Error 403: Forbidden\n",
      "\n",
      "Downloading https://ossci-datasets.s3.amazonaws.com/mnist/t10k-labels-idx1-ubyte.gz\n",
      "Downloading https://ossci-datasets.s3.amazonaws.com/mnist/t10k-labels-idx1-ubyte.gz to ./data/MNIST/raw/t10k-labels-idx1-ubyte.gz\n"
     ]
    },
    {
     "name": "stderr",
     "output_type": "stream",
     "text": [
      "100%|██████████| 4542/4542 [00:00<00:00, 9530029.40it/s]"
     ]
    },
    {
     "name": "stdout",
     "output_type": "stream",
     "text": [
      "Extracting ./data/MNIST/raw/t10k-labels-idx1-ubyte.gz to ./data/MNIST/raw\n",
      "\n"
     ]
    },
    {
     "name": "stderr",
     "output_type": "stream",
     "text": [
      "\n"
     ]
    }
   ],
   "source": [
    "# Загрузка и подготовка датасета MNIST:\n",
    "transform = transforms.Compose([transforms.ToTensor(), transforms.Normalize((0.5,), (0.5,))])\n",
    "trainset = torchvision.datasets.MNIST(root='./data', train=True, download=True, transform=transform)\n",
    "trainloader = torch.utils.data.DataLoader(trainset, batch_size=64, shuffle=True, num_workers=2)"
   ]
  },
  {
   "cell_type": "code",
   "execution_count": null,
   "metadata": {
    "execution": {
     "iopub.execute_input": "2024-05-09T06:32:07.244767Z",
     "iopub.status.busy": "2024-05-09T06:32:07.243615Z",
     "iopub.status.idle": "2024-05-09T06:32:07.258993Z",
     "shell.execute_reply": "2024-05-09T06:32:07.257880Z",
     "shell.execute_reply.started": "2024-05-09T06:32:07.244714Z"
    },
    "id": "9jsdIQPOCJLU",
    "tags": []
   },
   "outputs": [],
   "source": [
    "# Опишем цикл обучения:\n",
    "def train(model, trainloader, criterion, optimizer):\n",
    "  torch.manual_seed(42)\n",
    "\n",
    "  model.train()\n",
    "\n",
    "  fc_gradients = []\n",
    "\n",
    "  for step, data in tqdm(enumerate(trainloader), total=len(trainloader)):\n",
    "      inputs, labels = data\n",
    "      inputs, labels = inputs.to(device), labels.to(device)\n",
    "\n",
    "      optimizer.zero_grad()\n",
    "      outputs = model(inputs)\n",
    "      loss = criterion(outputs, labels)\n",
    "\n",
    "      loss.backward()\n",
    "      optimizer.step()\n",
    "\n",
    "      if step % 10 == 0:\n",
    "        print(f'Step: {step}, Loss: {loss}')\n",
    "\n",
    "      fc_gradients.append(torch.mean(model.hidden_layers[0].weight.grad))  # <------ код из решения задачи 2\n",
    "\n",
    "  return fc_gradients"
   ]
  },
  {
   "cell_type": "code",
   "execution_count": null,
   "metadata": {
    "colab": {
     "base_uri": "https://localhost:8080/"
    },
    "execution": {
     "iopub.execute_input": "2024-05-09T06:32:07.261055Z",
     "iopub.status.busy": "2024-05-09T06:32:07.260108Z",
     "iopub.status.idle": "2024-05-09T06:32:17.558494Z",
     "shell.execute_reply": "2024-05-09T06:32:17.557329Z",
     "shell.execute_reply.started": "2024-05-09T06:32:07.260995Z"
    },
    "id": "_RN00uEEnHlo",
    "outputId": "92d290f4-1e08-460d-8d69-2c0540c966e5",
    "tags": []
   },
   "outputs": [
    {
     "name": "stderr",
     "output_type": "stream",
     "text": [
      "/usr/lib/python3.10/multiprocessing/popen_fork.py:66: RuntimeWarning: os.fork() was called. os.fork() is incompatible with multithreaded code, and JAX is multithreaded, so this will likely lead to a deadlock.\n",
      "  self.pid = os.fork()\n",
      "  1%|          | 8/938 [00:00<01:24, 11.04it/s]"
     ]
    },
    {
     "name": "stdout",
     "output_type": "stream",
     "text": [
      "Step: 0, Loss: 2.2937896251678467\n"
     ]
    },
    {
     "name": "stderr",
     "output_type": "stream",
     "text": [
      "  1%|▏         | 13/938 [00:01<01:01, 14.97it/s]"
     ]
    },
    {
     "name": "stdout",
     "output_type": "stream",
     "text": [
      "Step: 10, Loss: 2.2889366149902344\n"
     ]
    },
    {
     "name": "stderr",
     "output_type": "stream",
     "text": [
      "  2%|▏         | 23/938 [00:01<00:49, 18.35it/s]"
     ]
    },
    {
     "name": "stdout",
     "output_type": "stream",
     "text": [
      "Step: 20, Loss: 2.291050672531128\n"
     ]
    },
    {
     "name": "stderr",
     "output_type": "stream",
     "text": [
      "  4%|▍         | 39/938 [00:02<00:27, 32.38it/s]"
     ]
    },
    {
     "name": "stdout",
     "output_type": "stream",
     "text": [
      "Step: 30, Loss: 2.154609441757202\n"
     ]
    },
    {
     "name": "stderr",
     "output_type": "stream",
     "text": [
      "  5%|▌         | 49/938 [00:02<00:24, 36.72it/s]"
     ]
    },
    {
     "name": "stdout",
     "output_type": "stream",
     "text": [
      "Step: 40, Loss: 2.016479015350342\n",
      "Step: 50, Loss: 1.8274005651474\n"
     ]
    },
    {
     "name": "stderr",
     "output_type": "stream",
     "text": [
      "  7%|▋         | 65/938 [00:02<00:21, 41.02it/s]"
     ]
    },
    {
     "name": "stdout",
     "output_type": "stream",
     "text": [
      "Step: 60, Loss: 1.6792889833450317\n"
     ]
    },
    {
     "name": "stderr",
     "output_type": "stream",
     "text": [
      "  8%|▊         | 76/938 [00:02<00:20, 42.62it/s]"
     ]
    },
    {
     "name": "stdout",
     "output_type": "stream",
     "text": [
      "Step: 70, Loss: 1.569961667060852\n"
     ]
    },
    {
     "name": "stderr",
     "output_type": "stream",
     "text": [
      "  9%|▉         | 86/938 [00:03<00:21, 40.05it/s]"
     ]
    },
    {
     "name": "stdout",
     "output_type": "stream",
     "text": [
      "Step: 80, Loss: 1.4565768241882324\n"
     ]
    },
    {
     "name": "stderr",
     "output_type": "stream",
     "text": [
      " 10%|█         | 96/938 [00:03<00:20, 41.49it/s]"
     ]
    },
    {
     "name": "stdout",
     "output_type": "stream",
     "text": [
      "Step: 90, Loss: 1.5084950923919678\n"
     ]
    },
    {
     "name": "stderr",
     "output_type": "stream",
     "text": [
      " 11%|█▏        | 106/938 [00:03<00:20, 40.31it/s]"
     ]
    },
    {
     "name": "stdout",
     "output_type": "stream",
     "text": [
      "Step: 100, Loss: 1.364181399345398\n"
     ]
    },
    {
     "name": "stderr",
     "output_type": "stream",
     "text": [
      " 13%|█▎        | 118/938 [00:03<00:16, 48.80it/s]"
     ]
    },
    {
     "name": "stdout",
     "output_type": "stream",
     "text": [
      "Step: 110, Loss: 1.395524501800537\n",
      "Step: 120, Loss: 1.2927829027175903\n"
     ]
    },
    {
     "name": "stderr",
     "output_type": "stream",
     "text": [
      " 15%|█▍        | 137/938 [00:04<00:23, 34.44it/s]"
     ]
    },
    {
     "name": "stdout",
     "output_type": "stream",
     "text": [
      "Step: 130, Loss: 1.172381043434143\n"
     ]
    },
    {
     "name": "stderr",
     "output_type": "stream",
     "text": [
      " 15%|█▌        | 145/938 [00:04<00:26, 29.85it/s]"
     ]
    },
    {
     "name": "stdout",
     "output_type": "stream",
     "text": [
      "Step: 140, Loss: 1.2509260177612305\n"
     ]
    },
    {
     "name": "stderr",
     "output_type": "stream",
     "text": [
      " 16%|█▋        | 153/938 [00:05<00:28, 27.29it/s]"
     ]
    },
    {
     "name": "stdout",
     "output_type": "stream",
     "text": [
      "Step: 150, Loss: 1.1494622230529785\n"
     ]
    },
    {
     "name": "stderr",
     "output_type": "stream",
     "text": [
      " 17%|█▋        | 164/938 [00:05<00:29, 26.57it/s]"
     ]
    },
    {
     "name": "stdout",
     "output_type": "stream",
     "text": [
      "Step: 160, Loss: 1.1668161153793335\n"
     ]
    },
    {
     "name": "stderr",
     "output_type": "stream",
     "text": [
      " 19%|█▊        | 174/938 [00:05<00:29, 25.58it/s]"
     ]
    },
    {
     "name": "stdout",
     "output_type": "stream",
     "text": [
      "Step: 170, Loss: 1.220613956451416\n"
     ]
    },
    {
     "name": "stderr",
     "output_type": "stream",
     "text": [
      " 20%|█▉        | 183/938 [00:06<00:31, 23.62it/s]"
     ]
    },
    {
     "name": "stdout",
     "output_type": "stream",
     "text": [
      "Step: 180, Loss: 1.3069820404052734\n"
     ]
    },
    {
     "name": "stderr",
     "output_type": "stream",
     "text": [
      " 21%|██        | 195/938 [00:06<00:35, 20.92it/s]"
     ]
    },
    {
     "name": "stdout",
     "output_type": "stream",
     "text": [
      "Step: 190, Loss: 0.946485161781311\n"
     ]
    },
    {
     "name": "stderr",
     "output_type": "stream",
     "text": [
      " 22%|██▏       | 205/938 [00:07<00:34, 21.32it/s]"
     ]
    },
    {
     "name": "stdout",
     "output_type": "stream",
     "text": [
      "Step: 200, Loss: 0.8249154686927795\n"
     ]
    },
    {
     "name": "stderr",
     "output_type": "stream",
     "text": [
      " 23%|██▎       | 217/938 [00:07<00:25, 28.67it/s]"
     ]
    },
    {
     "name": "stdout",
     "output_type": "stream",
     "text": [
      "Step: 210, Loss: 1.3002018928527832\n"
     ]
    },
    {
     "name": "stderr",
     "output_type": "stream",
     "text": [
      " 24%|██▍       | 224/938 [00:08<00:27, 26.07it/s]"
     ]
    },
    {
     "name": "stdout",
     "output_type": "stream",
     "text": [
      "Step: 220, Loss: 1.1068321466445923\n"
     ]
    },
    {
     "name": "stderr",
     "output_type": "stream",
     "text": [
      " 25%|██▌       | 238/938 [00:08<00:21, 33.01it/s]"
     ]
    },
    {
     "name": "stdout",
     "output_type": "stream",
     "text": [
      "Step: 230, Loss: 1.0789337158203125\n"
     ]
    },
    {
     "name": "stderr",
     "output_type": "stream",
     "text": [
      " 26%|██▋       | 247/938 [00:08<00:19, 35.76it/s]"
     ]
    },
    {
     "name": "stdout",
     "output_type": "stream",
     "text": [
      "Step: 240, Loss: 1.1287155151367188\n"
     ]
    },
    {
     "name": "stderr",
     "output_type": "stream",
     "text": [
      " 27%|██▋       | 255/938 [00:08<00:20, 33.11it/s]"
     ]
    },
    {
     "name": "stdout",
     "output_type": "stream",
     "text": [
      "Step: 250, Loss: 1.045046091079712\n"
     ]
    },
    {
     "name": "stderr",
     "output_type": "stream",
     "text": [
      " 28%|██▊       | 264/938 [00:09<00:18, 35.99it/s]"
     ]
    },
    {
     "name": "stdout",
     "output_type": "stream",
     "text": [
      "Step: 260, Loss: 1.0151885747909546\n"
     ]
    },
    {
     "name": "stderr",
     "output_type": "stream",
     "text": [
      " 29%|██▉       | 276/938 [00:09<00:19, 34.78it/s]"
     ]
    },
    {
     "name": "stdout",
     "output_type": "stream",
     "text": [
      "Step: 270, Loss: 0.8476772308349609\n"
     ]
    },
    {
     "name": "stderr",
     "output_type": "stream",
     "text": [
      " 30%|███       | 285/938 [00:09<00:17, 37.14it/s]"
     ]
    },
    {
     "name": "stdout",
     "output_type": "stream",
     "text": [
      "Step: 280, Loss: 0.9521381258964539\n"
     ]
    },
    {
     "name": "stderr",
     "output_type": "stream",
     "text": [
      " 32%|███▏      | 296/938 [00:10<00:15, 40.27it/s]"
     ]
    },
    {
     "name": "stdout",
     "output_type": "stream",
     "text": [
      "Step: 290, Loss: 0.7699106335639954\n"
     ]
    },
    {
     "name": "stderr",
     "output_type": "stream",
     "text": [
      " 33%|███▎      | 307/938 [00:10<00:14, 44.85it/s]"
     ]
    },
    {
     "name": "stdout",
     "output_type": "stream",
     "text": [
      "Step: 300, Loss: 1.1782273054122925\n",
      "Step: 310, Loss: 0.8225458860397339\n"
     ]
    },
    {
     "name": "stderr",
     "output_type": "stream",
     "text": [
      " 35%|███▍      | 327/938 [00:10<00:10, 57.20it/s]"
     ]
    },
    {
     "name": "stdout",
     "output_type": "stream",
     "text": [
      "Step: 320, Loss: 1.0159187316894531\n",
      "Step: 330, Loss: 0.8963613510131836\n"
     ]
    },
    {
     "name": "stderr",
     "output_type": "stream",
     "text": [
      " 37%|███▋      | 351/938 [00:10<00:08, 66.15it/s]"
     ]
    },
    {
     "name": "stdout",
     "output_type": "stream",
     "text": [
      "Step: 340, Loss: 0.894009530544281\n",
      "Step: 350, Loss: 0.8441407680511475\n"
     ]
    },
    {
     "name": "stderr",
     "output_type": "stream",
     "text": [
      " 40%|███▉      | 373/938 [00:11<00:08, 64.28it/s]"
     ]
    },
    {
     "name": "stdout",
     "output_type": "stream",
     "text": [
      "Step: 360, Loss: 0.8699902296066284\n",
      "Step: 370, Loss: 0.9404324293136597\n"
     ]
    },
    {
     "name": "stderr",
     "output_type": "stream",
     "text": [
      " 41%|████      | 386/938 [00:11<00:10, 53.29it/s]"
     ]
    },
    {
     "name": "stdout",
     "output_type": "stream",
     "text": [
      "Step: 380, Loss: 0.8298032283782959\n"
     ]
    },
    {
     "name": "stderr",
     "output_type": "stream",
     "text": [
      " 42%|████▏     | 398/938 [00:11<00:11, 46.39it/s]"
     ]
    },
    {
     "name": "stdout",
     "output_type": "stream",
     "text": [
      "Step: 390, Loss: 0.8056067228317261\n"
     ]
    },
    {
     "name": "stderr",
     "output_type": "stream",
     "text": [
      " 44%|████▎     | 409/938 [00:12<00:10, 48.61it/s]"
     ]
    },
    {
     "name": "stdout",
     "output_type": "stream",
     "text": [
      "Step: 400, Loss: 0.9474304914474487\n",
      "Step: 410, Loss: 0.8397301435470581\n"
     ]
    },
    {
     "name": "stderr",
     "output_type": "stream",
     "text": [
      " 46%|████▌     | 432/938 [00:12<00:08, 61.07it/s]"
     ]
    },
    {
     "name": "stdout",
     "output_type": "stream",
     "text": [
      "Step: 420, Loss: 0.7543426752090454\n",
      "Step: 430, Loss: 0.7021985650062561\n"
     ]
    },
    {
     "name": "stderr",
     "output_type": "stream",
     "text": [
      " 48%|████▊     | 447/938 [00:12<00:07, 64.76it/s]"
     ]
    },
    {
     "name": "stdout",
     "output_type": "stream",
     "text": [
      "Step: 440, Loss: 0.6798675656318665\n",
      "Step: 450, Loss: 0.6756791472434998\n"
     ]
    },
    {
     "name": "stderr",
     "output_type": "stream",
     "text": [
      " 50%|█████     | 471/938 [00:12<00:06, 69.69it/s]"
     ]
    },
    {
     "name": "stdout",
     "output_type": "stream",
     "text": [
      "Step: 460, Loss: 0.9879452586174011\n",
      "Step: 470, Loss: 0.530322253704071\n"
     ]
    },
    {
     "name": "stderr",
     "output_type": "stream",
     "text": [
      " 52%|█████▏    | 487/938 [00:13<00:06, 69.47it/s]"
     ]
    },
    {
     "name": "stdout",
     "output_type": "stream",
     "text": [
      "Step: 480, Loss: 0.5808587074279785\n",
      "Step: 490, Loss: 0.695310652256012\n"
     ]
    },
    {
     "name": "stderr",
     "output_type": "stream",
     "text": [
      " 54%|█████▍    | 509/938 [00:13<00:06, 66.43it/s]"
     ]
    },
    {
     "name": "stdout",
     "output_type": "stream",
     "text": [
      "Step: 500, Loss: 0.8470647931098938\n",
      "Step: 510, Loss: 0.8692700862884521\n"
     ]
    },
    {
     "name": "stderr",
     "output_type": "stream",
     "text": [
      " 57%|█████▋    | 531/938 [00:13<00:06, 66.49it/s]"
     ]
    },
    {
     "name": "stdout",
     "output_type": "stream",
     "text": [
      "Step: 520, Loss: 0.9202135801315308\n",
      "Step: 530, Loss: 0.9786092042922974\n"
     ]
    },
    {
     "name": "stderr",
     "output_type": "stream",
     "text": [
      " 58%|█████▊    | 548/938 [00:14<00:05, 68.69it/s]"
     ]
    },
    {
     "name": "stdout",
     "output_type": "stream",
     "text": [
      "Step: 540, Loss: 0.7890682816505432\n",
      "Step: 550, Loss: 0.842555582523346\n"
     ]
    },
    {
     "name": "stderr",
     "output_type": "stream",
     "text": [
      " 61%|██████    | 572/938 [00:14<00:05, 72.19it/s]"
     ]
    },
    {
     "name": "stdout",
     "output_type": "stream",
     "text": [
      "Step: 560, Loss: 0.8212042450904846\n",
      "Step: 570, Loss: 1.0312821865081787\n"
     ]
    },
    {
     "name": "stderr",
     "output_type": "stream",
     "text": [
      " 63%|██████▎   | 588/938 [00:14<00:05, 68.67it/s]"
     ]
    },
    {
     "name": "stdout",
     "output_type": "stream",
     "text": [
      "Step: 580, Loss: 0.897013783454895\n",
      "Step: 590, Loss: 0.9745898246765137\n"
     ]
    },
    {
     "name": "stderr",
     "output_type": "stream",
     "text": [
      " 65%|██████▌   | 610/938 [00:14<00:04, 70.31it/s]"
     ]
    },
    {
     "name": "stdout",
     "output_type": "stream",
     "text": [
      "Step: 600, Loss: 0.614892303943634\n",
      "Step: 610, Loss: 0.8571321964263916\n"
     ]
    },
    {
     "name": "stderr",
     "output_type": "stream",
     "text": [
      " 68%|██████▊   | 634/938 [00:15<00:04, 69.63it/s]"
     ]
    },
    {
     "name": "stdout",
     "output_type": "stream",
     "text": [
      "Step: 620, Loss: 0.5909349322319031\n",
      "Step: 630, Loss: 0.9711124897003174\n"
     ]
    },
    {
     "name": "stderr",
     "output_type": "stream",
     "text": [
      " 69%|██████▉   | 649/938 [00:15<00:04, 68.42it/s]"
     ]
    },
    {
     "name": "stdout",
     "output_type": "stream",
     "text": [
      "Step: 640, Loss: 0.6752397418022156\n",
      "Step: 650, Loss: 0.793038547039032\n"
     ]
    },
    {
     "name": "stderr",
     "output_type": "stream",
     "text": [
      " 72%|███████▏  | 673/938 [00:15<00:03, 71.86it/s]"
     ]
    },
    {
     "name": "stdout",
     "output_type": "stream",
     "text": [
      "Step: 660, Loss: 0.8021664619445801\n",
      "Step: 670, Loss: 0.6898663640022278\n"
     ]
    },
    {
     "name": "stderr",
     "output_type": "stream",
     "text": [
      " 73%|███████▎  | 689/938 [00:16<00:03, 69.28it/s]"
     ]
    },
    {
     "name": "stdout",
     "output_type": "stream",
     "text": [
      "Step: 680, Loss: 0.9239345788955688\n",
      "Step: 690, Loss: 0.8560190200805664\n"
     ]
    },
    {
     "name": "stderr",
     "output_type": "stream",
     "text": [
      " 76%|███████▌  | 713/938 [00:16<00:03, 70.79it/s]"
     ]
    },
    {
     "name": "stdout",
     "output_type": "stream",
     "text": [
      "Step: 700, Loss: 0.6427173614501953\n",
      "Step: 710, Loss: 0.7232307195663452\n"
     ]
    },
    {
     "name": "stderr",
     "output_type": "stream",
     "text": [
      " 78%|███████▊  | 729/938 [00:16<00:03, 68.85it/s]"
     ]
    },
    {
     "name": "stdout",
     "output_type": "stream",
     "text": [
      "Step: 720, Loss: 0.8339681625366211\n",
      "Step: 730, Loss: 0.6960524320602417\n"
     ]
    },
    {
     "name": "stderr",
     "output_type": "stream",
     "text": [
      " 80%|████████  | 752/938 [00:16<00:02, 72.53it/s]"
     ]
    },
    {
     "name": "stdout",
     "output_type": "stream",
     "text": [
      "Step: 740, Loss: 0.6204549670219421\n",
      "Step: 750, Loss: 0.3275142014026642\n"
     ]
    },
    {
     "name": "stderr",
     "output_type": "stream",
     "text": [
      " 83%|████████▎ | 776/938 [00:17<00:02, 71.65it/s]"
     ]
    },
    {
     "name": "stdout",
     "output_type": "stream",
     "text": [
      "Step: 760, Loss: 0.655512809753418\n",
      "Step: 770, Loss: 0.6526492238044739\n"
     ]
    },
    {
     "name": "stderr",
     "output_type": "stream",
     "text": [
      " 84%|████████▍ | 792/938 [00:17<00:02, 70.99it/s]"
     ]
    },
    {
     "name": "stdout",
     "output_type": "stream",
     "text": [
      "Step: 780, Loss: 0.5388124585151672\n",
      "Step: 790, Loss: 0.7175283432006836\n"
     ]
    },
    {
     "name": "stderr",
     "output_type": "stream",
     "text": [
      " 86%|████████▌ | 807/938 [00:17<00:02, 55.62it/s]"
     ]
    },
    {
     "name": "stdout",
     "output_type": "stream",
     "text": [
      "Step: 800, Loss: 0.47889837622642517\n"
     ]
    },
    {
     "name": "stderr",
     "output_type": "stream",
     "text": [
      " 87%|████████▋ | 819/938 [00:18<00:02, 50.38it/s]"
     ]
    },
    {
     "name": "stdout",
     "output_type": "stream",
     "text": [
      "Step: 810, Loss: 0.5588071346282959\n"
     ]
    },
    {
     "name": "stderr",
     "output_type": "stream",
     "text": [
      " 88%|████████▊ | 825/938 [00:18<00:02, 49.15it/s]"
     ]
    },
    {
     "name": "stdout",
     "output_type": "stream",
     "text": [
      "Step: 820, Loss: 0.600587785243988\n"
     ]
    },
    {
     "name": "stderr",
     "output_type": "stream",
     "text": [
      " 89%|████████▉ | 837/938 [00:18<00:02, 49.04it/s]"
     ]
    },
    {
     "name": "stdout",
     "output_type": "stream",
     "text": [
      "Step: 830, Loss: 0.6281799077987671\n"
     ]
    },
    {
     "name": "stderr",
     "output_type": "stream",
     "text": [
      " 90%|█████████ | 847/938 [00:18<00:01, 46.10it/s]"
     ]
    },
    {
     "name": "stdout",
     "output_type": "stream",
     "text": [
      "Step: 840, Loss: 0.4902746379375458\n"
     ]
    },
    {
     "name": "stderr",
     "output_type": "stream",
     "text": [
      " 92%|█████████▏| 859/938 [00:19<00:01, 47.02it/s]"
     ]
    },
    {
     "name": "stdout",
     "output_type": "stream",
     "text": [
      "Step: 850, Loss: 1.0378198623657227\n"
     ]
    },
    {
     "name": "stderr",
     "output_type": "stream",
     "text": [
      " 93%|█████████▎| 870/938 [00:19<00:01, 46.50it/s]"
     ]
    },
    {
     "name": "stdout",
     "output_type": "stream",
     "text": [
      "Step: 860, Loss: 0.645628035068512\n"
     ]
    },
    {
     "name": "stderr",
     "output_type": "stream",
     "text": [
      " 93%|█████████▎| 875/938 [00:19<00:01, 45.24it/s]"
     ]
    },
    {
     "name": "stdout",
     "output_type": "stream",
     "text": [
      "Step: 870, Loss: 0.6482465863227844\n"
     ]
    },
    {
     "name": "stderr",
     "output_type": "stream",
     "text": [
      " 94%|█████████▍| 885/938 [00:19<00:01, 43.69it/s]"
     ]
    },
    {
     "name": "stdout",
     "output_type": "stream",
     "text": [
      "Step: 880, Loss: 0.556383490562439\n"
     ]
    },
    {
     "name": "stderr",
     "output_type": "stream",
     "text": [
      " 96%|█████████▌| 896/938 [00:19<00:01, 41.54it/s]"
     ]
    },
    {
     "name": "stdout",
     "output_type": "stream",
     "text": [
      "Step: 890, Loss: 0.619185209274292\n"
     ]
    },
    {
     "name": "stderr",
     "output_type": "stream",
     "text": [
      " 97%|█████████▋| 908/938 [00:20<00:00, 43.23it/s]"
     ]
    },
    {
     "name": "stdout",
     "output_type": "stream",
     "text": [
      "Step: 900, Loss: 0.7866921424865723\n"
     ]
    },
    {
     "name": "stderr",
     "output_type": "stream",
     "text": [
      " 98%|█████████▊| 918/938 [00:20<00:00, 40.75it/s]"
     ]
    },
    {
     "name": "stdout",
     "output_type": "stream",
     "text": [
      "Step: 910, Loss: 0.4500378370285034\n"
     ]
    },
    {
     "name": "stderr",
     "output_type": "stream",
     "text": [
      " 99%|█████████▉| 928/938 [00:20<00:00, 40.50it/s]"
     ]
    },
    {
     "name": "stdout",
     "output_type": "stream",
     "text": [
      "Step: 920, Loss: 0.6020404696464539\n"
     ]
    },
    {
     "name": "stderr",
     "output_type": "stream",
     "text": [
      " 99%|█████████▉| 933/938 [00:20<00:00, 41.80it/s]/usr/lib/python3.10/multiprocessing/popen_fork.py:66: RuntimeWarning: os.fork() was called. os.fork() is incompatible with multithreaded code, and JAX is multithreaded, so this will likely lead to a deadlock.\n",
      "  self.pid = os.fork()\n",
      "100%|██████████| 938/938 [00:20<00:00, 44.94it/s]"
     ]
    },
    {
     "name": "stdout",
     "output_type": "stream",
     "text": [
      "Step: 930, Loss: 0.5132187008857727\n"
     ]
    },
    {
     "name": "stderr",
     "output_type": "stream",
     "text": [
      "\n"
     ]
    }
   ],
   "source": [
    "# Теперь обучим модель:\n",
    "criterion = torch.nn.CrossEntropyLoss()\n",
    "optimizer = torch.optim.Adam(model.parameters(), lr=0.01)\n",
    "\n",
    "_ = train(model, trainloader, criterion, optimizer)"
   ]
  },
  {
   "cell_type": "markdown",
   "metadata": {
    "id": "M-5yznsF-HFY"
   },
   "source": [
    "Как вы можете видеть, модель сходится, хотя и не очень хорошо. Вы должны получить лосс в диапазоне 0.5-0.9. Низкая производительность модели обусловлена тем, что трех скрытых слоев недостаточно чтобы хорошо обучить эту модель классифицировать MNIST датасет.\n",
    "\n",
    "Теперь попробуйте увеличить количество скрытых слоев до 10 и обучить модель еще раз."
   ]
  },
  {
   "cell_type": "markdown",
   "metadata": {
    "id": "MNoNuy9uNgTa"
   },
   "source": [
    "**Задача 4:** Увеличьте число скрытых слоев до 10."
   ]
  },
  {
   "cell_type": "code",
   "execution_count": null,
   "metadata": {
    "execution": {
     "iopub.execute_input": "2024-05-09T06:32:17.561504Z",
     "iopub.status.busy": "2024-05-09T06:32:17.560282Z",
     "iopub.status.idle": "2024-05-09T06:32:17.577521Z",
     "shell.execute_reply": "2024-05-09T06:32:17.576518Z",
     "shell.execute_reply.started": "2024-05-09T06:32:17.561464Z"
    },
    "id": "U_TvJ0QYSByU",
    "tags": []
   },
   "outputs": [],
   "source": [
    "torch.manual_seed(42)\n",
    "\n",
    "# Инициализация модели, лосс функции и оптимайзера:\n",
    "input_size = 28 * 28 # MNIST image size\n",
    "hidden_size = 32\n",
    "output_size = 10\n",
    "n_hidden = 10\n",
    "model = DeepMLP(input_size, hidden_size, output_size, n_hidden).to(device)"
   ]
  },
  {
   "cell_type": "markdown",
   "metadata": {
    "id": "_0piWj0tSWLA"
   },
   "source": [
    "**Вопрос:** Посчитайте и выведите количество скрытых слоев модели.\n",
    "\n",
    "**Пример ответа:** `3`"
   ]
  },
  {
   "cell_type": "markdown",
   "metadata": {
    "id": "d7MS-GARMy5Q"
   },
   "source": [
    "<div style=\"width: 100%; background: #eeeeff; padding: 10px\">\n",
    "    <h3>Как решаем</h3>\n",
    "    <div>Посчитаем размер model.hidden_layers</div>\n",
    "</div>"
   ]
  },
  {
   "cell_type": "code",
   "execution_count": null,
   "metadata": {
    "colab": {
     "base_uri": "https://localhost:8080/"
    },
    "execution": {
     "iopub.execute_input": "2024-05-09T06:32:17.579191Z",
     "iopub.status.busy": "2024-05-09T06:32:17.578569Z",
     "iopub.status.idle": "2024-05-09T06:32:17.594464Z",
     "shell.execute_reply": "2024-05-09T06:32:17.593417Z",
     "shell.execute_reply.started": "2024-05-09T06:32:17.579135Z"
    },
    "id": "FvC2WyBESSN3",
    "outputId": "7e367b67-858b-4226-d3c5-79317ad3bdf8",
    "tags": []
   },
   "outputs": [
    {
     "data": {
      "text/plain": [
       "10"
      ]
     },
     "execution_count": 14,
     "metadata": {},
     "output_type": "execute_result"
    }
   ],
   "source": [
    "answer = len(model.hidden_layers)\n",
    "answer   ### здесь должен быть выведен ответ"
   ]
  },
  {
   "cell_type": "code",
   "execution_count": null,
   "metadata": {
    "colab": {
     "base_uri": "https://localhost:8080/"
    },
    "execution": {
     "iopub.execute_input": "2024-05-09T06:32:17.596695Z",
     "iopub.status.busy": "2024-05-09T06:32:17.595893Z",
     "iopub.status.idle": "2024-05-09T06:32:27.648338Z",
     "shell.execute_reply": "2024-05-09T06:32:27.647066Z",
     "shell.execute_reply.started": "2024-05-09T06:32:17.596647Z"
    },
    "id": "1SRP2f3yCLAK",
    "outputId": "4ac8de3c-b65d-4c22-e5c3-77b6a2d0459d",
    "tags": []
   },
   "outputs": [
    {
     "name": "stderr",
     "output_type": "stream",
     "text": [
      "  1%|          | 11/938 [00:00<00:16, 55.71it/s]"
     ]
    },
    {
     "name": "stdout",
     "output_type": "stream",
     "text": [
      "Step: 0, Loss: 2.3116233348846436\n",
      "Step: 10, Loss: 2.2927772998809814\n"
     ]
    },
    {
     "name": "stderr",
     "output_type": "stream",
     "text": [
      "  3%|▎         | 31/938 [00:00<00:15, 59.55it/s]"
     ]
    },
    {
     "name": "stdout",
     "output_type": "stream",
     "text": [
      "Step: 20, Loss: 2.328972816467285\n",
      "Step: 30, Loss: 2.3101611137390137\n"
     ]
    },
    {
     "name": "stderr",
     "output_type": "stream",
     "text": [
      "  6%|▌         | 52/938 [00:00<00:14, 61.75it/s]"
     ]
    },
    {
     "name": "stdout",
     "output_type": "stream",
     "text": [
      "Step: 40, Loss: 2.3166162967681885\n",
      "Step: 50, Loss: 2.334524154663086\n"
     ]
    },
    {
     "name": "stderr",
     "output_type": "stream",
     "text": [
      "  8%|▊         | 73/938 [00:01<00:13, 62.08it/s]"
     ]
    },
    {
     "name": "stdout",
     "output_type": "stream",
     "text": [
      "Step: 60, Loss: 2.3023855686187744\n",
      "Step: 70, Loss: 2.3015942573547363\n"
     ]
    },
    {
     "name": "stderr",
     "output_type": "stream",
     "text": [
      "  9%|▉         | 87/938 [00:01<00:13, 63.46it/s]"
     ]
    },
    {
     "name": "stdout",
     "output_type": "stream",
     "text": [
      "Step: 80, Loss: 2.3111729621887207\n",
      "Step: 90, Loss: 2.2827999591827393\n"
     ]
    },
    {
     "name": "stderr",
     "output_type": "stream",
     "text": [
      " 12%|█▏        | 109/938 [00:01<00:14, 59.05it/s]"
     ]
    },
    {
     "name": "stdout",
     "output_type": "stream",
     "text": [
      "Step: 100, Loss: 2.3095767498016357\n",
      "Step: 110, Loss: 2.2963790893554688\n"
     ]
    },
    {
     "name": "stderr",
     "output_type": "stream",
     "text": [
      " 14%|█▍        | 131/938 [00:02<00:12, 63.44it/s]"
     ]
    },
    {
     "name": "stdout",
     "output_type": "stream",
     "text": [
      "Step: 120, Loss: 2.2688260078430176\n",
      "Step: 130, Loss: 2.2773725986480713\n"
     ]
    },
    {
     "name": "stderr",
     "output_type": "stream",
     "text": [
      " 16%|█▌        | 152/938 [00:02<00:12, 62.82it/s]"
     ]
    },
    {
     "name": "stdout",
     "output_type": "stream",
     "text": [
      "Step: 140, Loss: 2.292206048965454\n",
      "Step: 150, Loss: 2.307490348815918\n"
     ]
    },
    {
     "name": "stderr",
     "output_type": "stream",
     "text": [
      " 18%|█▊        | 167/938 [00:02<00:12, 62.77it/s]"
     ]
    },
    {
     "name": "stdout",
     "output_type": "stream",
     "text": [
      "Step: 160, Loss: 2.305772542953491\n",
      "Step: 170, Loss: 2.2927846908569336\n"
     ]
    },
    {
     "name": "stderr",
     "output_type": "stream",
     "text": [
      " 20%|██        | 188/938 [00:03<00:12, 61.02it/s]"
     ]
    },
    {
     "name": "stdout",
     "output_type": "stream",
     "text": [
      "Step: 180, Loss: 2.2967801094055176\n",
      "Step: 190, Loss: 2.303372383117676\n"
     ]
    },
    {
     "name": "stderr",
     "output_type": "stream",
     "text": [
      " 22%|██▏       | 209/938 [00:03<00:11, 62.95it/s]"
     ]
    },
    {
     "name": "stdout",
     "output_type": "stream",
     "text": [
      "Step: 200, Loss: 2.2963032722473145\n",
      "Step: 210, Loss: 2.3021481037139893\n"
     ]
    },
    {
     "name": "stderr",
     "output_type": "stream",
     "text": [
      " 25%|██▍       | 231/938 [00:03<00:11, 64.14it/s]"
     ]
    },
    {
     "name": "stdout",
     "output_type": "stream",
     "text": [
      "Step: 220, Loss: 2.320111036300659\n",
      "Step: 230, Loss: 2.296765089035034\n"
     ]
    },
    {
     "name": "stderr",
     "output_type": "stream",
     "text": [
      " 27%|██▋       | 252/938 [00:04<00:10, 62.94it/s]"
     ]
    },
    {
     "name": "stdout",
     "output_type": "stream",
     "text": [
      "Step: 240, Loss: 2.316693067550659\n",
      "Step: 250, Loss: 2.300535202026367\n"
     ]
    },
    {
     "name": "stderr",
     "output_type": "stream",
     "text": [
      " 29%|██▉       | 273/938 [00:04<00:10, 65.18it/s]"
     ]
    },
    {
     "name": "stdout",
     "output_type": "stream",
     "text": [
      "Step: 260, Loss: 2.3093209266662598\n",
      "Step: 270, Loss: 2.3047685623168945\n"
     ]
    },
    {
     "name": "stderr",
     "output_type": "stream",
     "text": [
      " 31%|███       | 288/938 [00:04<00:09, 65.34it/s]"
     ]
    },
    {
     "name": "stdout",
     "output_type": "stream",
     "text": [
      "Step: 280, Loss: 2.298886299133301\n",
      "Step: 290, Loss: 2.2999866008758545\n"
     ]
    },
    {
     "name": "stderr",
     "output_type": "stream",
     "text": [
      " 33%|███▎      | 309/938 [00:04<00:09, 64.43it/s]"
     ]
    },
    {
     "name": "stdout",
     "output_type": "stream",
     "text": [
      "Step: 300, Loss: 2.3137307167053223\n",
      "Step: 310, Loss: 2.2899208068847656\n"
     ]
    },
    {
     "name": "stderr",
     "output_type": "stream",
     "text": [
      " 35%|███▌      | 332/938 [00:05<00:09, 65.50it/s]"
     ]
    },
    {
     "name": "stdout",
     "output_type": "stream",
     "text": [
      "Step: 320, Loss: 2.300848960876465\n",
      "Step: 330, Loss: 2.2937445640563965\n"
     ]
    },
    {
     "name": "stderr",
     "output_type": "stream",
     "text": [
      " 38%|███▊      | 353/938 [00:05<00:09, 64.56it/s]"
     ]
    },
    {
     "name": "stdout",
     "output_type": "stream",
     "text": [
      "Step: 340, Loss: 2.308018684387207\n",
      "Step: 350, Loss: 2.3129148483276367\n"
     ]
    },
    {
     "name": "stderr",
     "output_type": "stream",
     "text": [
      " 39%|███▉      | 367/938 [00:05<00:09, 62.02it/s]"
     ]
    },
    {
     "name": "stdout",
     "output_type": "stream",
     "text": [
      "Step: 360, Loss: 2.2795777320861816\n",
      "Step: 370, Loss: 2.30194091796875\n"
     ]
    },
    {
     "name": "stderr",
     "output_type": "stream",
     "text": [
      " 41%|████▏     | 389/938 [00:06<00:08, 61.60it/s]"
     ]
    },
    {
     "name": "stdout",
     "output_type": "stream",
     "text": [
      "Step: 380, Loss: 2.303889513015747\n",
      "Step: 390, Loss: 2.303920269012451\n"
     ]
    },
    {
     "name": "stderr",
     "output_type": "stream",
     "text": [
      " 44%|████▍     | 411/938 [00:06<00:08, 62.71it/s]"
     ]
    },
    {
     "name": "stdout",
     "output_type": "stream",
     "text": [
      "Step: 400, Loss: 2.319232940673828\n",
      "Step: 410, Loss: 2.3047914505004883\n"
     ]
    },
    {
     "name": "stderr",
     "output_type": "stream",
     "text": [
      " 46%|████▌     | 433/938 [00:06<00:07, 63.56it/s]"
     ]
    },
    {
     "name": "stdout",
     "output_type": "stream",
     "text": [
      "Step: 420, Loss: 2.3087210655212402\n",
      "Step: 430, Loss: 2.301931858062744\n"
     ]
    },
    {
     "name": "stderr",
     "output_type": "stream",
     "text": [
      " 48%|████▊     | 447/938 [00:07<00:07, 62.04it/s]"
     ]
    },
    {
     "name": "stdout",
     "output_type": "stream",
     "text": [
      "Step: 440, Loss: 2.3054850101470947\n",
      "Step: 450, Loss: 2.3106305599212646\n"
     ]
    },
    {
     "name": "stderr",
     "output_type": "stream",
     "text": [
      " 50%|█████     | 470/938 [00:07<00:07, 62.74it/s]"
     ]
    },
    {
     "name": "stdout",
     "output_type": "stream",
     "text": [
      "Step: 460, Loss: 2.2992072105407715\n",
      "Step: 470, Loss: 2.2997899055480957\n"
     ]
    },
    {
     "name": "stderr",
     "output_type": "stream",
     "text": [
      " 52%|█████▏    | 491/938 [00:07<00:07, 63.48it/s]"
     ]
    },
    {
     "name": "stdout",
     "output_type": "stream",
     "text": [
      "Step: 480, Loss: 2.287055015563965\n",
      "Step: 490, Loss: 2.3007149696350098\n"
     ]
    },
    {
     "name": "stderr",
     "output_type": "stream",
     "text": [
      " 55%|█████▍    | 512/938 [00:08<00:06, 61.62it/s]"
     ]
    },
    {
     "name": "stdout",
     "output_type": "stream",
     "text": [
      "Step: 500, Loss: 2.3059136867523193\n",
      "Step: 510, Loss: 2.306123971939087\n"
     ]
    },
    {
     "name": "stderr",
     "output_type": "stream",
     "text": [
      " 57%|█████▋    | 533/938 [00:08<00:06, 60.09it/s]"
     ]
    },
    {
     "name": "stdout",
     "output_type": "stream",
     "text": [
      "Step: 520, Loss: 2.296645402908325\n",
      "Step: 530, Loss: 2.298402786254883\n"
     ]
    },
    {
     "name": "stderr",
     "output_type": "stream",
     "text": [
      " 58%|█████▊    | 547/938 [00:08<00:06, 61.38it/s]"
     ]
    },
    {
     "name": "stdout",
     "output_type": "stream",
     "text": [
      "Step: 540, Loss: 2.3022847175598145\n",
      "Step: 550, Loss: 2.300930976867676\n"
     ]
    },
    {
     "name": "stderr",
     "output_type": "stream",
     "text": [
      " 61%|██████    | 570/938 [00:09<00:05, 61.66it/s]"
     ]
    },
    {
     "name": "stdout",
     "output_type": "stream",
     "text": [
      "Step: 560, Loss: 2.294130802154541\n",
      "Step: 570, Loss: 2.3121466636657715\n"
     ]
    },
    {
     "name": "stderr",
     "output_type": "stream",
     "text": [
      " 63%|██████▎   | 591/938 [00:09<00:05, 62.60it/s]"
     ]
    },
    {
     "name": "stdout",
     "output_type": "stream",
     "text": [
      "Step: 580, Loss: 2.307267665863037\n",
      "Step: 590, Loss: 2.3139259815216064\n"
     ]
    },
    {
     "name": "stderr",
     "output_type": "stream",
     "text": [
      " 65%|██████▌   | 612/938 [00:09<00:05, 61.97it/s]"
     ]
    },
    {
     "name": "stdout",
     "output_type": "stream",
     "text": [
      "Step: 600, Loss: 2.295274496078491\n",
      "Step: 610, Loss: 2.3205597400665283\n"
     ]
    },
    {
     "name": "stderr",
     "output_type": "stream",
     "text": [
      " 67%|██████▋   | 627/938 [00:10<00:04, 62.22it/s]"
     ]
    },
    {
     "name": "stdout",
     "output_type": "stream",
     "text": [
      "Step: 620, Loss: 2.299974203109741\n",
      "Step: 630, Loss: 2.311312437057495\n"
     ]
    },
    {
     "name": "stderr",
     "output_type": "stream",
     "text": [
      " 69%|██████▉   | 646/938 [00:10<00:06, 47.07it/s]"
     ]
    },
    {
     "name": "stdout",
     "output_type": "stream",
     "text": [
      "Step: 640, Loss: 2.2809948921203613\n"
     ]
    },
    {
     "name": "stderr",
     "output_type": "stream",
     "text": [
      " 70%|███████   | 658/938 [00:10<00:05, 48.53it/s]"
     ]
    },
    {
     "name": "stdout",
     "output_type": "stream",
     "text": [
      "Step: 650, Loss: 2.298368215560913\n"
     ]
    },
    {
     "name": "stderr",
     "output_type": "stream",
     "text": [
      " 71%|███████   | 668/938 [00:10<00:06, 44.05it/s]"
     ]
    },
    {
     "name": "stdout",
     "output_type": "stream",
     "text": [
      "Step: 660, Loss: 2.306234121322632\n"
     ]
    },
    {
     "name": "stderr",
     "output_type": "stream",
     "text": [
      " 72%|███████▏  | 678/938 [00:11<00:05, 44.56it/s]"
     ]
    },
    {
     "name": "stdout",
     "output_type": "stream",
     "text": [
      "Step: 670, Loss: 2.292137384414673\n"
     ]
    },
    {
     "name": "stderr",
     "output_type": "stream",
     "text": [
      " 73%|███████▎  | 688/938 [00:11<00:05, 42.90it/s]"
     ]
    },
    {
     "name": "stdout",
     "output_type": "stream",
     "text": [
      "Step: 680, Loss: 2.3122923374176025\n"
     ]
    },
    {
     "name": "stderr",
     "output_type": "stream",
     "text": [
      " 74%|███████▍  | 698/938 [00:11<00:05, 42.41it/s]"
     ]
    },
    {
     "name": "stdout",
     "output_type": "stream",
     "text": [
      "Step: 690, Loss: 2.3026340007781982\n"
     ]
    },
    {
     "name": "stderr",
     "output_type": "stream",
     "text": [
      " 75%|███████▌  | 708/938 [00:11<00:05, 41.26it/s]"
     ]
    },
    {
     "name": "stdout",
     "output_type": "stream",
     "text": [
      "Step: 700, Loss: 2.3024537563323975\n"
     ]
    },
    {
     "name": "stderr",
     "output_type": "stream",
     "text": [
      " 77%|███████▋  | 718/938 [00:12<00:05, 41.26it/s]"
     ]
    },
    {
     "name": "stdout",
     "output_type": "stream",
     "text": [
      "Step: 710, Loss: 2.2988364696502686\n"
     ]
    },
    {
     "name": "stderr",
     "output_type": "stream",
     "text": [
      " 78%|███████▊  | 728/938 [00:12<00:05, 41.53it/s]"
     ]
    },
    {
     "name": "stdout",
     "output_type": "stream",
     "text": [
      "Step: 720, Loss: 2.316863775253296\n"
     ]
    },
    {
     "name": "stderr",
     "output_type": "stream",
     "text": [
      " 78%|███████▊  | 733/938 [00:12<00:04, 41.45it/s]"
     ]
    },
    {
     "name": "stdout",
     "output_type": "stream",
     "text": [
      "Step: 730, Loss: 2.3063321113586426\n"
     ]
    },
    {
     "name": "stderr",
     "output_type": "stream",
     "text": [
      " 80%|███████▉  | 747/938 [00:12<00:04, 38.88it/s]"
     ]
    },
    {
     "name": "stdout",
     "output_type": "stream",
     "text": [
      "Step: 740, Loss: 2.2941949367523193\n"
     ]
    },
    {
     "name": "stderr",
     "output_type": "stream",
     "text": [
      " 81%|████████  | 756/938 [00:13<00:04, 40.31it/s]"
     ]
    },
    {
     "name": "stdout",
     "output_type": "stream",
     "text": [
      "Step: 750, Loss: 2.2960398197174072\n"
     ]
    },
    {
     "name": "stderr",
     "output_type": "stream",
     "text": [
      " 82%|████████▏ | 766/938 [00:13<00:04, 39.05it/s]"
     ]
    },
    {
     "name": "stdout",
     "output_type": "stream",
     "text": [
      "Step: 760, Loss: 2.3012545108795166\n"
     ]
    },
    {
     "name": "stderr",
     "output_type": "stream",
     "text": [
      " 83%|████████▎ | 777/938 [00:13<00:03, 40.32it/s]"
     ]
    },
    {
     "name": "stdout",
     "output_type": "stream",
     "text": [
      "Step: 770, Loss: 2.3173434734344482\n"
     ]
    },
    {
     "name": "stderr",
     "output_type": "stream",
     "text": [
      " 84%|████████▍ | 789/938 [00:13<00:03, 46.93it/s]"
     ]
    },
    {
     "name": "stdout",
     "output_type": "stream",
     "text": [
      "Step: 780, Loss: 2.292786121368408\n",
      "Step: 790, Loss: 2.2951321601867676\n"
     ]
    },
    {
     "name": "stderr",
     "output_type": "stream",
     "text": [
      " 86%|████████▋ | 810/938 [00:14<00:02, 58.21it/s]"
     ]
    },
    {
     "name": "stdout",
     "output_type": "stream",
     "text": [
      "Step: 800, Loss: 2.2958858013153076\n",
      "Step: 810, Loss: 2.3131911754608154\n"
     ]
    },
    {
     "name": "stderr",
     "output_type": "stream",
     "text": [
      " 88%|████████▊ | 830/938 [00:14<00:01, 59.98it/s]"
     ]
    },
    {
     "name": "stdout",
     "output_type": "stream",
     "text": [
      "Step: 820, Loss: 2.3094000816345215\n",
      "Step: 830, Loss: 2.3140485286712646\n"
     ]
    },
    {
     "name": "stderr",
     "output_type": "stream",
     "text": [
      " 91%|█████████ | 852/938 [00:14<00:01, 63.08it/s]"
     ]
    },
    {
     "name": "stdout",
     "output_type": "stream",
     "text": [
      "Step: 840, Loss: 2.3108716011047363\n",
      "Step: 850, Loss: 2.3054323196411133\n"
     ]
    },
    {
     "name": "stderr",
     "output_type": "stream",
     "text": [
      " 93%|█████████▎| 874/938 [00:15<00:01, 63.94it/s]"
     ]
    },
    {
     "name": "stdout",
     "output_type": "stream",
     "text": [
      "Step: 860, Loss: 2.3024682998657227\n",
      "Step: 870, Loss: 2.2862768173217773\n"
     ]
    },
    {
     "name": "stderr",
     "output_type": "stream",
     "text": [
      " 95%|█████████▍| 888/938 [00:15<00:00, 63.18it/s]"
     ]
    },
    {
     "name": "stdout",
     "output_type": "stream",
     "text": [
      "Step: 880, Loss: 2.297034978866577\n",
      "Step: 890, Loss: 2.303971529006958\n"
     ]
    },
    {
     "name": "stderr",
     "output_type": "stream",
     "text": [
      " 97%|█████████▋| 910/938 [00:15<00:00, 62.82it/s]"
     ]
    },
    {
     "name": "stdout",
     "output_type": "stream",
     "text": [
      "Step: 900, Loss: 2.301696300506592\n",
      "Step: 910, Loss: 2.2977375984191895\n"
     ]
    },
    {
     "name": "stderr",
     "output_type": "stream",
     "text": [
      " 99%|█████████▉| 931/938 [00:16<00:00, 63.79it/s]"
     ]
    },
    {
     "name": "stdout",
     "output_type": "stream",
     "text": [
      "Step: 920, Loss: 2.2961878776550293\n",
      "Step: 930, Loss: 2.297501564025879\n"
     ]
    },
    {
     "name": "stderr",
     "output_type": "stream",
     "text": [
      "100%|██████████| 938/938 [00:16<00:00, 57.59it/s]\n"
     ]
    }
   ],
   "source": [
    "# Обучите модель еще раз:\n",
    "criterion = torch.nn.CrossEntropyLoss()\n",
    "optimizer = torch.optim.Adam(model.parameters(), lr=0.01)\n",
    "\n",
    "fc_gradients = train(model, trainloader, criterion, optimizer)"
   ]
  },
  {
   "cell_type": "markdown",
   "metadata": {
    "id": "affdDjGwpkhE"
   },
   "source": [
    "Как вы можете видеть, лосс прекратил уменьшаться. Почему так произошло? Давайте визуализируем градиент для первого скрытого слоя (который записан в переменную fc_gradients; остальные скрытые слои будут иметь похожий градиена, так что опустим их)."
   ]
  },
  {
   "cell_type": "code",
   "execution_count": null,
   "metadata": {
    "colab": {
     "base_uri": "https://localhost:8080/",
     "height": 491
    },
    "execution": {
     "iopub.execute_input": "2024-05-09T06:32:27.651397Z",
     "iopub.status.busy": "2024-05-09T06:32:27.649961Z",
     "iopub.status.idle": "2024-05-09T06:32:28.244549Z",
     "shell.execute_reply": "2024-05-09T06:32:28.243571Z",
     "shell.execute_reply.started": "2024-05-09T06:32:27.651332Z"
    },
    "id": "HAWCQvPcnVjf",
    "outputId": "6afe54e7-3b6e-402b-e5e0-90ecacbe1dff",
    "tags": []
   },
   "outputs": [
    {
     "name": "stderr",
     "output_type": "stream",
     "text": [
      "WARNING:matplotlib.legend:No artists with labels found to put in legend.  Note that artists whose label start with an underscore are ignored when legend() is called with no argument.\n"
     ]
    },
    {
     "data": {
      "image/png": "[encoded data removed]",
      "text/plain": [
       "<Figure size 640x480 with 1 Axes>"
      ]
     },
     "metadata": {},
     "output_type": "display_data"
    }
   ],
   "source": [
    "# Визуализируйте градиент:\n",
    "plt.plot(torch.tensor(fc_gradients).cpu())\n",
    "plt.legend()\n",
    "plt.title(\"Gradients of Linear Layers\")\n",
    "plt.xlabel(\"Training Step\")\n",
    "plt.ylabel(\"Gradient Value\")\n",
    "plt.show()"
   ]
  },
  {
   "cell_type": "markdown",
   "metadata": {
    "id": "KCIGhCZGpi36"
   },
   "source": [
    "Как видите, после примерно 300 итерации градиент начал *затухать*, что означает, что веса скрытых слоев перестали обучаться. По этой причине лосс и перестал уменьшаться, т.к. градиент стал слишком мал чтобы влиять на веса слоев.\n",
    "\n",
    "Глубокие модели (с большим числом скрытых слоев) подвержены проблеме затухания градиента, что приводит к тому, что такие модели не могут обучаться эффективно.\n",
    "\n",
    "Одна из причин этого (в этом примере) это использования sigmoid в качестве функции активации. Давайте изменим функцию активации на ReLU и переобучим модель еще раз."
   ]
  },
  {
   "cell_type": "markdown",
   "metadata": {
    "id": "5zfV3UDUNpBb"
   },
   "source": [
    "**Задача 5:** Замените sigmoid на ReLU"
   ]
  },
  {
   "cell_type": "code",
   "execution_count": null,
   "metadata": {
    "execution": {
     "iopub.execute_input": "2024-05-09T06:32:28.246917Z",
     "iopub.status.busy": "2024-05-09T06:32:28.246094Z",
     "iopub.status.idle": "2024-05-09T06:32:28.260395Z",
     "shell.execute_reply": "2024-05-09T06:32:28.259353Z",
     "shell.execute_reply.started": "2024-05-09T06:32:28.246864Z"
    },
    "id": "Ew7ay6l5Gmnw",
    "tags": []
   },
   "outputs": [],
   "source": [
    "# Замените sigmoid на ReLU:\n",
    "class DeepMLP_ReLU(nn.Module):\n",
    "    def __init__(self, input_size, hidden_size, output_size, n_hidden):\n",
    "        super(DeepMLP_ReLU, self).__init__()\n",
    "        self.input_layer = nn.Linear(input_size, hidden_size)\n",
    "        self.hidden_layers = nn.ModuleList([nn.Linear(hidden_size, hidden_size) for _ in range(n_hidden)])\n",
    "        self.output_layer = nn.Linear(hidden_size, output_size)\n",
    "\n",
    "    def forward(self, x):\n",
    "        x = x.view(-1, 28 * 28)\n",
    "        x = self.input_layer(x)\n",
    "        for hidden_layer in self.hidden_layers:\n",
    "            x = F.relu(hidden_layer(x))\n",
    "        x = self.output_layer(x)\n",
    "        return x\n"
   ]
  },
  {
   "cell_type": "markdown",
   "metadata": {
    "id": "EtfHKOkRVvBx"
   },
   "source": [
    "**Вопрос:** Посчитайте и выведите сумму всех выходов модели для рандмного входного тензора test_input\n",
    "\n",
    "**Пример ответа:** `0.234`"
   ]
  },
  {
   "cell_type": "markdown",
   "metadata": {
    "id": "QKDlKfG6My5R"
   },
   "source": [
    "<div style=\"width: 100%; background: #eeeeff; padding: 10px\">\n",
    "    <h3>Как решаем</h3>\n",
    "    <div>Вызываем forward с полученным тензоров test_input и суммируем значения полученного массива</div>\n",
    "</div>"
   ]
  },
  {
   "cell_type": "code",
   "execution_count": null,
   "metadata": {
    "execution": {
     "iopub.execute_input": "2024-05-09T06:32:28.262451Z",
     "iopub.status.busy": "2024-05-09T06:32:28.261557Z",
     "iopub.status.idle": "2024-05-09T06:32:28.282296Z",
     "shell.execute_reply": "2024-05-09T06:32:28.281257Z",
     "shell.execute_reply.started": "2024-05-09T06:32:28.262399Z"
    },
    "id": "jdGs2f3rTEh7",
    "tags": []
   },
   "outputs": [],
   "source": [
    "# Инициализируйте модель с ReLU:\n",
    "torch.manual_seed(42)\n",
    "\n",
    "input_size = 28 * 28\n",
    "hidden_size = 32\n",
    "output_size = 10\n",
    "n_hidden=10\n",
    "model_relu = DeepMLP_ReLU(input_size, hidden_size, output_size, n_hidden).to(device)"
   ]
  },
  {
   "cell_type": "code",
   "execution_count": null,
   "metadata": {
    "colab": {
     "base_uri": "https://localhost:8080/"
    },
    "execution": {
     "iopub.execute_input": "2024-05-09T06:32:28.284832Z",
     "iopub.status.busy": "2024-05-09T06:32:28.283802Z",
     "iopub.status.idle": "2024-05-09T06:32:28.311288Z",
     "shell.execute_reply": "2024-05-09T06:32:28.310242Z",
     "shell.execute_reply.started": "2024-05-09T06:32:28.284795Z"
    },
    "id": "P7oUfFVrWaSS",
    "outputId": "7023568c-7265-4a8d-dc4e-9c86a09ee832",
    "tags": []
   },
   "outputs": [
    {
     "data": {
      "text/plain": [
       "tensor(-0.2574, device='cuda:0', grad_fn=<SumBackward0>)"
      ]
     },
     "execution_count": 19,
     "metadata": {},
     "output_type": "execute_result"
    }
   ],
   "source": [
    "torch.manual_seed(42)\n",
    "test_input = torch.rand(1, 28*28).to(device)\n",
    "output = model(test_input)\n",
    "\n",
    "answer = torch.sum(output)\n",
    "answer   ### здесь должен быть выведен ответ"
   ]
  },
  {
   "cell_type": "code",
   "execution_count": null,
   "metadata": {
    "colab": {
     "base_uri": "https://localhost:8080/"
    },
    "execution": {
     "iopub.execute_input": "2024-05-09T06:32:28.313555Z",
     "iopub.status.busy": "2024-05-09T06:32:28.312631Z",
     "iopub.status.idle": "2024-05-09T06:32:38.796953Z",
     "shell.execute_reply": "2024-05-09T06:32:38.795536Z",
     "shell.execute_reply.started": "2024-05-09T06:32:28.313505Z"
    },
    "id": "IbGt_9VlUN8F",
    "outputId": "28da58f3-36b9-48b3-c47b-dd4168f92ccc",
    "tags": []
   },
   "outputs": [
    {
     "name": "stderr",
     "output_type": "stream",
     "text": [
      "  1%|          | 10/938 [00:00<00:19, 47.72it/s]"
     ]
    },
    {
     "name": "stdout",
     "output_type": "stream",
     "text": [
      "Step: 0, Loss: 2.3037009239196777\n",
      "Step: 10, Loss: 2.2954561710357666\n"
     ]
    },
    {
     "name": "stderr",
     "output_type": "stream",
     "text": [
      "  3%|▎         | 30/938 [00:00<00:16, 55.20it/s]"
     ]
    },
    {
     "name": "stdout",
     "output_type": "stream",
     "text": [
      "Step: 20, Loss: 2.302825689315796\n",
      "Step: 30, Loss: 2.304784059524536\n"
     ]
    },
    {
     "name": "stderr",
     "output_type": "stream",
     "text": [
      "  5%|▌         | 49/938 [00:00<00:15, 57.01it/s]"
     ]
    },
    {
     "name": "stdout",
     "output_type": "stream",
     "text": [
      "Step: 40, Loss: 2.2691526412963867\n",
      "Step: 50, Loss: 2.2142844200134277\n"
     ]
    },
    {
     "name": "stderr",
     "output_type": "stream",
     "text": [
      "  7%|▋         | 70/938 [00:01<00:14, 59.24it/s]"
     ]
    },
    {
     "name": "stdout",
     "output_type": "stream",
     "text": [
      "Step: 60, Loss: 1.9159643650054932\n",
      "Step: 70, Loss: 1.9696029424667358\n"
     ]
    },
    {
     "name": "stderr",
     "output_type": "stream",
     "text": [
      " 10%|▉         | 91/938 [00:01<00:13, 61.97it/s]"
     ]
    },
    {
     "name": "stdout",
     "output_type": "stream",
     "text": [
      "Step: 80, Loss: 1.8537713289260864\n",
      "Step: 90, Loss: 1.8757920265197754\n"
     ]
    },
    {
     "name": "stderr",
     "output_type": "stream",
     "text": [
      " 12%|█▏        | 112/938 [00:01<00:13, 60.66it/s]"
     ]
    },
    {
     "name": "stdout",
     "output_type": "stream",
     "text": [
      "Step: 100, Loss: 1.755249261856079\n",
      "Step: 110, Loss: 1.9241080284118652\n"
     ]
    },
    {
     "name": "stderr",
     "output_type": "stream",
     "text": [
      " 14%|█▎        | 128/938 [00:02<00:12, 64.88it/s]"
     ]
    },
    {
     "name": "stdout",
     "output_type": "stream",
     "text": [
      "Step: 120, Loss: 1.6213148832321167\n",
      "Step: 130, Loss: 1.592047929763794\n"
     ]
    },
    {
     "name": "stderr",
     "output_type": "stream",
     "text": [
      " 16%|█▌        | 149/938 [00:02<00:12, 62.46it/s]"
     ]
    },
    {
     "name": "stdout",
     "output_type": "stream",
     "text": [
      "Step: 140, Loss: 1.6301336288452148\n",
      "Step: 150, Loss: 1.4148064851760864\n"
     ]
    },
    {
     "name": "stderr",
     "output_type": "stream",
     "text": [
      " 18%|█▊        | 170/938 [00:02<00:12, 61.86it/s]"
     ]
    },
    {
     "name": "stdout",
     "output_type": "stream",
     "text": [
      "Step: 160, Loss: 1.3613747358322144\n",
      "Step: 170, Loss: 1.7583119869232178\n"
     ]
    },
    {
     "name": "stderr",
     "output_type": "stream",
     "text": [
      " 20%|██        | 192/938 [00:03<00:11, 65.23it/s]"
     ]
    },
    {
     "name": "stdout",
     "output_type": "stream",
     "text": [
      "Step: 180, Loss: 1.4944343566894531\n",
      "Step: 190, Loss: 1.3037604093551636\n"
     ]
    },
    {
     "name": "stderr",
     "output_type": "stream",
     "text": [
      " 23%|██▎       | 213/938 [00:03<00:11, 62.38it/s]"
     ]
    },
    {
     "name": "stdout",
     "output_type": "stream",
     "text": [
      "Step: 200, Loss: 1.3115638494491577\n",
      "Step: 210, Loss: 1.5537954568862915\n"
     ]
    },
    {
     "name": "stderr",
     "output_type": "stream",
     "text": [
      " 24%|██▍       | 227/938 [00:03<00:12, 58.65it/s]"
     ]
    },
    {
     "name": "stdout",
     "output_type": "stream",
     "text": [
      "Step: 220, Loss: 1.300612211227417\n",
      "Step: 230, Loss: 1.347327709197998\n"
     ]
    },
    {
     "name": "stderr",
     "output_type": "stream",
     "text": [
      " 26%|██▋       | 248/938 [00:04<00:10, 63.09it/s]"
     ]
    },
    {
     "name": "stdout",
     "output_type": "stream",
     "text": [
      "Step: 240, Loss: 1.8815038204193115\n",
      "Step: 250, Loss: 1.3414229154586792\n"
     ]
    },
    {
     "name": "stderr",
     "output_type": "stream",
     "text": [
      " 29%|██▊       | 269/938 [00:04<00:11, 58.87it/s]"
     ]
    },
    {
     "name": "stdout",
     "output_type": "stream",
     "text": [
      "Step: 260, Loss: 1.6142351627349854\n"
     ]
    },
    {
     "name": "stderr",
     "output_type": "stream",
     "text": [
      " 29%|██▉       | 275/938 [00:04<00:12, 54.19it/s]"
     ]
    },
    {
     "name": "stdout",
     "output_type": "stream",
     "text": [
      "Step: 270, Loss: 1.4904329776763916\n",
      "Step: 280, Loss: 2.08734130859375\n"
     ]
    },
    {
     "name": "stderr",
     "output_type": "stream",
     "text": [
      " 32%|███▏      | 302/938 [00:05<00:10, 58.40it/s]"
     ]
    },
    {
     "name": "stdout",
     "output_type": "stream",
     "text": [
      "Step: 290, Loss: 2.2944140434265137\n",
      "Step: 300, Loss: 1.989254355430603\n"
     ]
    },
    {
     "name": "stderr",
     "output_type": "stream",
     "text": [
      " 34%|███▍      | 323/938 [00:05<00:09, 61.56it/s]"
     ]
    },
    {
     "name": "stdout",
     "output_type": "stream",
     "text": [
      "Step: 310, Loss: 1.7364696264266968\n",
      "Step: 320, Loss: 1.6963292360305786\n"
     ]
    },
    {
     "name": "stderr",
     "output_type": "stream",
     "text": [
      " 37%|███▋      | 344/938 [00:05<00:09, 62.40it/s]"
     ]
    },
    {
     "name": "stdout",
     "output_type": "stream",
     "text": [
      "Step: 330, Loss: 1.570088505744934\n",
      "Step: 340, Loss: 1.4915575981140137\n"
     ]
    },
    {
     "name": "stderr",
     "output_type": "stream",
     "text": [
      " 38%|███▊      | 359/938 [00:06<00:09, 62.54it/s]"
     ]
    },
    {
     "name": "stdout",
     "output_type": "stream",
     "text": [
      "Step: 350, Loss: 1.6097455024719238\n",
      "Step: 360, Loss: 1.5979137420654297\n"
     ]
    },
    {
     "name": "stderr",
     "output_type": "stream",
     "text": [
      " 41%|████      | 380/938 [00:06<00:08, 62.35it/s]"
     ]
    },
    {
     "name": "stdout",
     "output_type": "stream",
     "text": [
      "Step: 370, Loss: 1.5623785257339478\n",
      "Step: 380, Loss: 1.485694408416748\n"
     ]
    },
    {
     "name": "stderr",
     "output_type": "stream",
     "text": [
      " 43%|████▎     | 401/938 [00:06<00:08, 61.38it/s]"
     ]
    },
    {
     "name": "stdout",
     "output_type": "stream",
     "text": [
      "Step: 390, Loss: 1.3820677995681763\n",
      "Step: 400, Loss: 1.5611592531204224\n"
     ]
    },
    {
     "name": "stderr",
     "output_type": "stream",
     "text": [
      " 45%|████▍     | 422/938 [00:07<00:08, 60.18it/s]"
     ]
    },
    {
     "name": "stdout",
     "output_type": "stream",
     "text": [
      "Step: 410, Loss: 1.4013158082962036\n",
      "Step: 420, Loss: 1.451932668685913\n"
     ]
    },
    {
     "name": "stderr",
     "output_type": "stream",
     "text": [
      " 46%|████▋     | 435/938 [00:07<00:10, 48.59it/s]"
     ]
    },
    {
     "name": "stdout",
     "output_type": "stream",
     "text": [
      "Step: 430, Loss: 1.3206346035003662\n"
     ]
    },
    {
     "name": "stderr",
     "output_type": "stream",
     "text": [
      " 48%|████▊     | 447/938 [00:07<00:10, 45.51it/s]"
     ]
    },
    {
     "name": "stdout",
     "output_type": "stream",
     "text": [
      "Step: 440, Loss: 1.4083579778671265\n"
     ]
    },
    {
     "name": "stderr",
     "output_type": "stream",
     "text": [
      " 49%|████▊     | 457/938 [00:07<00:11, 43.48it/s]"
     ]
    },
    {
     "name": "stdout",
     "output_type": "stream",
     "text": [
      "Step: 450, Loss: 1.3467603921890259\n"
     ]
    },
    {
     "name": "stderr",
     "output_type": "stream",
     "text": [
      " 50%|████▉     | 467/938 [00:08<00:11, 40.71it/s]"
     ]
    },
    {
     "name": "stdout",
     "output_type": "stream",
     "text": [
      "Step: 460, Loss: 1.388302206993103\n"
     ]
    },
    {
     "name": "stderr",
     "output_type": "stream",
     "text": [
      " 51%|█████     | 477/938 [00:08<00:11, 40.23it/s]"
     ]
    },
    {
     "name": "stdout",
     "output_type": "stream",
     "text": [
      "Step: 470, Loss: 1.1975218057632446\n"
     ]
    },
    {
     "name": "stderr",
     "output_type": "stream",
     "text": [
      " 52%|█████▏    | 487/938 [00:08<00:11, 40.30it/s]"
     ]
    },
    {
     "name": "stdout",
     "output_type": "stream",
     "text": [
      "Step: 480, Loss: 1.322036862373352\n"
     ]
    },
    {
     "name": "stderr",
     "output_type": "stream",
     "text": [
      " 53%|█████▎    | 498/938 [00:08<00:10, 40.66it/s]"
     ]
    },
    {
     "name": "stdout",
     "output_type": "stream",
     "text": [
      "Step: 490, Loss: 1.2698763608932495\n"
     ]
    },
    {
     "name": "stderr",
     "output_type": "stream",
     "text": [
      " 54%|█████▎    | 503/938 [00:09<00:11, 39.06it/s]"
     ]
    },
    {
     "name": "stdout",
     "output_type": "stream",
     "text": [
      "Step: 500, Loss: 1.2775744199752808\n"
     ]
    },
    {
     "name": "stderr",
     "output_type": "stream",
     "text": [
      " 55%|█████▍    | 514/938 [00:09<00:10, 41.83it/s]"
     ]
    },
    {
     "name": "stdout",
     "output_type": "stream",
     "text": [
      "Step: 510, Loss: 1.5005029439926147\n"
     ]
    },
    {
     "name": "stderr",
     "output_type": "stream",
     "text": [
      " 56%|█████▌    | 524/938 [00:09<00:10, 40.65it/s]"
     ]
    },
    {
     "name": "stdout",
     "output_type": "stream",
     "text": [
      "Step: 520, Loss: 1.6284371614456177\n"
     ]
    },
    {
     "name": "stderr",
     "output_type": "stream",
     "text": [
      " 57%|█████▋    | 537/938 [00:09<00:10, 36.50it/s]"
     ]
    },
    {
     "name": "stdout",
     "output_type": "stream",
     "text": [
      "Step: 530, Loss: 1.3923218250274658\n"
     ]
    },
    {
     "name": "stderr",
     "output_type": "stream",
     "text": [
      " 58%|█████▊    | 545/938 [00:10<00:10, 36.20it/s]"
     ]
    },
    {
     "name": "stdout",
     "output_type": "stream",
     "text": [
      "Step: 540, Loss: 1.2296490669250488\n"
     ]
    },
    {
     "name": "stderr",
     "output_type": "stream",
     "text": [
      " 60%|█████▉    | 560/938 [00:10<00:09, 42.00it/s]"
     ]
    },
    {
     "name": "stdout",
     "output_type": "stream",
     "text": [
      "Step: 550, Loss: 1.216318130493164\n",
      "Step: 560, Loss: 1.3948431015014648\n"
     ]
    },
    {
     "name": "stderr",
     "output_type": "stream",
     "text": [
      " 62%|██████▏   | 582/938 [00:10<00:06, 55.26it/s]"
     ]
    },
    {
     "name": "stdout",
     "output_type": "stream",
     "text": [
      "Step: 570, Loss: 1.504318118095398\n",
      "Step: 580, Loss: 1.2066500186920166\n"
     ]
    },
    {
     "name": "stderr",
     "output_type": "stream",
     "text": [
      " 64%|██████▎   | 596/938 [00:11<00:05, 58.55it/s]"
     ]
    },
    {
     "name": "stdout",
     "output_type": "stream",
     "text": [
      "Step: 590, Loss: 1.6481425762176514\n",
      "Step: 600, Loss: 1.1961365938186646\n"
     ]
    },
    {
     "name": "stderr",
     "output_type": "stream",
     "text": [
      " 66%|██████▌   | 617/938 [00:11<00:05, 60.18it/s]"
     ]
    },
    {
     "name": "stdout",
     "output_type": "stream",
     "text": [
      "Step: 610, Loss: 1.1553452014923096\n",
      "Step: 620, Loss: 1.3278205394744873\n"
     ]
    },
    {
     "name": "stderr",
     "output_type": "stream",
     "text": [
      " 68%|██████▊   | 638/938 [00:11<00:04, 63.49it/s]"
     ]
    },
    {
     "name": "stdout",
     "output_type": "stream",
     "text": [
      "Step: 630, Loss: 1.9986506700515747\n",
      "Step: 640, Loss: 1.1789354085922241\n"
     ]
    },
    {
     "name": "stderr",
     "output_type": "stream",
     "text": [
      " 70%|███████   | 659/938 [00:12<00:04, 60.34it/s]"
     ]
    },
    {
     "name": "stdout",
     "output_type": "stream",
     "text": [
      "Step: 650, Loss: 1.118448257446289\n",
      "Step: 660, Loss: 1.355739951133728\n"
     ]
    },
    {
     "name": "stderr",
     "output_type": "stream",
     "text": [
      " 72%|███████▏  | 680/938 [00:12<00:04, 58.70it/s]"
     ]
    },
    {
     "name": "stdout",
     "output_type": "stream",
     "text": [
      "Step: 670, Loss: 1.2797014713287354\n",
      "Step: 680, Loss: 1.4839719533920288\n"
     ]
    },
    {
     "name": "stderr",
     "output_type": "stream",
     "text": [
      " 75%|███████▍  | 701/938 [00:12<00:03, 61.61it/s]"
     ]
    },
    {
     "name": "stdout",
     "output_type": "stream",
     "text": [
      "Step: 690, Loss: 1.3770241737365723\n",
      "Step: 700, Loss: 1.576735019683838\n"
     ]
    },
    {
     "name": "stderr",
     "output_type": "stream",
     "text": [
      " 77%|███████▋  | 722/938 [00:13<00:03, 62.65it/s]"
     ]
    },
    {
     "name": "stdout",
     "output_type": "stream",
     "text": [
      "Step: 710, Loss: 1.2814499139785767\n",
      "Step: 720, Loss: 4.790157318115234\n"
     ]
    },
    {
     "name": "stderr",
     "output_type": "stream",
     "text": [
      " 78%|███████▊  | 736/938 [00:13<00:03, 60.93it/s]"
     ]
    },
    {
     "name": "stdout",
     "output_type": "stream",
     "text": [
      "Step: 730, Loss: 1.3061635494232178\n",
      "Step: 740, Loss: 1.2562466859817505\n"
     ]
    },
    {
     "name": "stderr",
     "output_type": "stream",
     "text": [
      " 81%|████████  | 758/938 [00:13<00:02, 62.60it/s]"
     ]
    },
    {
     "name": "stdout",
     "output_type": "stream",
     "text": [
      "Step: 750, Loss: 1.035500168800354\n",
      "Step: 760, Loss: 1.2243064641952515\n"
     ]
    },
    {
     "name": "stderr",
     "output_type": "stream",
     "text": [
      " 83%|████████▎ | 780/938 [00:14<00:02, 64.94it/s]"
     ]
    },
    {
     "name": "stdout",
     "output_type": "stream",
     "text": [
      "Step: 770, Loss: 1.2910391092300415\n",
      "Step: 780, Loss: 1.197306513786316\n"
     ]
    },
    {
     "name": "stderr",
     "output_type": "stream",
     "text": [
      " 85%|████████▌ | 801/938 [00:14<00:02, 62.00it/s]"
     ]
    },
    {
     "name": "stdout",
     "output_type": "stream",
     "text": [
      "Step: 790, Loss: 1.270922064781189\n",
      "Step: 800, Loss: 1.152504563331604\n"
     ]
    },
    {
     "name": "stderr",
     "output_type": "stream",
     "text": [
      " 88%|████████▊ | 823/938 [00:14<00:01, 63.53it/s]"
     ]
    },
    {
     "name": "stdout",
     "output_type": "stream",
     "text": [
      "Step: 810, Loss: 1.0426437854766846\n",
      "Step: 820, Loss: 1.4269789457321167\n"
     ]
    },
    {
     "name": "stderr",
     "output_type": "stream",
     "text": [
      " 89%|████████▉ | 837/938 [00:15<00:01, 62.37it/s]"
     ]
    },
    {
     "name": "stdout",
     "output_type": "stream",
     "text": [
      "Step: 830, Loss: 1.0927705764770508\n",
      "Step: 840, Loss: 1.0427659749984741\n"
     ]
    },
    {
     "name": "stderr",
     "output_type": "stream",
     "text": [
      " 92%|█████████▏| 859/938 [00:15<00:01, 61.19it/s]"
     ]
    },
    {
     "name": "stdout",
     "output_type": "stream",
     "text": [
      "Step: 850, Loss: 1.4467620849609375\n",
      "Step: 860, Loss: 0.9785715341567993\n"
     ]
    },
    {
     "name": "stderr",
     "output_type": "stream",
     "text": [
      " 94%|█████████▍| 881/938 [00:15<00:00, 62.35it/s]"
     ]
    },
    {
     "name": "stdout",
     "output_type": "stream",
     "text": [
      "Step: 870, Loss: 1.0249103307724\n",
      "Step: 880, Loss: 0.9940614104270935\n"
     ]
    },
    {
     "name": "stderr",
     "output_type": "stream",
     "text": [
      " 96%|█████████▋| 903/938 [00:16<00:00, 65.04it/s]"
     ]
    },
    {
     "name": "stdout",
     "output_type": "stream",
     "text": [
      "Step: 890, Loss: 1.119301438331604\n",
      "Step: 900, Loss: 1.4805970191955566\n"
     ]
    },
    {
     "name": "stderr",
     "output_type": "stream",
     "text": [
      " 99%|█████████▊| 924/938 [00:16<00:00, 62.18it/s]"
     ]
    },
    {
     "name": "stdout",
     "output_type": "stream",
     "text": [
      "Step: 910, Loss: 1.1320809125900269\n",
      "Step: 920, Loss: 0.9201682806015015\n"
     ]
    },
    {
     "name": "stderr",
     "output_type": "stream",
     "text": [
      "100%|██████████| 938/938 [00:16<00:00, 56.19it/s]"
     ]
    },
    {
     "name": "stdout",
     "output_type": "stream",
     "text": [
      "Step: 930, Loss: 1.3256943225860596\n"
     ]
    },
    {
     "name": "stderr",
     "output_type": "stream",
     "text": [
      "\n"
     ]
    }
   ],
   "source": [
    "# Обучите модель с ReLU:\n",
    "criterion = torch.nn.CrossEntropyLoss()\n",
    "optimizer = torch.optim.Adam(model_relu.parameters(), lr=0.01)\n",
    "\n",
    "fc_gradients = train(model_relu, trainloader, criterion, optimizer)"
   ]
  },
  {
   "cell_type": "code",
   "execution_count": null,
   "metadata": {
    "colab": {
     "base_uri": "https://localhost:8080/",
     "height": 491
    },
    "execution": {
     "iopub.execute_input": "2024-05-09T06:32:38.799586Z",
     "iopub.status.busy": "2024-05-09T06:32:38.798607Z",
     "iopub.status.idle": "2024-05-09T06:32:39.119431Z",
     "shell.execute_reply": "2024-05-09T06:32:39.118345Z",
     "shell.execute_reply.started": "2024-05-09T06:32:38.799548Z"
    },
    "id": "hPrlNdguH4Xg",
    "outputId": "71b24834-5cf1-4f30-a569-7c43928e5d35",
    "tags": []
   },
   "outputs": [
    {
     "name": "stderr",
     "output_type": "stream",
     "text": [
      "WARNING:matplotlib.legend:No artists with labels found to put in legend.  Note that artists whose label start with an underscore are ignored when legend() is called with no argument.\n"
     ]
    },
    {
     "data": {
      "image/png": "[encoded data removed]",
      "text/plain": [
       "<Figure size 640x480 with 1 Axes>"
      ]
     },
     "metadata": {},
     "output_type": "display_data"
    }
   ],
   "source": [
    "# Визуализируйте градинте:\n",
    "plt.plot(torch.tensor(fc_gradients).cpu())\n",
    "plt.legend()\n",
    "plt.title(\"Gradients of Linear Layers\")\n",
    "plt.xlabel(\"Training Step\")\n",
    "plt.ylabel(\"Gradient Value\")\n",
    "plt.show()"
   ]
  },
  {
   "cell_type": "markdown",
   "metadata": {
    "id": "KBllIvkvKXn3"
   },
   "source": [
    "Вы должны получить лосс в диапазоне 1.3-1.6. Проблема затухания градиента должна уменьшится, но не решиться полностью. Обучение глубоких нейронных сетей является нетривиальной задачей!"
   ]
  },
  {
   "cell_type": "markdown",
   "metadata": {
    "id": "o0joS4fPUQ2A"
   },
   "source": [
    "# Проблема взрыва градиента\n",
    "\n",
    "Это проблема противоположна предыдущей. Вместо стремления градиента к 0, и потери способности изменять веса слоев (а значит и обучаться), градиент может \"взорваться\" (его значения стремятся к большим числам), что приводит к очень большим и резким изменениям весов модели, не позволяя модели сходиться."
   ]
  },
  {
   "cell_type": "markdown",
   "metadata": {
    "id": "vgxvo_7fOh8a"
   },
   "source": [
    "**Задача 6:** Инициализируйте модель еще раз со следующими входными параметрами."
   ]
  },
  {
   "cell_type": "code",
   "execution_count": null,
   "metadata": {
    "execution": {
     "iopub.execute_input": "2024-05-09T06:32:39.125693Z",
     "iopub.status.busy": "2024-05-09T06:32:39.124922Z",
     "iopub.status.idle": "2024-05-09T06:32:39.213857Z",
     "shell.execute_reply": "2024-05-09T06:32:39.212754Z",
     "shell.execute_reply.started": "2024-05-09T06:32:39.125658Z"
    },
    "id": "0IXQ7wEOUqV_",
    "tags": []
   },
   "outputs": [],
   "source": [
    "torch.manual_seed(42)\n",
    "\n",
    "# Инициализация модели, лосс функции и оптимайзера:\n",
    "input_size = 28 * 28 # MNIST image size\n",
    "hidden_size = 512\n",
    "output_size = 10\n",
    "n_hidden=20\n",
    "model = DeepMLP(input_size, hidden_size, output_size, n_hidden).to(device)"
   ]
  },
  {
   "cell_type": "markdown",
   "metadata": {
    "id": "lmMUekvTg3Yb"
   },
   "source": [
    "**Вопрос:** Посчитайте и выведите сумму всех выходов модели для рандмного входного тензора test_input (да да, еще раз)\n",
    "\n",
    "**Пример ответа:** `0.234`"
   ]
  },
  {
   "cell_type": "markdown",
   "metadata": {},
   "source": [
    "<div style=\"width: 100%; background: #eeeeff; padding: 10px\">\n",
    "    <h3>Как решаем</h3>\n",
    "    <div>Аналогично, суммируем выход модели после инференса</div>\n",
    "</div>"
   ]
  },
  {
   "cell_type": "code",
   "execution_count": null,
   "metadata": {
    "colab": {
     "base_uri": "https://localhost:8080/"
    },
    "execution": {
     "iopub.execute_input": "2024-05-09T06:32:39.216812Z",
     "iopub.status.busy": "2024-05-09T06:32:39.215977Z",
     "iopub.status.idle": "2024-05-09T06:32:39.264605Z",
     "shell.execute_reply": "2024-05-09T06:32:39.263566Z",
     "shell.execute_reply.started": "2024-05-09T06:32:39.216769Z"
    },
    "id": "BwDNx4V5hS0s",
    "outputId": "d8d2939b-b6e6-4a5b-e520-efb210725fe3",
    "tags": []
   },
   "outputs": [
    {
     "data": {
      "text/plain": [
       "tensor(-0.9367, device='cuda:0', grad_fn=<SumBackward0>)"
      ]
     },
     "execution_count": 23,
     "metadata": {},
     "output_type": "execute_result"
    }
   ],
   "source": [
    "torch.manual_seed(42)\n",
    "test_input = torch.rand(1, 28*28).to(device)\n",
    "output = model(test_input)\n",
    "\n",
    "answer = torch.sum(output)\n",
    "answer   ### здесь должен быть выведен ответ"
   ]
  },
  {
   "cell_type": "code",
   "execution_count": null,
   "metadata": {
    "colab": {
     "base_uri": "https://localhost:8080/"
    },
    "execution": {
     "iopub.execute_input": "2024-05-09T06:32:39.267264Z",
     "iopub.status.busy": "2024-05-09T06:32:39.266086Z",
     "iopub.status.idle": "2024-05-09T06:32:49.515438Z",
     "shell.execute_reply": "2024-05-09T06:32:49.514018Z",
     "shell.execute_reply.started": "2024-05-09T06:32:39.267208Z"
    },
    "id": "j2LkOkphUsQ7",
    "outputId": "bf07508a-b21c-45eb-9bf1-da7f641d8201",
    "tags": []
   },
   "outputs": [
    {
     "name": "stderr",
     "output_type": "stream",
     "text": [
      "  1%|          | 8/938 [00:00<00:21, 43.99it/s]"
     ]
    },
    {
     "name": "stdout",
     "output_type": "stream",
     "text": [
      "Step: 0, Loss: 2.370612144470215\n",
      "Step: 10, Loss: 2.319352149963379\n"
     ]
    },
    {
     "name": "stderr",
     "output_type": "stream",
     "text": [
      "  4%|▎         | 33/938 [00:00<00:16, 55.81it/s]"
     ]
    },
    {
     "name": "stdout",
     "output_type": "stream",
     "text": [
      "Step: 20, Loss: 2.384559392929077\n",
      "Step: 30, Loss: 2.322371482849121\n"
     ]
    },
    {
     "name": "stderr",
     "output_type": "stream",
     "text": [
      "  5%|▌         | 51/938 [00:00<00:15, 57.22it/s]"
     ]
    },
    {
     "name": "stdout",
     "output_type": "stream",
     "text": [
      "Step: 40, Loss: 2.3334951400756836\n",
      "Step: 50, Loss: 2.335846185684204\n"
     ]
    },
    {
     "name": "stderr",
     "output_type": "stream",
     "text": [
      "  7%|▋         | 69/938 [00:01<00:16, 54.30it/s]"
     ]
    },
    {
     "name": "stdout",
     "output_type": "stream",
     "text": [
      "Step: 60, Loss: 2.337700843811035\n",
      "Step: 70, Loss: 2.294940948486328\n"
     ]
    },
    {
     "name": "stderr",
     "output_type": "stream",
     "text": [
      "  9%|▉         | 88/938 [00:01<00:14, 57.83it/s]"
     ]
    },
    {
     "name": "stdout",
     "output_type": "stream",
     "text": [
      "Step: 80, Loss: 2.3135998249053955\n",
      "Step: 90, Loss: 2.3037660121917725\n"
     ]
    },
    {
     "name": "stderr",
     "output_type": "stream",
     "text": [
      " 12%|█▏        | 112/938 [00:02<00:14, 55.31it/s]"
     ]
    },
    {
     "name": "stdout",
     "output_type": "stream",
     "text": [
      "Step: 100, Loss: 2.3035049438476562\n",
      "Step: 110, Loss: 2.311680316925049\n"
     ]
    },
    {
     "name": "stderr",
     "output_type": "stream",
     "text": [
      " 14%|█▍        | 130/938 [00:02<00:15, 53.40it/s]"
     ]
    },
    {
     "name": "stdout",
     "output_type": "stream",
     "text": [
      "Step: 120, Loss: 2.2950565814971924\n",
      "Step: 130, Loss: 2.2916624546051025\n"
     ]
    },
    {
     "name": "stderr",
     "output_type": "stream",
     "text": [
      " 16%|█▌        | 148/938 [00:02<00:14, 56.27it/s]"
     ]
    },
    {
     "name": "stdout",
     "output_type": "stream",
     "text": [
      "Step: 140, Loss: 2.303668260574341\n",
      "Step: 150, Loss: 2.308089017868042\n"
     ]
    },
    {
     "name": "stderr",
     "output_type": "stream",
     "text": [
      " 18%|█▊        | 172/938 [00:03<00:14, 54.32it/s]"
     ]
    },
    {
     "name": "stdout",
     "output_type": "stream",
     "text": [
      "Step: 160, Loss: 2.294508457183838\n",
      "Step: 170, Loss: 2.299661636352539\n"
     ]
    },
    {
     "name": "stderr",
     "output_type": "stream",
     "text": [
      " 20%|█▉        | 184/938 [00:03<00:14, 52.85it/s]"
     ]
    },
    {
     "name": "stdout",
     "output_type": "stream",
     "text": [
      "Step: 180, Loss: 2.30952787399292\n"
     ]
    },
    {
     "name": "stderr",
     "output_type": "stream",
     "text": [
      " 21%|██        | 195/938 [00:03<00:17, 43.14it/s]"
     ]
    },
    {
     "name": "stdout",
     "output_type": "stream",
     "text": [
      "Step: 190, Loss: 2.3046488761901855\n"
     ]
    },
    {
     "name": "stderr",
     "output_type": "stream",
     "text": [
      " 22%|██▏       | 205/938 [00:03<00:16, 44.14it/s]"
     ]
    },
    {
     "name": "stdout",
     "output_type": "stream",
     "text": [
      "Step: 200, Loss: 2.2925260066986084\n"
     ]
    },
    {
     "name": "stderr",
     "output_type": "stream",
     "text": [
      " 23%|██▎       | 215/938 [00:04<00:17, 42.33it/s]"
     ]
    },
    {
     "name": "stdout",
     "output_type": "stream",
     "text": [
      "Step: 210, Loss: 2.297971725463867\n"
     ]
    },
    {
     "name": "stderr",
     "output_type": "stream",
     "text": [
      " 24%|██▍       | 226/938 [00:04<00:17, 41.07it/s]"
     ]
    },
    {
     "name": "stdout",
     "output_type": "stream",
     "text": [
      "Step: 220, Loss: 2.3187084197998047\n"
     ]
    },
    {
     "name": "stderr",
     "output_type": "stream",
     "text": [
      " 26%|██▌       | 241/938 [00:04<00:16, 42.86it/s]"
     ]
    },
    {
     "name": "stdout",
     "output_type": "stream",
     "text": [
      "Step: 230, Loss: 2.296956777572632\n",
      "Step: 240, Loss: 2.320816993713379\n"
     ]
    },
    {
     "name": "stderr",
     "output_type": "stream",
     "text": [
      " 27%|██▋       | 255/938 [00:05<00:19, 35.71it/s]"
     ]
    },
    {
     "name": "stdout",
     "output_type": "stream",
     "text": [
      "Step: 250, Loss: 2.3015003204345703\n"
     ]
    },
    {
     "name": "stderr",
     "output_type": "stream",
     "text": [
      " 29%|██▊       | 268/938 [00:05<00:17, 38.48it/s]"
     ]
    },
    {
     "name": "stdout",
     "output_type": "stream",
     "text": [
      "Step: 260, Loss: 2.3070170879364014\n"
     ]
    },
    {
     "name": "stderr",
     "output_type": "stream",
     "text": [
      " 29%|██▉       | 276/938 [00:05<00:17, 37.33it/s]"
     ]
    },
    {
     "name": "stdout",
     "output_type": "stream",
     "text": [
      "Step: 270, Loss: 2.304478406906128\n"
     ]
    },
    {
     "name": "stderr",
     "output_type": "stream",
     "text": [
      " 30%|███       | 285/938 [00:06<00:19, 33.13it/s]"
     ]
    },
    {
     "name": "stdout",
     "output_type": "stream",
     "text": [
      "Step: 280, Loss: 2.3052568435668945\n"
     ]
    },
    {
     "name": "stderr",
     "output_type": "stream",
     "text": [
      " 31%|███▏      | 295/938 [00:06<00:17, 36.09it/s]"
     ]
    },
    {
     "name": "stdout",
     "output_type": "stream",
     "text": [
      "Step: 290, Loss: 2.3059661388397217\n"
     ]
    },
    {
     "name": "stderr",
     "output_type": "stream",
     "text": [
      " 32%|███▏      | 303/938 [00:06<00:20, 31.37it/s]"
     ]
    },
    {
     "name": "stdout",
     "output_type": "stream",
     "text": [
      "Step: 300, Loss: 2.3120131492614746\n"
     ]
    },
    {
     "name": "stderr",
     "output_type": "stream",
     "text": [
      " 34%|███▎      | 316/938 [00:07<00:19, 31.29it/s]"
     ]
    },
    {
     "name": "stdout",
     "output_type": "stream",
     "text": [
      "Step: 310, Loss: 2.291264057159424\n"
     ]
    },
    {
     "name": "stderr",
     "output_type": "stream",
     "text": [
      " 35%|███▍      | 328/938 [00:07<00:18, 33.43it/s]"
     ]
    },
    {
     "name": "stdout",
     "output_type": "stream",
     "text": [
      "Step: 320, Loss: 2.298677682876587\n"
     ]
    },
    {
     "name": "stderr",
     "output_type": "stream",
     "text": [
      " 36%|███▌      | 338/938 [00:07<00:15, 38.29it/s]"
     ]
    },
    {
     "name": "stdout",
     "output_type": "stream",
     "text": [
      "Step: 330, Loss: 2.296095609664917\n"
     ]
    },
    {
     "name": "stderr",
     "output_type": "stream",
     "text": [
      " 37%|███▋      | 346/938 [00:07<00:16, 36.79it/s]"
     ]
    },
    {
     "name": "stdout",
     "output_type": "stream",
     "text": [
      "Step: 340, Loss: 2.305849313735962\n"
     ]
    },
    {
     "name": "stderr",
     "output_type": "stream",
     "text": [
      " 38%|███▊      | 355/938 [00:08<00:15, 36.87it/s]"
     ]
    },
    {
     "name": "stdout",
     "output_type": "stream",
     "text": [
      "Step: 350, Loss: 2.3076021671295166\n"
     ]
    },
    {
     "name": "stderr",
     "output_type": "stream",
     "text": [
      " 39%|███▉      | 369/938 [00:08<00:13, 41.00it/s]"
     ]
    },
    {
     "name": "stdout",
     "output_type": "stream",
     "text": [
      "Step: 360, Loss: 2.2834110260009766\n"
     ]
    },
    {
     "name": "stderr",
     "output_type": "stream",
     "text": [
      " 40%|████      | 378/938 [00:08<00:14, 38.27it/s]"
     ]
    },
    {
     "name": "stdout",
     "output_type": "stream",
     "text": [
      "Step: 370, Loss: 2.298788547515869\n"
     ]
    },
    {
     "name": "stderr",
     "output_type": "stream",
     "text": [
      " 41%|████      | 386/938 [00:08<00:15, 35.96it/s]"
     ]
    },
    {
     "name": "stdout",
     "output_type": "stream",
     "text": [
      "Step: 380, Loss: 2.303243398666382\n"
     ]
    },
    {
     "name": "stderr",
     "output_type": "stream",
     "text": [
      " 42%|████▏     | 396/938 [00:09<00:13, 41.67it/s]"
     ]
    },
    {
     "name": "stdout",
     "output_type": "stream",
     "text": [
      "Step: 390, Loss: 2.30169415473938\n"
     ]
    },
    {
     "name": "stderr",
     "output_type": "stream",
     "text": [
      " 43%|████▎     | 406/938 [00:09<00:14, 37.34it/s]"
     ]
    },
    {
     "name": "stdout",
     "output_type": "stream",
     "text": [
      "Step: 400, Loss: 2.3153207302093506\n"
     ]
    },
    {
     "name": "stderr",
     "output_type": "stream",
     "text": [
      " 44%|████▍     | 414/938 [00:09<00:15, 34.78it/s]"
     ]
    },
    {
     "name": "stdout",
     "output_type": "stream",
     "text": [
      "Step: 410, Loss: 2.3035590648651123\n"
     ]
    },
    {
     "name": "stderr",
     "output_type": "stream",
     "text": [
      " 46%|████▌     | 428/938 [00:10<00:13, 38.87it/s]"
     ]
    },
    {
     "name": "stdout",
     "output_type": "stream",
     "text": [
      "Step: 420, Loss: 2.306709051132202\n"
     ]
    },
    {
     "name": "stderr",
     "output_type": "stream",
     "text": [
      " 46%|████▋     | 436/938 [00:10<00:14, 34.76it/s]"
     ]
    },
    {
     "name": "stdout",
     "output_type": "stream",
     "text": [
      "Step: 430, Loss: 2.301382064819336\n"
     ]
    },
    {
     "name": "stderr",
     "output_type": "stream",
     "text": [
      " 48%|████▊     | 451/938 [00:10<00:12, 38.83it/s]"
     ]
    },
    {
     "name": "stdout",
     "output_type": "stream",
     "text": [
      "Step: 440, Loss: 2.3099207878112793\n",
      "Step: 450, Loss: 2.3080391883850098\n"
     ]
    },
    {
     "name": "stderr",
     "output_type": "stream",
     "text": [
      " 50%|████▉     | 467/938 [00:10<00:09, 47.16it/s]"
     ]
    },
    {
     "name": "stdout",
     "output_type": "stream",
     "text": [
      "Step: 460, Loss: 2.2981133460998535\n",
      "Step: 470, Loss: 2.296691417694092\n"
     ]
    },
    {
     "name": "stderr",
     "output_type": "stream",
     "text": [
      " 52%|█████▏    | 491/938 [00:11<00:08, 53.51it/s]"
     ]
    },
    {
     "name": "stdout",
     "output_type": "stream",
     "text": [
      "Step: 480, Loss: 2.2905995845794678\n",
      "Step: 490, Loss: 2.301241874694824\n"
     ]
    },
    {
     "name": "stderr",
     "output_type": "stream",
     "text": [
      " 54%|█████▍    | 509/938 [00:11<00:08, 53.25it/s]"
     ]
    },
    {
     "name": "stdout",
     "output_type": "stream",
     "text": [
      "Step: 500, Loss: 2.303941249847412\n"
     ]
    },
    {
     "name": "stderr",
     "output_type": "stream",
     "text": [
      " 56%|█████▌    | 521/938 [00:11<00:08, 51.85it/s]"
     ]
    },
    {
     "name": "stdout",
     "output_type": "stream",
     "text": [
      "Step: 510, Loss: 2.3054370880126953\n",
      "Step: 520, Loss: 2.295976161956787\n"
     ]
    },
    {
     "name": "stderr",
     "output_type": "stream",
     "text": [
      " 57%|█████▋    | 539/938 [00:12<00:07, 52.68it/s]"
     ]
    },
    {
     "name": "stdout",
     "output_type": "stream",
     "text": [
      "Step: 530, Loss: 2.29780912399292\n",
      "Step: 540, Loss: 2.3027031421661377\n"
     ]
    },
    {
     "name": "stderr",
     "output_type": "stream",
     "text": [
      " 59%|█████▉    | 557/938 [00:12<00:07, 53.16it/s]"
     ]
    },
    {
     "name": "stdout",
     "output_type": "stream",
     "text": [
      "Step: 550, Loss: 2.3001866340637207\n"
     ]
    },
    {
     "name": "stderr",
     "output_type": "stream",
     "text": [
      " 61%|██████    | 570/938 [00:12<00:07, 51.68it/s]"
     ]
    },
    {
     "name": "stdout",
     "output_type": "stream",
     "text": [
      "Step: 560, Loss: 2.296241283416748\n",
      "Step: 570, Loss: 2.3105454444885254\n"
     ]
    },
    {
     "name": "stderr",
     "output_type": "stream",
     "text": [
      " 63%|██████▎   | 588/938 [00:13<00:06, 53.44it/s]"
     ]
    },
    {
     "name": "stdout",
     "output_type": "stream",
     "text": [
      "Step: 580, Loss: 2.3034372329711914\n",
      "Step: 590, Loss: 2.313382625579834\n"
     ]
    },
    {
     "name": "stderr",
     "output_type": "stream",
     "text": [
      " 65%|██████▍   | 606/938 [00:13<00:06, 53.92it/s]"
     ]
    },
    {
     "name": "stdout",
     "output_type": "stream",
     "text": [
      "Step: 600, Loss: 2.293776750564575\n",
      "Step: 610, Loss: 2.31894588470459\n"
     ]
    },
    {
     "name": "stderr",
     "output_type": "stream",
     "text": [
      " 67%|██████▋   | 631/938 [00:14<00:05, 55.38it/s]"
     ]
    },
    {
     "name": "stdout",
     "output_type": "stream",
     "text": [
      "Step: 620, Loss: 2.3001785278320312\n",
      "Step: 630, Loss: 2.309185266494751\n"
     ]
    },
    {
     "name": "stderr",
     "output_type": "stream",
     "text": [
      " 69%|██████▉   | 649/938 [00:14<00:05, 54.55it/s]"
     ]
    },
    {
     "name": "stdout",
     "output_type": "stream",
     "text": [
      "Step: 640, Loss: 2.2854819297790527\n",
      "Step: 650, Loss: 2.299595355987549\n"
     ]
    },
    {
     "name": "stderr",
     "output_type": "stream",
     "text": [
      " 71%|███████   | 667/938 [00:14<00:05, 53.87it/s]"
     ]
    },
    {
     "name": "stdout",
     "output_type": "stream",
     "text": [
      "Step: 660, Loss: 2.3087782859802246\n",
      "Step: 670, Loss: 2.292625665664673\n"
     ]
    },
    {
     "name": "stderr",
     "output_type": "stream",
     "text": [
      " 74%|███████▎  | 691/938 [00:15<00:04, 54.36it/s]"
     ]
    },
    {
     "name": "stdout",
     "output_type": "stream",
     "text": [
      "Step: 680, Loss: 2.312490224838257\n",
      "Step: 690, Loss: 2.3027215003967285\n"
     ]
    },
    {
     "name": "stderr",
     "output_type": "stream",
     "text": [
      " 76%|███████▌  | 709/938 [00:15<00:04, 56.71it/s]"
     ]
    },
    {
     "name": "stdout",
     "output_type": "stream",
     "text": [
      "Step: 700, Loss: 2.3031020164489746\n",
      "Step: 710, Loss: 2.2977705001831055\n"
     ]
    },
    {
     "name": "stderr",
     "output_type": "stream",
     "text": [
      " 78%|███████▊  | 728/938 [00:15<00:03, 57.20it/s]"
     ]
    },
    {
     "name": "stdout",
     "output_type": "stream",
     "text": [
      "Step: 720, Loss: 2.310284376144409\n",
      "Step: 730, Loss: 2.3078012466430664\n"
     ]
    },
    {
     "name": "stderr",
     "output_type": "stream",
     "text": [
      " 80%|███████▉  | 746/938 [00:16<00:03, 54.73it/s]"
     ]
    },
    {
     "name": "stdout",
     "output_type": "stream",
     "text": [
      "Step: 740, Loss: 2.2944319248199463\n",
      "Step: 750, Loss: 2.296509027481079\n"
     ]
    },
    {
     "name": "stderr",
     "output_type": "stream",
     "text": [
      " 82%|████████▏ | 770/938 [00:16<00:03, 54.58it/s]"
     ]
    },
    {
     "name": "stdout",
     "output_type": "stream",
     "text": [
      "Step: 760, Loss: 2.3016974925994873\n",
      "Step: 770, Loss: 2.315286636352539\n"
     ]
    },
    {
     "name": "stderr",
     "output_type": "stream",
     "text": [
      " 84%|████████▍ | 788/938 [00:16<00:02, 55.52it/s]"
     ]
    },
    {
     "name": "stdout",
     "output_type": "stream",
     "text": [
      "Step: 780, Loss: 2.292431116104126\n",
      "Step: 790, Loss: 2.2961673736572266\n"
     ]
    },
    {
     "name": "stderr",
     "output_type": "stream",
     "text": [
      " 86%|████████▌ | 806/938 [00:17<00:02, 49.44it/s]"
     ]
    },
    {
     "name": "stdout",
     "output_type": "stream",
     "text": [
      "Step: 800, Loss: 2.297883987426758\n"
     ]
    },
    {
     "name": "stderr",
     "output_type": "stream",
     "text": [
      " 87%|████████▋ | 817/938 [00:17<00:02, 42.96it/s]"
     ]
    },
    {
     "name": "stdout",
     "output_type": "stream",
     "text": [
      "Step: 810, Loss: 2.3135786056518555\n"
     ]
    },
    {
     "name": "stderr",
     "output_type": "stream",
     "text": [
      " 88%|████████▊ | 827/938 [00:17<00:02, 39.11it/s]"
     ]
    },
    {
     "name": "stdout",
     "output_type": "stream",
     "text": [
      "Step: 820, Loss: 2.307420253753662\n"
     ]
    },
    {
     "name": "stderr",
     "output_type": "stream",
     "text": [
      " 89%|████████▉ | 837/938 [00:18<00:02, 42.28it/s]"
     ]
    },
    {
     "name": "stdout",
     "output_type": "stream",
     "text": [
      "Step: 830, Loss: 2.3165266513824463\n"
     ]
    },
    {
     "name": "stderr",
     "output_type": "stream",
     "text": [
      " 90%|█████████ | 847/938 [00:18<00:02, 41.12it/s]"
     ]
    },
    {
     "name": "stdout",
     "output_type": "stream",
     "text": [
      "Step: 840, Loss: 2.305375337600708\n"
     ]
    },
    {
     "name": "stderr",
     "output_type": "stream",
     "text": [
      " 91%|█████████▏| 857/938 [00:18<00:02, 39.09it/s]"
     ]
    },
    {
     "name": "stdout",
     "output_type": "stream",
     "text": [
      "Step: 850, Loss: 2.3068716526031494\n"
     ]
    },
    {
     "name": "stderr",
     "output_type": "stream",
     "text": [
      " 92%|█████████▏| 866/938 [00:18<00:01, 41.58it/s]"
     ]
    },
    {
     "name": "stdout",
     "output_type": "stream",
     "text": [
      "Step: 860, Loss: 2.3002524375915527\n"
     ]
    },
    {
     "name": "stderr",
     "output_type": "stream",
     "text": [
      " 93%|█████████▎| 876/938 [00:19<00:01, 40.42it/s]"
     ]
    },
    {
     "name": "stdout",
     "output_type": "stream",
     "text": [
      "Step: 870, Loss: 2.2848072052001953\n"
     ]
    },
    {
     "name": "stderr",
     "output_type": "stream",
     "text": [
      " 94%|█████████▍| 886/938 [00:19<00:01, 35.88it/s]"
     ]
    },
    {
     "name": "stdout",
     "output_type": "stream",
     "text": [
      "Step: 880, Loss: 2.3027474880218506\n"
     ]
    },
    {
     "name": "stderr",
     "output_type": "stream",
     "text": [
      " 96%|█████████▌| 897/938 [00:19<00:01, 38.40it/s]"
     ]
    },
    {
     "name": "stdout",
     "output_type": "stream",
     "text": [
      "Step: 890, Loss: 2.299281358718872\n"
     ]
    },
    {
     "name": "stderr",
     "output_type": "stream",
     "text": [
      " 96%|█████████▋| 905/938 [00:19<00:00, 35.52it/s]"
     ]
    },
    {
     "name": "stdout",
     "output_type": "stream",
     "text": [
      "Step: 900, Loss: 2.303833246231079\n"
     ]
    },
    {
     "name": "stderr",
     "output_type": "stream",
     "text": [
      " 98%|█████████▊| 918/938 [00:20<00:00, 35.44it/s]"
     ]
    },
    {
     "name": "stdout",
     "output_type": "stream",
     "text": [
      "Step: 910, Loss: 2.2965760231018066\n"
     ]
    },
    {
     "name": "stderr",
     "output_type": "stream",
     "text": [
      " 99%|█████████▊| 926/938 [00:20<00:00, 35.31it/s]"
     ]
    },
    {
     "name": "stdout",
     "output_type": "stream",
     "text": [
      "Step: 920, Loss: 2.2989602088928223\n"
     ]
    },
    {
     "name": "stderr",
     "output_type": "stream",
     "text": [
      "100%|█████████▉| 934/938 [00:20<00:00, 33.17it/s]"
     ]
    },
    {
     "name": "stdout",
     "output_type": "stream",
     "text": [
      "Step: 930, Loss: 2.294469118118286\n"
     ]
    },
    {
     "name": "stderr",
     "output_type": "stream",
     "text": [
      "100%|██████████| 938/938 [00:20<00:00, 44.98it/s]\n"
     ]
    }
   ],
   "source": [
    "# Обучите модель еще раз:\n",
    "torch.manual_seed(42)\n",
    "\n",
    "criterion = torch.nn.CrossEntropyLoss()\n",
    "optimizer = torch.optim.SGD(model.parameters(), lr=0.001)\n",
    "\n",
    "fc_gradients = train(model, trainloader, criterion, optimizer)"
   ]
  },
  {
   "cell_type": "code",
   "execution_count": null,
   "metadata": {
    "colab": {
     "base_uri": "https://localhost:8080/",
     "height": 491
    },
    "execution": {
     "iopub.execute_input": "2024-05-09T06:32:49.518008Z",
     "iopub.status.busy": "2024-05-09T06:32:49.517092Z",
     "iopub.status.idle": "2024-05-09T06:32:49.848615Z",
     "shell.execute_reply": "2024-05-09T06:32:49.847258Z",
     "shell.execute_reply.started": "2024-05-09T06:32:49.517970Z"
    },
    "id": "lgNqcWdaU9wf",
    "outputId": "f4b5fd12-7824-4fc8-814f-4251297abaa4",
    "tags": []
   },
   "outputs": [
    {
     "name": "stderr",
     "output_type": "stream",
     "text": [
      "WARNING:matplotlib.legend:No artists with labels found to put in legend.  Note that artists whose label start with an underscore are ignored when legend() is called with no argument.\n"
     ]
    },
    {
     "data": {
      "image/png": "[encoded data removed]",
      "text/plain": [
       "<Figure size 640x480 with 1 Axes>"
      ]
     },
     "metadata": {},
     "output_type": "display_data"
    }
   ],
   "source": [
    "# Визуализируйте градиент:\n",
    "plt.plot(torch.tensor(fc_gradients).cpu())\n",
    "plt.legend()\n",
    "plt.title(\"Gradients of Linear Layers\")\n",
    "plt.xlabel(\"Training Step\")\n",
    "plt.ylabel(\"Gradient Value\")\n",
    "plt.show()"
   ]
  },
  {
   "cell_type": "markdown",
   "metadata": {
    "id": "_zZILiapP1GL"
   },
   "source": [
    "Как видите, магнитуда градиента стала слишком большой, что приводит к тому, что модель не может сойтись (достичь минимума)."
   ]
  },
  {
   "cell_type": "markdown",
   "metadata": {
    "id": "k2KBgvZ3scLB"
   },
   "source": [
    "# ResNet"
   ]
  },
  {
   "cell_type": "markdown",
   "metadata": {
    "id": "KBvmr6myseBg"
   },
   "source": [
    "Теперь давайте попробуем реализовать модель ResNet. Ее авторы нашли способ как бороться с проблемой затухания градиента в глубоких сетях используя так называемые shortcut (или residual) связи между слоями."
   ]
  },
  {
   "cell_type": "markdown",
   "metadata": {
    "id": "Mqm6pG4LOyCL"
   },
   "source": [
    "**Задача 7:** Определите Residual Block"
   ]
  },
  {
   "cell_type": "code",
   "execution_count": null,
   "metadata": {
    "execution": {
     "iopub.execute_input": "2024-05-09T06:32:49.851121Z",
     "iopub.status.busy": "2024-05-09T06:32:49.850153Z",
     "iopub.status.idle": "2024-05-09T06:32:49.867849Z",
     "shell.execute_reply": "2024-05-09T06:32:49.866779Z",
     "shell.execute_reply.started": "2024-05-09T06:32:49.851085Z"
    },
    "id": "ybUFV_Y_4XY-",
    "tags": []
   },
   "outputs": [],
   "source": [
    "class ResidualBlock(nn.Module):\n",
    "    def __init__(self, in_channels, out_channels, stride=1):\n",
    "        super(ResidualBlock, self).__init__()\n",
    "        self.conv1 = nn.Conv2d(in_channels, out_channels, kernel_size=3, stride=stride, padding=1)\n",
    "        self.bn1 = nn.BatchNorm2d(out_channels)\n",
    "        self.conv2 = nn.Conv2d(out_channels, out_channels, kernel_size=3, stride=1, padding=1)\n",
    "        self.bn2 = nn.BatchNorm2d(out_channels)\n",
    "        self.shortcut = nn.Sequential()\n",
    "        if stride != 1 or in_channels != out_channels:\n",
    "            self.shortcut = nn.Sequential(nn.Conv2d(in_channels, out_channels, kernel_size=1, stride=stride), nn.BatchNorm2d(out_channels))\n",
    "\n",
    "    def forward(self, x):\n",
    "        out = self.conv1(x)\n",
    "        out = self.bn1(out)\n",
    "        out = F.relu(out)\n",
    "        out = self.conv2(out)\n",
    "        out = self.bn2(out)\n",
    "        out += self.shortcut(x)\n",
    "        out = F.relu(out)\n",
    "        return out"
   ]
  },
  {
   "cell_type": "markdown",
   "metadata": {
    "id": "tB89S5lSkWQ6"
   },
   "source": [
    "**Вопрос:** Посчитайте и выведите сумму выходов ResidualBlock(10,10) для рандомного входного тензора test_input.\n",
    "\n",
    "**Пример ответа:** `1.234`"
   ]
  },
  {
   "cell_type": "code",
   "execution_count": null,
   "metadata": {
    "colab": {
     "base_uri": "https://localhost:8080/"
    },
    "execution": {
     "iopub.execute_input": "2024-05-09T06:32:49.870010Z",
     "iopub.status.busy": "2024-05-09T06:32:49.869228Z",
     "iopub.status.idle": "2024-05-09T06:32:50.092250Z",
     "shell.execute_reply": "2024-05-09T06:32:50.091143Z",
     "shell.execute_reply.started": "2024-05-09T06:32:49.869972Z"
    },
    "id": "cQjcjGh8k0mD",
    "outputId": "388d5a19-a347-4b2c-925b-1fe6b59b136e",
    "tags": []
   },
   "outputs": [
    {
     "data": {
      "text/plain": [
       "tensor(16789.0645, grad_fn=<SumBackward0>)"
      ]
     },
     "execution_count": 27,
     "metadata": {},
     "output_type": "execute_result"
    }
   ],
   "source": [
    "torch.manual_seed(42)\n",
    "test_input = torch.rand((1, 10, 3, 28*28))\n",
    "res_block = ResidualBlock(10,10)\n",
    "answer = res_block(test_input).sum()\n",
    "answer   ### здесь должен быть выведен ответ"
   ]
  },
  {
   "cell_type": "markdown",
   "metadata": {
    "id": "ALoCCoU-PEba"
   },
   "source": [
    "**Задача 8:** Теперь определите модель ResNet, состоящую из нескольких ResidualBlock"
   ]
  },
  {
   "cell_type": "code",
   "execution_count": null,
   "metadata": {
    "execution": {
     "iopub.execute_input": "2024-05-09T06:32:50.094729Z",
     "iopub.status.busy": "2024-05-09T06:32:50.093692Z",
     "iopub.status.idle": "2024-05-09T06:32:50.110771Z",
     "shell.execute_reply": "2024-05-09T06:32:50.109745Z",
     "shell.execute_reply.started": "2024-05-09T06:32:50.094694Z"
    },
    "id": "84HZmmlpPC8V",
    "tags": []
   },
   "outputs": [],
   "source": [
    "class ResNet(nn.Module):\n",
    "    def __init__(self, num_classes=10):\n",
    "        super(ResNet, self).__init__()\n",
    "        self.conv1 = nn.Conv2d(1, 64, kernel_size=3, stride=1, padding=1)\n",
    "        self.layer1 = self._make_layer(64, 64, 2)\n",
    "        self.layer2 = self._make_layer(64, 128, 2)\n",
    "        self.layer3 = self._make_layer(128, 256, 2)\n",
    "        self.fc = nn.Linear(2304, num_classes)\n",
    "\n",
    "    def _make_layer(self, in_channels, out_channels, num_blocks, stride=1):\n",
    "        layers = []\n",
    "        for i in range(num_blocks):\n",
    "            if i == 0:\n",
    "                layers.append(ResidualBlock(in_channels, out_channels, stride))\n",
    "            else:\n",
    "                layers.append(ResidualBlock(out_channels, out_channels, stride=1))\n",
    "        return nn.Sequential(*layers)\n",
    "\n",
    "    def forward(self, x):\n",
    "        out = F.relu(self.conv1(x))\n",
    "        out = self.layer1(out)\n",
    "        out = self.layer2(out)\n",
    "        out = self.layer3(out)\n",
    "        out = F.avg_pool2d(out, 8)\n",
    "        out = out.view(out.size(0), -1)\n",
    "        out = self.fc(out)\n",
    "        return out"
   ]
  },
  {
   "cell_type": "markdown",
   "metadata": {
    "id": "62V0OrcOomjM"
   },
   "source": [
    "**Вопрос:** Посчитайте и выведите количество параметров (весов) этой ResNet модели\n",
    "\n",
    "**Пример ответа:** `43242`"
   ]
  },
  {
   "cell_type": "markdown",
   "metadata": {},
   "source": [
    "<div style=\"width: 100%; background: #eeeeff; padding: 10px\">\n",
    "    <h3>Как решаем</h3>\n",
    "    <div>Аналогично, суммируем все обучаемые параметры</div>\n",
    "</div>"
   ]
  },
  {
   "cell_type": "code",
   "execution_count": null,
   "metadata": {
    "colab": {
     "base_uri": "https://localhost:8080/"
    },
    "execution": {
     "iopub.execute_input": "2024-05-09T06:32:50.113060Z",
     "iopub.status.busy": "2024-05-09T06:32:50.112134Z",
     "iopub.status.idle": "2024-05-09T06:32:50.177394Z",
     "shell.execute_reply": "2024-05-09T06:32:50.176350Z",
     "shell.execute_reply.started": "2024-05-09T06:32:50.113021Z"
    },
    "id": "gFw6BJY3pFTt",
    "outputId": "99e8ae9e-cf85-4053-a3bf-7af14d1c9e6f",
    "tags": []
   },
   "outputs": [
    {
     "data": {
      "text/plain": [
       "2799114"
      ]
     },
     "execution_count": 29,
     "metadata": {},
     "output_type": "execute_result"
    }
   ],
   "source": [
    "model = ResNet()\n",
    "model_parameters = filter(lambda param: param.requires_grad, model.parameters())\n",
    "answer = sum([np.prod(param.size()) for param in model_parameters])\n",
    "answer   ### здесь должен быть выведен ответ"
   ]
  },
  {
   "cell_type": "code",
   "execution_count": null,
   "metadata": {
    "execution": {
     "iopub.execute_input": "2024-05-09T06:32:50.179270Z",
     "iopub.status.busy": "2024-05-09T06:32:50.178576Z",
     "iopub.status.idle": "2024-05-09T06:32:50.245966Z",
     "shell.execute_reply": "2024-05-09T06:32:50.244867Z",
     "shell.execute_reply.started": "2024-05-09T06:32:50.179220Z"
    },
    "id": "dscNlp4lyzqW",
    "tags": []
   },
   "outputs": [],
   "source": [
    "# Инициализируем объект класса модели ResNet, а также лосс функцию и оптимайзер:\n",
    "torch.manual_seed(42)\n",
    "\n",
    "model = ResNet().to(device)\n",
    "criterion = torch.nn.CrossEntropyLoss()\n",
    "optimizer = torch.optim.Adam(model.parameters(), lr=0.01)"
   ]
  },
  {
   "cell_type": "code",
   "execution_count": null,
   "metadata": {
    "colab": {
     "base_uri": "https://localhost:8080/"
    },
    "execution": {
     "iopub.execute_input": "2024-05-09T06:32:50.247966Z",
     "iopub.status.busy": "2024-05-09T06:32:50.247208Z",
     "iopub.status.idle": "2024-05-09T06:33:36.152457Z",
     "shell.execute_reply": "2024-05-09T06:33:36.151254Z",
     "shell.execute_reply.started": "2024-05-09T06:32:50.247915Z"
    },
    "id": "NHkoOfudy5T2",
    "outputId": "418bface-a5e7-4f95-b2c0-75157a274602",
    "tags": []
   },
   "outputs": [
    {
     "name": "stderr",
     "output_type": "stream",
     "text": [
      "  0%|          | 2/938 [00:01<07:26,  2.10it/s]"
     ]
    },
    {
     "name": "stdout",
     "output_type": "stream",
     "text": [
      "Step: 0, Loss: 2.4625658988952637\n"
     ]
    },
    {
     "name": "stderr",
     "output_type": "stream",
     "text": [
      "  1%|▏         | 12/938 [00:02<02:01,  7.63it/s]"
     ]
    },
    {
     "name": "stdout",
     "output_type": "stream",
     "text": [
      "Step: 10, Loss: 4.516711235046387\n"
     ]
    },
    {
     "name": "stderr",
     "output_type": "stream",
     "text": [
      "  2%|▏         | 22/938 [00:03<01:54,  7.98it/s]"
     ]
    },
    {
     "name": "stdout",
     "output_type": "stream",
     "text": [
      "Step: 20, Loss: 1.7550970315933228\n"
     ]
    },
    {
     "name": "stderr",
     "output_type": "stream",
     "text": [
      "  3%|▎         | 32/938 [00:04<01:53,  8.02it/s]"
     ]
    },
    {
     "name": "stdout",
     "output_type": "stream",
     "text": [
      "Step: 30, Loss: 1.2031744718551636\n"
     ]
    },
    {
     "name": "stderr",
     "output_type": "stream",
     "text": [
      "  4%|▍         | 42/938 [00:06<01:51,  8.01it/s]"
     ]
    },
    {
     "name": "stdout",
     "output_type": "stream",
     "text": [
      "Step: 40, Loss: 1.0667994022369385\n"
     ]
    },
    {
     "name": "stderr",
     "output_type": "stream",
     "text": [
      "  6%|▌         | 52/938 [00:07<01:51,  7.94it/s]"
     ]
    },
    {
     "name": "stdout",
     "output_type": "stream",
     "text": [
      "Step: 50, Loss: 0.9085254073143005\n"
     ]
    },
    {
     "name": "stderr",
     "output_type": "stream",
     "text": [
      "  7%|▋         | 62/938 [00:08<01:50,  7.95it/s]"
     ]
    },
    {
     "name": "stdout",
     "output_type": "stream",
     "text": [
      "Step: 60, Loss: 0.28151735663414\n"
     ]
    },
    {
     "name": "stderr",
     "output_type": "stream",
     "text": [
      "  8%|▊         | 72/938 [00:09<01:52,  7.72it/s]"
     ]
    },
    {
     "name": "stdout",
     "output_type": "stream",
     "text": [
      "Step: 70, Loss: 0.35718706250190735\n"
     ]
    },
    {
     "name": "stderr",
     "output_type": "stream",
     "text": [
      "  9%|▊         | 82/938 [00:11<01:52,  7.58it/s]"
     ]
    },
    {
     "name": "stdout",
     "output_type": "stream",
     "text": [
      "Step: 80, Loss: 0.4216713607311249\n"
     ]
    },
    {
     "name": "stderr",
     "output_type": "stream",
     "text": [
      " 10%|▉         | 92/938 [00:12<01:50,  7.65it/s]"
     ]
    },
    {
     "name": "stdout",
     "output_type": "stream",
     "text": [
      "Step: 90, Loss: 0.4520687162876129\n"
     ]
    },
    {
     "name": "stderr",
     "output_type": "stream",
     "text": [
      " 11%|█         | 102/938 [00:13<01:45,  7.89it/s]"
     ]
    },
    {
     "name": "stdout",
     "output_type": "stream",
     "text": [
      "Step: 100, Loss: 0.5272232890129089\n"
     ]
    },
    {
     "name": "stderr",
     "output_type": "stream",
     "text": [
      " 12%|█▏        | 112/938 [00:15<01:44,  7.92it/s]"
     ]
    },
    {
     "name": "stdout",
     "output_type": "stream",
     "text": [
      "Step: 110, Loss: 0.43409979343414307\n"
     ]
    },
    {
     "name": "stderr",
     "output_type": "stream",
     "text": [
      " 13%|█▎        | 122/938 [00:16<01:43,  7.90it/s]"
     ]
    },
    {
     "name": "stdout",
     "output_type": "stream",
     "text": [
      "Step: 120, Loss: 0.3290789723396301\n"
     ]
    },
    {
     "name": "stderr",
     "output_type": "stream",
     "text": [
      " 14%|█▍        | 132/938 [00:17<01:41,  7.94it/s]"
     ]
    },
    {
     "name": "stdout",
     "output_type": "stream",
     "text": [
      "Step: 130, Loss: 0.17730343341827393\n"
     ]
    },
    {
     "name": "stderr",
     "output_type": "stream",
     "text": [
      " 15%|█▌        | 142/938 [00:18<01:40,  7.90it/s]"
     ]
    },
    {
     "name": "stdout",
     "output_type": "stream",
     "text": [
      "Step: 140, Loss: 0.1687646210193634\n"
     ]
    },
    {
     "name": "stderr",
     "output_type": "stream",
     "text": [
      " 16%|█▌        | 152/938 [00:20<01:39,  7.87it/s]"
     ]
    },
    {
     "name": "stdout",
     "output_type": "stream",
     "text": [
      "Step: 150, Loss: 0.06899511814117432\n"
     ]
    },
    {
     "name": "stderr",
     "output_type": "stream",
     "text": [
      " 17%|█▋        | 162/938 [00:21<01:38,  7.89it/s]"
     ]
    },
    {
     "name": "stdout",
     "output_type": "stream",
     "text": [
      "Step: 160, Loss: 0.34584155678749084\n"
     ]
    },
    {
     "name": "stderr",
     "output_type": "stream",
     "text": [
      " 18%|█▊        | 172/938 [00:22<01:41,  7.57it/s]"
     ]
    },
    {
     "name": "stdout",
     "output_type": "stream",
     "text": [
      "Step: 170, Loss: 0.3393796980381012\n"
     ]
    },
    {
     "name": "stderr",
     "output_type": "stream",
     "text": [
      " 19%|█▉        | 182/938 [00:24<01:52,  6.75it/s]"
     ]
    },
    {
     "name": "stdout",
     "output_type": "stream",
     "text": [
      "Step: 180, Loss: 0.2927292585372925\n"
     ]
    },
    {
     "name": "stderr",
     "output_type": "stream",
     "text": [
      " 20%|██        | 192/938 [00:25<01:37,  7.66it/s]"
     ]
    },
    {
     "name": "stdout",
     "output_type": "stream",
     "text": [
      "Step: 190, Loss: 0.15524497628211975\n"
     ]
    },
    {
     "name": "stderr",
     "output_type": "stream",
     "text": [
      " 22%|██▏       | 202/938 [00:26<01:35,  7.70it/s]"
     ]
    },
    {
     "name": "stdout",
     "output_type": "stream",
     "text": [
      "Step: 200, Loss: 0.17242176830768585\n"
     ]
    },
    {
     "name": "stderr",
     "output_type": "stream",
     "text": [
      " 23%|██▎       | 212/938 [00:28<01:33,  7.80it/s]"
     ]
    },
    {
     "name": "stdout",
     "output_type": "stream",
     "text": [
      "Step: 210, Loss: 0.37611469626426697\n"
     ]
    },
    {
     "name": "stderr",
     "output_type": "stream",
     "text": [
      " 24%|██▎       | 222/938 [00:29<01:31,  7.79it/s]"
     ]
    },
    {
     "name": "stdout",
     "output_type": "stream",
     "text": [
      "Step: 220, Loss: 0.11095699667930603\n"
     ]
    },
    {
     "name": "stderr",
     "output_type": "stream",
     "text": [
      " 25%|██▍       | 232/938 [00:30<01:30,  7.76it/s]"
     ]
    },
    {
     "name": "stdout",
     "output_type": "stream",
     "text": [
      "Step: 230, Loss: 0.1306932419538498\n"
     ]
    },
    {
     "name": "stderr",
     "output_type": "stream",
     "text": [
      " 26%|██▌       | 242/938 [00:31<01:29,  7.75it/s]"
     ]
    },
    {
     "name": "stdout",
     "output_type": "stream",
     "text": [
      "Step: 240, Loss: 0.03305581957101822\n"
     ]
    },
    {
     "name": "stderr",
     "output_type": "stream",
     "text": [
      " 27%|██▋       | 252/938 [00:33<01:28,  7.75it/s]"
     ]
    },
    {
     "name": "stdout",
     "output_type": "stream",
     "text": [
      "Step: 250, Loss: 0.05867672339081764\n"
     ]
    },
    {
     "name": "stderr",
     "output_type": "stream",
     "text": [
      " 28%|██▊       | 262/938 [00:34<01:28,  7.63it/s]"
     ]
    },
    {
     "name": "stdout",
     "output_type": "stream",
     "text": [
      "Step: 260, Loss: 0.08356883376836777\n"
     ]
    },
    {
     "name": "stderr",
     "output_type": "stream",
     "text": [
      " 29%|██▉       | 272/938 [00:35<01:30,  7.39it/s]"
     ]
    },
    {
     "name": "stdout",
     "output_type": "stream",
     "text": [
      "Step: 270, Loss: 0.036155860871076584\n"
     ]
    },
    {
     "name": "stderr",
     "output_type": "stream",
     "text": [
      " 30%|███       | 282/938 [00:37<01:27,  7.48it/s]"
     ]
    },
    {
     "name": "stdout",
     "output_type": "stream",
     "text": [
      "Step: 280, Loss: 0.14587363600730896\n"
     ]
    },
    {
     "name": "stderr",
     "output_type": "stream",
     "text": [
      " 31%|███       | 292/938 [00:38<01:24,  7.68it/s]"
     ]
    },
    {
     "name": "stdout",
     "output_type": "stream",
     "text": [
      "Step: 290, Loss: 0.07667273283004761\n"
     ]
    },
    {
     "name": "stderr",
     "output_type": "stream",
     "text": [
      " 32%|███▏      | 302/938 [00:39<01:22,  7.73it/s]"
     ]
    },
    {
     "name": "stdout",
     "output_type": "stream",
     "text": [
      "Step: 300, Loss: 0.22496086359024048\n"
     ]
    },
    {
     "name": "stderr",
     "output_type": "stream",
     "text": [
      " 33%|███▎      | 312/938 [00:41<01:21,  7.66it/s]"
     ]
    },
    {
     "name": "stdout",
     "output_type": "stream",
     "text": [
      "Step: 310, Loss: 0.08069387823343277\n"
     ]
    },
    {
     "name": "stderr",
     "output_type": "stream",
     "text": [
      " 34%|███▍      | 322/938 [00:42<01:20,  7.66it/s]"
     ]
    },
    {
     "name": "stdout",
     "output_type": "stream",
     "text": [
      "Step: 320, Loss: 0.22203221917152405\n"
     ]
    },
    {
     "name": "stderr",
     "output_type": "stream",
     "text": [
      " 35%|███▌      | 332/938 [00:43<01:19,  7.63it/s]"
     ]
    },
    {
     "name": "stdout",
     "output_type": "stream",
     "text": [
      "Step: 330, Loss: 0.06016809120774269\n"
     ]
    },
    {
     "name": "stderr",
     "output_type": "stream",
     "text": [
      " 36%|███▋      | 342/938 [00:45<01:18,  7.64it/s]"
     ]
    },
    {
     "name": "stdout",
     "output_type": "stream",
     "text": [
      "Step: 340, Loss: 0.14793463051319122\n"
     ]
    },
    {
     "name": "stderr",
     "output_type": "stream",
     "text": [
      " 38%|███▊      | 352/938 [00:46<01:16,  7.63it/s]"
     ]
    },
    {
     "name": "stdout",
     "output_type": "stream",
     "text": [
      "Step: 350, Loss: 0.04716429486870766\n"
     ]
    },
    {
     "name": "stderr",
     "output_type": "stream",
     "text": [
      " 39%|███▊      | 362/938 [00:47<01:15,  7.63it/s]"
     ]
    },
    {
     "name": "stdout",
     "output_type": "stream",
     "text": [
      "Step: 360, Loss: 0.08424019068479538\n"
     ]
    },
    {
     "name": "stderr",
     "output_type": "stream",
     "text": [
      " 40%|███▉      | 372/938 [00:48<01:15,  7.47it/s]"
     ]
    },
    {
     "name": "stdout",
     "output_type": "stream",
     "text": [
      "Step: 370, Loss: 0.016153385862708092\n"
     ]
    },
    {
     "name": "stderr",
     "output_type": "stream",
     "text": [
      " 41%|████      | 382/938 [00:50<01:15,  7.37it/s]"
     ]
    },
    {
     "name": "stdout",
     "output_type": "stream",
     "text": [
      "Step: 380, Loss: 0.08361797779798508\n"
     ]
    },
    {
     "name": "stderr",
     "output_type": "stream",
     "text": [
      " 42%|████▏     | 392/938 [00:51<01:12,  7.53it/s]"
     ]
    },
    {
     "name": "stdout",
     "output_type": "stream",
     "text": [
      "Step: 390, Loss: 0.1421830654144287\n"
     ]
    },
    {
     "name": "stderr",
     "output_type": "stream",
     "text": [
      " 43%|████▎     | 402/938 [00:52<01:10,  7.59it/s]"
     ]
    },
    {
     "name": "stdout",
     "output_type": "stream",
     "text": [
      "Step: 400, Loss: 0.1834079623222351\n"
     ]
    },
    {
     "name": "stderr",
     "output_type": "stream",
     "text": [
      " 44%|████▍     | 412/938 [00:54<01:09,  7.57it/s]"
     ]
    },
    {
     "name": "stdout",
     "output_type": "stream",
     "text": [
      "Step: 410, Loss: 0.025107767432928085\n"
     ]
    },
    {
     "name": "stderr",
     "output_type": "stream",
     "text": [
      " 45%|████▍     | 422/938 [00:55<01:08,  7.51it/s]"
     ]
    },
    {
     "name": "stdout",
     "output_type": "stream",
     "text": [
      "Step: 420, Loss: 0.17156696319580078\n"
     ]
    },
    {
     "name": "stderr",
     "output_type": "stream",
     "text": [
      " 46%|████▌     | 432/938 [00:56<01:07,  7.49it/s]"
     ]
    },
    {
     "name": "stdout",
     "output_type": "stream",
     "text": [
      "Step: 430, Loss: 0.062798872590065\n"
     ]
    },
    {
     "name": "stderr",
     "output_type": "stream",
     "text": [
      " 47%|████▋     | 442/938 [00:58<01:05,  7.55it/s]"
     ]
    },
    {
     "name": "stdout",
     "output_type": "stream",
     "text": [
      "Step: 440, Loss: 0.20085886120796204\n"
     ]
    },
    {
     "name": "stderr",
     "output_type": "stream",
     "text": [
      " 48%|████▊     | 452/938 [00:59<01:05,  7.47it/s]"
     ]
    },
    {
     "name": "stdout",
     "output_type": "stream",
     "text": [
      "Step: 450, Loss: 0.10123054683208466\n"
     ]
    },
    {
     "name": "stderr",
     "output_type": "stream",
     "text": [
      " 49%|████▉     | 462/938 [01:00<01:03,  7.52it/s]"
     ]
    },
    {
     "name": "stdout",
     "output_type": "stream",
     "text": [
      "Step: 460, Loss: 0.08578871190547943\n"
     ]
    },
    {
     "name": "stderr",
     "output_type": "stream",
     "text": [
      " 50%|█████     | 472/938 [01:02<01:04,  7.24it/s]"
     ]
    },
    {
     "name": "stdout",
     "output_type": "stream",
     "text": [
      "Step: 470, Loss: 0.06245925650000572\n"
     ]
    },
    {
     "name": "stderr",
     "output_type": "stream",
     "text": [
      " 51%|█████▏    | 482/938 [01:03<01:03,  7.21it/s]"
     ]
    },
    {
     "name": "stdout",
     "output_type": "stream",
     "text": [
      "Step: 480, Loss: 0.09264639765024185\n"
     ]
    },
    {
     "name": "stderr",
     "output_type": "stream",
     "text": [
      " 52%|█████▏    | 492/938 [01:05<00:59,  7.45it/s]"
     ]
    },
    {
     "name": "stdout",
     "output_type": "stream",
     "text": [
      "Step: 490, Loss: 0.058018751442432404\n"
     ]
    },
    {
     "name": "stderr",
     "output_type": "stream",
     "text": [
      " 54%|█████▎    | 502/938 [01:06<00:59,  7.38it/s]"
     ]
    },
    {
     "name": "stdout",
     "output_type": "stream",
     "text": [
      "Step: 500, Loss: 0.14702396094799042\n"
     ]
    },
    {
     "name": "stderr",
     "output_type": "stream",
     "text": [
      " 55%|█████▍    | 512/938 [01:07<00:57,  7.39it/s]"
     ]
    },
    {
     "name": "stdout",
     "output_type": "stream",
     "text": [
      "Step: 510, Loss: 0.10341134667396545\n"
     ]
    },
    {
     "name": "stderr",
     "output_type": "stream",
     "text": [
      " 56%|█████▌    | 522/938 [01:09<00:56,  7.36it/s]"
     ]
    },
    {
     "name": "stdout",
     "output_type": "stream",
     "text": [
      "Step: 520, Loss: 0.12341499328613281\n"
     ]
    },
    {
     "name": "stderr",
     "output_type": "stream",
     "text": [
      " 57%|█████▋    | 532/938 [01:10<00:55,  7.36it/s]"
     ]
    },
    {
     "name": "stdout",
     "output_type": "stream",
     "text": [
      "Step: 530, Loss: 0.11987999081611633\n"
     ]
    },
    {
     "name": "stderr",
     "output_type": "stream",
     "text": [
      " 58%|█████▊    | 542/938 [01:11<00:53,  7.34it/s]"
     ]
    },
    {
     "name": "stdout",
     "output_type": "stream",
     "text": [
      "Step: 540, Loss: 0.08510816097259521\n"
     ]
    },
    {
     "name": "stderr",
     "output_type": "stream",
     "text": [
      " 59%|█████▉    | 552/938 [01:13<00:52,  7.32it/s]"
     ]
    },
    {
     "name": "stdout",
     "output_type": "stream",
     "text": [
      "Step: 550, Loss: 0.05750265717506409\n"
     ]
    },
    {
     "name": "stderr",
     "output_type": "stream",
     "text": [
      " 60%|█████▉    | 562/938 [01:14<00:52,  7.15it/s]"
     ]
    },
    {
     "name": "stdout",
     "output_type": "stream",
     "text": [
      "Step: 560, Loss: 0.033298738300800323\n"
     ]
    },
    {
     "name": "stderr",
     "output_type": "stream",
     "text": [
      " 61%|██████    | 572/938 [01:16<00:51,  7.10it/s]"
     ]
    },
    {
     "name": "stdout",
     "output_type": "stream",
     "text": [
      "Step: 570, Loss: 0.06734742969274521\n"
     ]
    },
    {
     "name": "stderr",
     "output_type": "stream",
     "text": [
      " 62%|██████▏   | 582/938 [01:17<00:50,  7.08it/s]"
     ]
    },
    {
     "name": "stdout",
     "output_type": "stream",
     "text": [
      "Step: 580, Loss: 0.2950090765953064\n"
     ]
    },
    {
     "name": "stderr",
     "output_type": "stream",
     "text": [
      " 63%|██████▎   | 592/938 [01:18<00:47,  7.23it/s]"
     ]
    },
    {
     "name": "stdout",
     "output_type": "stream",
     "text": [
      "Step: 590, Loss: 0.36184653639793396\n"
     ]
    },
    {
     "name": "stderr",
     "output_type": "stream",
     "text": [
      " 64%|██████▍   | 602/938 [01:20<00:47,  7.13it/s]"
     ]
    },
    {
     "name": "stdout",
     "output_type": "stream",
     "text": [
      "Step: 600, Loss: 0.15771423280239105\n"
     ]
    },
    {
     "name": "stderr",
     "output_type": "stream",
     "text": [
      " 65%|██████▌   | 612/938 [01:21<00:46,  7.08it/s]"
     ]
    },
    {
     "name": "stdout",
     "output_type": "stream",
     "text": [
      "Step: 610, Loss: 0.05671868845820427\n"
     ]
    },
    {
     "name": "stderr",
     "output_type": "stream",
     "text": [
      " 66%|██████▋   | 622/938 [01:23<00:44,  7.16it/s]"
     ]
    },
    {
     "name": "stdout",
     "output_type": "stream",
     "text": [
      "Step: 620, Loss: 0.09911119192838669\n"
     ]
    },
    {
     "name": "stderr",
     "output_type": "stream",
     "text": [
      " 67%|██████▋   | 632/938 [01:24<00:43,  7.02it/s]"
     ]
    },
    {
     "name": "stdout",
     "output_type": "stream",
     "text": [
      "Step: 630, Loss: 0.3263531029224396\n"
     ]
    },
    {
     "name": "stderr",
     "output_type": "stream",
     "text": [
      " 68%|██████▊   | 642/938 [01:25<00:41,  7.05it/s]"
     ]
    },
    {
     "name": "stdout",
     "output_type": "stream",
     "text": [
      "Step: 640, Loss: 0.020930150523781776\n"
     ]
    },
    {
     "name": "stderr",
     "output_type": "stream",
     "text": [
      " 70%|██████▉   | 652/938 [01:27<00:41,  6.95it/s]"
     ]
    },
    {
     "name": "stdout",
     "output_type": "stream",
     "text": [
      "Step: 650, Loss: 0.06359041482210159\n"
     ]
    },
    {
     "name": "stderr",
     "output_type": "stream",
     "text": [
      " 71%|███████   | 662/938 [01:28<00:40,  6.82it/s]"
     ]
    },
    {
     "name": "stdout",
     "output_type": "stream",
     "text": [
      "Step: 660, Loss: 0.046426936984062195\n"
     ]
    },
    {
     "name": "stderr",
     "output_type": "stream",
     "text": [
      " 72%|███████▏  | 672/938 [01:30<00:38,  6.88it/s]"
     ]
    },
    {
     "name": "stdout",
     "output_type": "stream",
     "text": [
      "Step: 670, Loss: 0.07466384768486023\n"
     ]
    },
    {
     "name": "stderr",
     "output_type": "stream",
     "text": [
      " 73%|███████▎  | 682/938 [01:31<00:36,  7.05it/s]"
     ]
    },
    {
     "name": "stdout",
     "output_type": "stream",
     "text": [
      "Step: 680, Loss: 0.21253667771816254\n"
     ]
    },
    {
     "name": "stderr",
     "output_type": "stream",
     "text": [
      " 74%|███████▍  | 692/938 [01:33<00:34,  7.11it/s]"
     ]
    },
    {
     "name": "stdout",
     "output_type": "stream",
     "text": [
      "Step: 690, Loss: 0.17559711635112762\n"
     ]
    },
    {
     "name": "stderr",
     "output_type": "stream",
     "text": [
      " 75%|███████▍  | 702/938 [01:34<00:34,  6.90it/s]"
     ]
    },
    {
     "name": "stdout",
     "output_type": "stream",
     "text": [
      "Step: 700, Loss: 0.028325969353318214\n"
     ]
    },
    {
     "name": "stderr",
     "output_type": "stream",
     "text": [
      " 76%|███████▌  | 712/938 [01:35<00:32,  7.03it/s]"
     ]
    },
    {
     "name": "stdout",
     "output_type": "stream",
     "text": [
      "Step: 710, Loss: 0.13092322647571564\n"
     ]
    },
    {
     "name": "stderr",
     "output_type": "stream",
     "text": [
      " 77%|███████▋  | 722/938 [01:37<00:30,  6.99it/s]"
     ]
    },
    {
     "name": "stdout",
     "output_type": "stream",
     "text": [
      "Step: 720, Loss: 0.06200001388788223\n"
     ]
    },
    {
     "name": "stderr",
     "output_type": "stream",
     "text": [
      " 78%|███████▊  | 732/938 [01:38<00:29,  6.97it/s]"
     ]
    },
    {
     "name": "stdout",
     "output_type": "stream",
     "text": [
      "Step: 730, Loss: 0.0603613518178463\n"
     ]
    },
    {
     "name": "stderr",
     "output_type": "stream",
     "text": [
      " 79%|███████▉  | 742/938 [01:40<00:28,  6.89it/s]"
     ]
    },
    {
     "name": "stdout",
     "output_type": "stream",
     "text": [
      "Step: 740, Loss: 0.06210207939147949\n"
     ]
    },
    {
     "name": "stderr",
     "output_type": "stream",
     "text": [
      " 80%|████████  | 752/938 [01:41<00:26,  6.92it/s]"
     ]
    },
    {
     "name": "stdout",
     "output_type": "stream",
     "text": [
      "Step: 750, Loss: 0.03435932472348213\n"
     ]
    },
    {
     "name": "stderr",
     "output_type": "stream",
     "text": [
      " 81%|████████  | 762/938 [01:43<00:25,  7.00it/s]"
     ]
    },
    {
     "name": "stdout",
     "output_type": "stream",
     "text": [
      "Step: 760, Loss: 0.061072636395692825\n"
     ]
    },
    {
     "name": "stderr",
     "output_type": "stream",
     "text": [
      " 82%|████████▏ | 772/938 [01:44<00:23,  7.06it/s]"
     ]
    },
    {
     "name": "stdout",
     "output_type": "stream",
     "text": [
      "Step: 770, Loss: 0.10345350205898285\n"
     ]
    },
    {
     "name": "stderr",
     "output_type": "stream",
     "text": [
      " 83%|████████▎ | 782/938 [01:45<00:22,  7.06it/s]"
     ]
    },
    {
     "name": "stdout",
     "output_type": "stream",
     "text": [
      "Step: 780, Loss: 0.11078763008117676\n"
     ]
    },
    {
     "name": "stderr",
     "output_type": "stream",
     "text": [
      " 84%|████████▍ | 792/938 [01:47<00:20,  7.07it/s]"
     ]
    },
    {
     "name": "stdout",
     "output_type": "stream",
     "text": [
      "Step: 790, Loss: 0.07976459711790085\n"
     ]
    },
    {
     "name": "stderr",
     "output_type": "stream",
     "text": [
      " 86%|████████▌ | 802/938 [01:48<00:19,  7.08it/s]"
     ]
    },
    {
     "name": "stdout",
     "output_type": "stream",
     "text": [
      "Step: 800, Loss: 0.1104041114449501\n"
     ]
    },
    {
     "name": "stderr",
     "output_type": "stream",
     "text": [
      " 87%|████████▋ | 812/938 [01:50<00:17,  7.03it/s]"
     ]
    },
    {
     "name": "stdout",
     "output_type": "stream",
     "text": [
      "Step: 810, Loss: 0.040551237761974335\n"
     ]
    },
    {
     "name": "stderr",
     "output_type": "stream",
     "text": [
      " 88%|████████▊ | 822/938 [01:51<00:16,  7.08it/s]"
     ]
    },
    {
     "name": "stdout",
     "output_type": "stream",
     "text": [
      "Step: 820, Loss: 0.11429645866155624\n"
     ]
    },
    {
     "name": "stderr",
     "output_type": "stream",
     "text": [
      " 89%|████████▊ | 832/938 [01:53<00:15,  7.01it/s]"
     ]
    },
    {
     "name": "stdout",
     "output_type": "stream",
     "text": [
      "Step: 830, Loss: 0.06379766762256622\n"
     ]
    },
    {
     "name": "stderr",
     "output_type": "stream",
     "text": [
      " 90%|████████▉ | 842/938 [01:54<00:13,  6.89it/s]"
     ]
    },
    {
     "name": "stdout",
     "output_type": "stream",
     "text": [
      "Step: 840, Loss: 0.19910158216953278\n"
     ]
    },
    {
     "name": "stderr",
     "output_type": "stream",
     "text": [
      " 91%|█████████ | 852/938 [01:55<00:12,  7.11it/s]"
     ]
    },
    {
     "name": "stdout",
     "output_type": "stream",
     "text": [
      "Step: 850, Loss: 0.14422821998596191\n"
     ]
    },
    {
     "name": "stderr",
     "output_type": "stream",
     "text": [
      " 92%|█████████▏| 862/938 [01:57<00:10,  7.18it/s]"
     ]
    },
    {
     "name": "stdout",
     "output_type": "stream",
     "text": [
      "Step: 860, Loss: 0.041053518652915955\n"
     ]
    },
    {
     "name": "stderr",
     "output_type": "stream",
     "text": [
      " 93%|█████████▎| 872/938 [01:58<00:09,  7.21it/s]"
     ]
    },
    {
     "name": "stdout",
     "output_type": "stream",
     "text": [
      "Step: 870, Loss: 0.17632071673870087\n"
     ]
    },
    {
     "name": "stderr",
     "output_type": "stream",
     "text": [
      " 94%|█████████▍| 882/938 [02:00<00:07,  7.22it/s]"
     ]
    },
    {
     "name": "stdout",
     "output_type": "stream",
     "text": [
      "Step: 880, Loss: 0.027130117639899254\n"
     ]
    },
    {
     "name": "stderr",
     "output_type": "stream",
     "text": [
      " 95%|█████████▌| 892/938 [02:01<00:06,  7.20it/s]"
     ]
    },
    {
     "name": "stdout",
     "output_type": "stream",
     "text": [
      "Step: 890, Loss: 0.0154296038672328\n"
     ]
    },
    {
     "name": "stderr",
     "output_type": "stream",
     "text": [
      " 96%|█████████▌| 902/938 [02:02<00:05,  7.09it/s]"
     ]
    },
    {
     "name": "stdout",
     "output_type": "stream",
     "text": [
      "Step: 900, Loss: 0.11605950444936752\n"
     ]
    },
    {
     "name": "stderr",
     "output_type": "stream",
     "text": [
      " 97%|█████████▋| 912/938 [02:04<00:03,  7.21it/s]"
     ]
    },
    {
     "name": "stdout",
     "output_type": "stream",
     "text": [
      "Step: 910, Loss: 0.084653340280056\n"
     ]
    },
    {
     "name": "stderr",
     "output_type": "stream",
     "text": [
      " 98%|█████████▊| 922/938 [02:05<00:02,  7.22it/s]"
     ]
    },
    {
     "name": "stdout",
     "output_type": "stream",
     "text": [
      "Step: 920, Loss: 0.036563366651535034\n"
     ]
    },
    {
     "name": "stderr",
     "output_type": "stream",
     "text": [
      " 99%|█████████▉| 932/938 [02:07<00:00,  6.97it/s]"
     ]
    },
    {
     "name": "stdout",
     "output_type": "stream",
     "text": [
      "Step: 930, Loss: 0.13192115724086761\n"
     ]
    },
    {
     "name": "stderr",
     "output_type": "stream",
     "text": [
      "100%|██████████| 938/938 [02:07<00:00,  7.33it/s]\n"
     ]
    }
   ],
   "source": [
    "# Теперь обучите эту модель:\n",
    "torch.manual_seed(42)\n",
    "\n",
    "model.train()\n",
    "\n",
    "fc_gradients = []\n",
    "\n",
    "for step, data in tqdm(enumerate(trainloader), total=len(trainloader)):\n",
    "    inputs, labels = data\n",
    "    inputs, labels = inputs.to(device), labels.to(device)\n",
    "\n",
    "    optimizer.zero_grad()\n",
    "    outputs = model(inputs)\n",
    "    loss = criterion(outputs, labels)\n",
    "\n",
    "    loss.backward()\n",
    "    optimizer.step()\n",
    "\n",
    "    if step % 10 == 0:\n",
    "      print(f'Step: {step}, Loss: {loss}')\n",
    "\n",
    "    fc_gradients.append(model.fc.weight.grad.mean().item())"
   ]
  },
  {
   "cell_type": "markdown",
   "metadata": {
    "id": "kqfkym2HHbZm"
   },
   "source": [
    "Как можете видеть, лосс продолжает уменьшаться. Теперь попробуйте визиулизировать градиент накопленный в переменной fc_gradients"
   ]
  },
  {
   "cell_type": "code",
   "execution_count": null,
   "metadata": {
    "colab": {
     "base_uri": "https://localhost:8080/",
     "height": 491
    },
    "execution": {
     "iopub.execute_input": "2024-05-09T06:33:36.155070Z",
     "iopub.status.busy": "2024-05-09T06:33:36.154196Z",
     "iopub.status.idle": "2024-05-09T06:33:36.447361Z",
     "shell.execute_reply": "2024-05-09T06:33:36.446289Z",
     "shell.execute_reply.started": "2024-05-09T06:33:36.155027Z"
    },
    "id": "8zKQtB_my8te",
    "outputId": "5a6bbfdc-83f3-4df9-cbcb-8c52cbdb9b0c",
    "tags": []
   },
   "outputs": [
    {
     "name": "stderr",
     "output_type": "stream",
     "text": [
      "WARNING:matplotlib.legend:No artists with labels found to put in legend.  Note that artists whose label start with an underscore are ignored when legend() is called with no argument.\n"
     ]
    },
    {
     "data": {
      "image/png": "[encoded data removed]",
      "text/plain": [
       "<Figure size 640x480 with 1 Axes>"
      ]
     },
     "metadata": {},
     "output_type": "display_data"
    }
   ],
   "source": [
    "# Визуализируйте градиент:\n",
    "plt.plot(torch.tensor(fc_gradients).cpu())\n",
    "plt.legend()\n",
    "plt.title(\"Gradients of Linear Layers\")\n",
    "plt.xlabel(\"Training Step\")\n",
    "plt.ylabel(\"Gradient Value\")\n",
    "plt.show()"
   ]
  },
  {
   "cell_type": "markdown",
   "metadata": {
    "id": "hfeX1uejHqU0"
   },
   "source": [
    "Теперь градиент кажется достаточно стабильным, и это позволяет ResNet модели обучаться лучше предыдущей модели, которая была подвержена проблеме затухания градента. Таким способом ResNet стала SOTA моделью в 2015 году и выиграла ImageNet competition.\n",
    "\n",
    "Наконец, давайте сохраним параметры (веса) обученной модели чтобы переиспользовать их позже:"
   ]
  },
  {
   "cell_type": "code",
   "execution_count": null,
   "metadata": {
    "execution": {
     "iopub.execute_input": "2024-05-09T06:33:36.449687Z",
     "iopub.status.busy": "2024-05-09T06:33:36.448900Z",
     "iopub.status.idle": "2024-05-09T06:33:36.542418Z",
     "shell.execute_reply": "2024-05-09T06:33:36.541316Z",
     "shell.execute_reply.started": "2024-05-09T06:33:36.449636Z"
    },
    "id": "RMF5j3h6b_No",
    "tags": []
   },
   "outputs": [],
   "source": [
    "checkpoint_path = './mnist_checkpoint.pth'\n",
    "torch.save(model.state_dict(), checkpoint_path)"
   ]
  },
  {
   "cell_type": "markdown",
   "metadata": {
    "id": "pM6mnPV7bKSn"
   },
   "source": [
    "# Transfer Learning\n",
    "\n",
    "Перед тем как мы перейдем к технике обучения называемой Transfer Learning, давайте сперва протестируем нашу модель на тестовой подвыборке датасета MNIST. Чтобы сделать это, вам необходимо скачать тестовую подвыборку схожим образом, как вы уже скачали подвыборку для обучения с тем отличием, что нужно изменить параметр `train=False`:"
   ]
  },
  {
   "cell_type": "code",
   "execution_count": null,
   "metadata": {
    "execution": {
     "iopub.execute_input": "2024-05-09T06:33:36.545092Z",
     "iopub.status.busy": "2024-05-09T06:33:36.543865Z",
     "iopub.status.idle": "2024-05-09T06:33:36.623890Z",
     "shell.execute_reply": "2024-05-09T06:33:36.622771Z",
     "shell.execute_reply.started": "2024-05-09T06:33:36.545056Z"
    },
    "id": "KKfwHdNdngRJ",
    "tags": []
   },
   "outputs": [],
   "source": [
    "# Загрузите тестовую подвыборку датасета MNIST:\n",
    "transform = transforms.Compose([transforms.ToTensor(), transforms.Normalize((0.5,), (0.5,))])\n",
    "testset = torchvision.datasets.MNIST(root='./data', train=False, download=True, transform=transform)\n",
    "testloader = torch.utils.data.DataLoader(testset, batch_size=64, shuffle=False, num_workers=2)"
   ]
  },
  {
   "cell_type": "markdown",
   "metadata": {
    "id": "vSndKE5vrgGa"
   },
   "source": [
    "Теперь нам нужно имплементировать функцию для тестирования модели, в которой мы будем считать точность (accuracy) нашей модели (т.е. процент правильных предсказаний):"
   ]
  },
  {
   "cell_type": "code",
   "execution_count": null,
   "metadata": {
    "execution": {
     "iopub.execute_input": "2024-05-09T06:33:36.626350Z",
     "iopub.status.busy": "2024-05-09T06:33:36.625380Z",
     "iopub.status.idle": "2024-05-09T06:33:36.639736Z",
     "shell.execute_reply": "2024-05-09T06:33:36.638811Z",
     "shell.execute_reply.started": "2024-05-09T06:33:36.626315Z"
    },
    "id": "A8uyTWErk_54",
    "tags": []
   },
   "outputs": [],
   "source": [
    "def test(model, dataloader):\n",
    "  model.eval()\n",
    "\n",
    "  with torch.no_grad():\n",
    "    correct = 0\n",
    "\n",
    "    for step, data in tqdm(enumerate(dataloader), total=len(dataloader)):\n",
    "        inputs, labels = data\n",
    "        inputs, labels = inputs.to(device), labels.to(device)\n",
    "\n",
    "        outputs = model(inputs)\n",
    "        correct += (outputs.argmax(1) == labels).type(torch.float).sum().item()\n",
    "\n",
    "    accuracy = correct/len(dataloader.dataset)\n",
    "\n",
    "    return accuracy"
   ]
  },
  {
   "cell_type": "markdown",
   "metadata": {
    "id": "JpDdQabCrva1"
   },
   "source": [
    "Теперь загрузите ранее сохраненные параметры (веса) обученной ResNet модели:"
   ]
  },
  {
   "cell_type": "markdown",
   "metadata": {
    "id": "COdCH1EgPQPJ"
   },
   "source": [
    "**Задача 9:** Посчитайте точность модели на тесте."
   ]
  },
  {
   "cell_type": "code",
   "execution_count": null,
   "metadata": {
    "execution": {
     "iopub.execute_input": "2024-05-09T06:33:36.642018Z",
     "iopub.status.busy": "2024-05-09T06:33:36.641115Z",
     "iopub.status.idle": "2024-05-09T06:33:36.730556Z",
     "shell.execute_reply": "2024-05-09T06:33:36.729464Z",
     "shell.execute_reply.started": "2024-05-09T06:33:36.641969Z"
    },
    "id": "Pvkd9XBBqsoT",
    "tags": []
   },
   "outputs": [],
   "source": [
    "model = ResNet()\n",
    "model.load_state_dict(torch.load(checkpoint_path))\n",
    "model = model.to(device)"
   ]
  },
  {
   "cell_type": "markdown",
   "metadata": {
    "id": "CoRnP6zMqmb-"
   },
   "source": [
    "**Вопрос:** Посчитайте и выведите точность модели на тестовой выборке MNIST.\n",
    "\n",
    "**Пример ответа:** `22.45`"
   ]
  },
  {
   "cell_type": "markdown",
   "metadata": {},
   "source": [
    "<div style=\"width: 100%; background: #eeeeff; padding: 10px\">\n",
    "    <h3>Как решаем</h3>\n",
    "    <div>Используем объявленную выше функцию test</div>\n",
    "</div>"
   ]
  },
  {
   "cell_type": "code",
   "execution_count": null,
   "metadata": {
    "colab": {
     "base_uri": "https://localhost:8080/"
    },
    "execution": {
     "iopub.execute_input": "2024-05-09T06:33:36.732652Z",
     "iopub.status.busy": "2024-05-09T06:33:36.731896Z",
     "iopub.status.idle": "2024-05-09T06:33:39.515045Z",
     "shell.execute_reply": "2024-05-09T06:33:39.513705Z",
     "shell.execute_reply.started": "2024-05-09T06:33:36.732601Z"
    },
    "id": "rpSnjXDDq__p",
    "outputId": "7d9bc5f3-3f4b-4c6e-d6ec-4ed80cad89fb",
    "tags": []
   },
   "outputs": [
    {
     "name": "stderr",
     "output_type": "stream",
     "text": [
      "100%|██████████| 157/157 [00:07<00:00, 21.17it/s]"
     ]
    },
    {
     "name": "stdout",
     "output_type": "stream",
     "text": [
      "\n",
      "MNIST test accuracy: 97.7%\n"
     ]
    },
    {
     "name": "stderr",
     "output_type": "stream",
     "text": [
      "\n"
     ]
    }
   ],
   "source": [
    "accuracy = test(model, testloader)\n",
    "print(f\"\\nMNIST test accuracy: {100*accuracy}%\")"
   ]
  },
  {
   "cell_type": "markdown",
   "metadata": {
    "id": "uUgp16ay2T8A"
   },
   "source": [
    "Вы должны получить точность примерно 96% или выше.\n",
    "\n",
    "Теперь давайте попробуем загрузить другой датасет - CIFAR10, который состоит из 10 классов, но содержит изображения не рукописаных цифр, а объектов (horses, dogs, cars, и др.). Изображения имеют размер 32x32 и три цветовых канала (RGB). Поэтому нам также нужно изменить трансформации (transforms), чтобы изображения CIFAR10 соответствовали  изображениям MNIST (т.е. 28x28 в формате grayscale):"
   ]
  },
  {
   "cell_type": "code",
   "execution_count": null,
   "metadata": {
    "colab": {
     "base_uri": "https://localhost:8080/"
    },
    "execution": {
     "iopub.execute_input": "2024-05-09T06:33:39.518017Z",
     "iopub.status.busy": "2024-05-09T06:33:39.516999Z",
     "iopub.status.idle": "2024-05-09T06:33:52.850554Z",
     "shell.execute_reply": "2024-05-09T06:33:52.849414Z",
     "shell.execute_reply.started": "2024-05-09T06:33:39.517962Z"
    },
    "id": "RbYfaUw6HoAX",
    "outputId": "eb0cb523-5408-4c70-95f7-62967ea2d5dd",
    "tags": []
   },
   "outputs": [
    {
     "name": "stdout",
     "output_type": "stream",
     "text": [
      "Downloading https://www.cs.toronto.edu/~kriz/cifar-10-python.tar.gz to ./data_cifar10/cifar-10-python.tar.gz\n"
     ]
    },
    {
     "name": "stderr",
     "output_type": "stream",
     "text": [
      "100%|██████████| 170498071/170498071 [00:04<00:00, 41861092.24it/s]\n"
     ]
    },
    {
     "name": "stdout",
     "output_type": "stream",
     "text": [
      "Extracting ./data_cifar10/cifar-10-python.tar.gz to ./data_cifar10\n",
      "Files already downloaded and verified\n"
     ]
    }
   ],
   "source": [
    "# Трансформации для датасета CIFAR10:\n",
    "transform_cifar10 = transforms.Compose([\n",
    "    transforms.Grayscale(num_output_channels=1),\n",
    "    transforms.Resize((28,28)),\n",
    "    transforms.ToTensor(),\n",
    "    transforms.Normalize((0.5,), (0.5,))])\n",
    "\n",
    "# Выборка для обучения:\n",
    "trainset_cifar10 = torchvision.datasets.CIFAR10(root='./data_cifar10', train=True, download=True, transform=transform_cifar10)\n",
    "trainloader_cifar10 = torch.utils.data.DataLoader(trainset_cifar10, batch_size=64, shuffle=True, num_workers=2)\n",
    "\n",
    "# Выборка для тестирования:\n",
    "testset_cifar10 = torchvision.datasets.CIFAR10(root='./data_cifar10', train=False, download=True, transform=transform_cifar10)\n",
    "testloader_cifar10 = torch.utils.data.DataLoader(testset_cifar10, batch_size=64, shuffle=False, num_workers=2)"
   ]
  },
  {
   "cell_type": "markdown",
   "metadata": {
    "id": "4-3JPLH63_TX"
   },
   "source": [
    "Теперь протестируйте ранее обученную ResNet модель на тестовой выборке датасета CIFAR10 (пока переобучать модель не нужно!):"
   ]
  },
  {
   "cell_type": "markdown",
   "metadata": {
    "id": "JJriMfvxP6IF"
   },
   "source": [
    "**Задача 10:** Протестируйте модель на тестовой выборке CIFAR10"
   ]
  },
  {
   "cell_type": "markdown",
   "metadata": {
    "id": "4lSUdrRMr0b7"
   },
   "source": [
    "**Вопрос:** Посчитайте и выведите точность модели на тесте\n",
    "\n",
    "**Пример ответа:** `22.45`"
   ]
  },
  {
   "cell_type": "code",
   "execution_count": null,
   "metadata": {
    "colab": {
     "base_uri": "https://localhost:8080/"
    },
    "execution": {
     "iopub.execute_input": "2024-05-09T06:33:52.852985Z",
     "iopub.status.busy": "2024-05-09T06:33:52.852035Z",
     "iopub.status.idle": "2024-05-09T06:33:55.532574Z",
     "shell.execute_reply": "2024-05-09T06:33:55.531461Z",
     "shell.execute_reply.started": "2024-05-09T06:33:52.852930Z"
    },
    "id": "BvreSSyxrNXJ",
    "outputId": "b1c081b4-26d0-405e-89a6-08d1678f2e0f",
    "tags": []
   },
   "outputs": [
    {
     "name": "stderr",
     "output_type": "stream",
     "text": [
      "100%|██████████| 157/157 [00:07<00:00, 21.55it/s]"
     ]
    },
    {
     "name": "stdout",
     "output_type": "stream",
     "text": [
      "\n",
      "Test accuracy: 9.99%\n"
     ]
    },
    {
     "name": "stderr",
     "output_type": "stream",
     "text": [
      "\n"
     ]
    }
   ],
   "source": [
    "accuracy = test(model, testloader_cifar10)\n",
    "print(f\"\\nTest accuracy: {100*accuracy}%\")"
   ]
  },
  {
   "cell_type": "markdown",
   "metadata": {
    "id": "g15wnspD4qmN"
   },
   "source": [
    "Как видите, точность на CIFAR10 не очень большая (около 10%). И это не удивительно, ведь мы обучали нашу ResNet модель на другом датасете (MNIST).\n",
    "\n",
    "Теперь давайте заморозим все слои за исключением последнего (т.е. слоя классификации):"
   ]
  },
  {
   "cell_type": "markdown",
   "metadata": {
    "id": "G5PVNgLRP9R6"
   },
   "source": [
    "**Задача 11:** Заморозьте слои модели кроме последнего"
   ]
  },
  {
   "cell_type": "code",
   "execution_count": null,
   "metadata": {
    "execution": {
     "iopub.execute_input": "2024-05-09T06:33:55.535672Z",
     "iopub.status.busy": "2024-05-09T06:33:55.534693Z",
     "iopub.status.idle": "2024-05-09T06:33:55.551107Z",
     "shell.execute_reply": "2024-05-09T06:33:55.549924Z",
     "shell.execute_reply.started": "2024-05-09T06:33:55.535617Z"
    },
    "id": "ytg1POiId9eM",
    "tags": []
   },
   "outputs": [],
   "source": [
    "for param in model.parameters():\n",
    "    param.requires_grad = False              # отключаем градиент (т.е. \"замораживаем\" слои)\n",
    "\n",
    "mnist_fc = model.fc                          # Сохраняем в переменную слой классификации MNIST\n",
    "in_features = model.fc.in_features\n",
    "model.fc = torch.nn.Linear(in_features, 10)  # Создаем новый слой классификации для CIFAR10\n",
    "model.fc = model.fc.cuda()"
   ]
  },
  {
   "cell_type": "markdown",
   "metadata": {
    "id": "LVT85FTjr3Sy"
   },
   "source": [
    "**Вопрос:** Посчитайте и выведите количество параметров (весов) в замороженных слоях\n",
    "\n",
    "**Пример ответа:** `224513`"
   ]
  },
  {
   "cell_type": "markdown",
   "metadata": {
    "execution": {
     "iopub.status.busy": "2024-05-09T11:09:06.684811571Z",
     "iopub.status.idle": "2024-05-09T11:09:06.720920810Z",
     "shell.execute_reply": "2024-05-09T11:09:06.684696913Z"
    },
    "tags": []
   },
   "source": [
    "<div style=\"width: 100%; background: #eeeeff; padding: 10px\">\n",
    "    <h3>Как решаем</h3>\n",
    "    <div>Считаем параметры с отключенным флагом requires_grad</div>\n",
    "</div>"
   ]
  },
  {
   "cell_type": "code",
   "execution_count": null,
   "metadata": {
    "colab": {
     "base_uri": "https://localhost:8080/"
    },
    "execution": {
     "iopub.execute_input": "2024-05-09T06:33:55.553305Z",
     "iopub.status.busy": "2024-05-09T06:33:55.552346Z",
     "iopub.status.idle": "2024-05-09T06:33:55.576293Z",
     "shell.execute_reply": "2024-05-09T06:33:55.575172Z",
     "shell.execute_reply.started": "2024-05-09T06:33:55.553271Z"
    },
    "id": "zpHiYFjprrK_",
    "outputId": "f24c9235-f162-4bd6-d7a0-fbd4e70d8be5",
    "tags": []
   },
   "outputs": [
    {
     "data": {
      "text/plain": [
       "2776064"
      ]
     },
     "execution_count": 41,
     "metadata": {},
     "output_type": "execute_result"
    }
   ],
   "source": [
    "model_parameters = filter(lambda param: param.requires_grad == False, model.parameters())\n",
    "frozen_params = sum([np.prod(param.size()) for param in model_parameters])\n",
    "frozen_params   ### здесь должен быть выведен ответ"
   ]
  },
  {
   "cell_type": "markdown",
   "metadata": {
    "id": "sIDIlXfiQKO2"
   },
   "source": [
    "**Задача 12:** Обучите только последний слой модели на датасете CIFAR10 (все остальные слои должны быть заморожены)"
   ]
  },
  {
   "cell_type": "code",
   "execution_count": null,
   "metadata": {
    "colab": {
     "base_uri": "https://localhost:8080/"
    },
    "execution": {
     "iopub.execute_input": "2024-05-09T06:33:55.578452Z",
     "iopub.status.busy": "2024-05-09T06:33:55.577388Z",
     "iopub.status.idle": "2024-05-09T06:34:07.575570Z",
     "shell.execute_reply": "2024-05-09T06:34:07.574364Z",
     "shell.execute_reply.started": "2024-05-09T06:33:55.578389Z"
    },
    "id": "7I1lXkxGeRfg",
    "outputId": "67a444c3-33f0-46a3-8faf-0248624a32ca",
    "tags": []
   },
   "outputs": [
    {
     "name": "stderr",
     "output_type": "stream",
     "text": [
      "  1%|          | 4/782 [00:00<00:51, 15.14it/s]"
     ]
    },
    {
     "name": "stdout",
     "output_type": "stream",
     "text": [
      "Step: 0, Loss: 2.31402325630188\n"
     ]
    },
    {
     "name": "stderr",
     "output_type": "stream",
     "text": [
      "  2%|▏         | 14/782 [00:00<00:36, 20.82it/s]"
     ]
    },
    {
     "name": "stdout",
     "output_type": "stream",
     "text": [
      "Step: 10, Loss: 2.3379759788513184\n"
     ]
    },
    {
     "name": "stderr",
     "output_type": "stream",
     "text": [
      "  3%|▎         | 25/782 [00:01<00:38, 19.76it/s]"
     ]
    },
    {
     "name": "stdout",
     "output_type": "stream",
     "text": [
      "Step: 20, Loss: 2.130249261856079\n"
     ]
    },
    {
     "name": "stderr",
     "output_type": "stream",
     "text": [
      "  4%|▍         | 34/782 [00:01<00:37, 19.98it/s]"
     ]
    },
    {
     "name": "stdout",
     "output_type": "stream",
     "text": [
      "Step: 30, Loss: 2.2163867950439453\n"
     ]
    },
    {
     "name": "stderr",
     "output_type": "stream",
     "text": [
      "  6%|▌         | 46/782 [00:02<00:35, 20.85it/s]"
     ]
    },
    {
     "name": "stdout",
     "output_type": "stream",
     "text": [
      "Step: 40, Loss: 2.1519646644592285\n"
     ]
    },
    {
     "name": "stderr",
     "output_type": "stream",
     "text": [
      "  7%|▋         | 55/782 [00:02<00:35, 20.46it/s]"
     ]
    },
    {
     "name": "stdout",
     "output_type": "stream",
     "text": [
      "Step: 50, Loss: 1.9759842157363892\n"
     ]
    },
    {
     "name": "stderr",
     "output_type": "stream",
     "text": [
      "  8%|▊         | 64/782 [00:03<00:34, 20.69it/s]"
     ]
    },
    {
     "name": "stdout",
     "output_type": "stream",
     "text": [
      "Step: 60, Loss: 2.3073291778564453\n"
     ]
    },
    {
     "name": "stderr",
     "output_type": "stream",
     "text": [
      " 10%|▉         | 76/782 [00:03<00:34, 20.58it/s]"
     ]
    },
    {
     "name": "stdout",
     "output_type": "stream",
     "text": [
      "Step: 70, Loss: 1.8200937509536743\n"
     ]
    },
    {
     "name": "stderr",
     "output_type": "stream",
     "text": [
      " 11%|█         | 85/782 [00:04<00:34, 20.29it/s]"
     ]
    },
    {
     "name": "stdout",
     "output_type": "stream",
     "text": [
      "Step: 80, Loss: 1.977938175201416\n"
     ]
    },
    {
     "name": "stderr",
     "output_type": "stream",
     "text": [
      " 12%|█▏        | 94/782 [00:04<00:32, 20.85it/s]"
     ]
    },
    {
     "name": "stdout",
     "output_type": "stream",
     "text": [
      "Step: 90, Loss: 2.167757272720337\n"
     ]
    },
    {
     "name": "stderr",
     "output_type": "stream",
     "text": [
      " 13%|█▎        | 103/782 [00:05<00:33, 20.04it/s]"
     ]
    },
    {
     "name": "stdout",
     "output_type": "stream",
     "text": [
      "Step: 100, Loss: 1.8982652425765991\n"
     ]
    },
    {
     "name": "stderr",
     "output_type": "stream",
     "text": [
      " 15%|█▍        | 115/782 [00:05<00:32, 20.27it/s]"
     ]
    },
    {
     "name": "stdout",
     "output_type": "stream",
     "text": [
      "Step: 110, Loss: 2.023104190826416\n"
     ]
    },
    {
     "name": "stderr",
     "output_type": "stream",
     "text": [
      " 16%|█▌        | 124/782 [00:06<00:32, 20.53it/s]"
     ]
    },
    {
     "name": "stdout",
     "output_type": "stream",
     "text": [
      "Step: 120, Loss: 1.657188057899475\n"
     ]
    },
    {
     "name": "stderr",
     "output_type": "stream",
     "text": [
      " 17%|█▋        | 133/782 [00:06<00:31, 20.30it/s]"
     ]
    },
    {
     "name": "stdout",
     "output_type": "stream",
     "text": [
      "Step: 130, Loss: 2.3249757289886475\n"
     ]
    },
    {
     "name": "stderr",
     "output_type": "stream",
     "text": [
      " 19%|█▊        | 145/782 [00:07<00:31, 20.18it/s]"
     ]
    },
    {
     "name": "stdout",
     "output_type": "stream",
     "text": [
      "Step: 140, Loss: 2.48107647895813\n"
     ]
    },
    {
     "name": "stderr",
     "output_type": "stream",
     "text": [
      " 20%|█▉        | 154/782 [00:07<00:30, 20.47it/s]"
     ]
    },
    {
     "name": "stdout",
     "output_type": "stream",
     "text": [
      "Step: 150, Loss: 2.2022271156311035\n"
     ]
    },
    {
     "name": "stderr",
     "output_type": "stream",
     "text": [
      " 21%|██        | 163/782 [00:08<00:31, 19.84it/s]"
     ]
    },
    {
     "name": "stdout",
     "output_type": "stream",
     "text": [
      "Step: 160, Loss: 2.343140125274658\n"
     ]
    },
    {
     "name": "stderr",
     "output_type": "stream",
     "text": [
      " 22%|██▏       | 175/782 [00:08<00:30, 19.98it/s]"
     ]
    },
    {
     "name": "stdout",
     "output_type": "stream",
     "text": [
      "Step: 170, Loss: 2.1993558406829834\n"
     ]
    },
    {
     "name": "stderr",
     "output_type": "stream",
     "text": [
      " 24%|██▎       | 184/782 [00:09<00:29, 20.31it/s]"
     ]
    },
    {
     "name": "stdout",
     "output_type": "stream",
     "text": [
      "Step: 180, Loss: 1.9870100021362305\n"
     ]
    },
    {
     "name": "stderr",
     "output_type": "stream",
     "text": [
      " 25%|██▍       | 193/782 [00:09<00:29, 19.80it/s]"
     ]
    },
    {
     "name": "stdout",
     "output_type": "stream",
     "text": [
      "Step: 190, Loss: 2.0839295387268066\n"
     ]
    },
    {
     "name": "stderr",
     "output_type": "stream",
     "text": [
      " 26%|██▌       | 205/782 [00:10<00:29, 19.87it/s]"
     ]
    },
    {
     "name": "stdout",
     "output_type": "stream",
     "text": [
      "Step: 200, Loss: 2.1384503841400146\n"
     ]
    },
    {
     "name": "stderr",
     "output_type": "stream",
     "text": [
      " 27%|██▋       | 215/782 [00:10<00:28, 19.95it/s]"
     ]
    },
    {
     "name": "stdout",
     "output_type": "stream",
     "text": [
      "Step: 210, Loss: 1.8748146295547485\n"
     ]
    },
    {
     "name": "stderr",
     "output_type": "stream",
     "text": [
      " 29%|██▊       | 224/782 [00:11<00:27, 20.40it/s]"
     ]
    },
    {
     "name": "stdout",
     "output_type": "stream",
     "text": [
      "Step: 220, Loss: 2.0518476963043213\n"
     ]
    },
    {
     "name": "stderr",
     "output_type": "stream",
     "text": [
      " 30%|██▉       | 233/782 [00:11<00:27, 19.91it/s]"
     ]
    },
    {
     "name": "stdout",
     "output_type": "stream",
     "text": [
      "Step: 230, Loss: 1.7119110822677612\n"
     ]
    },
    {
     "name": "stderr",
     "output_type": "stream",
     "text": [
      " 31%|███       | 244/782 [00:12<00:26, 20.36it/s]"
     ]
    },
    {
     "name": "stdout",
     "output_type": "stream",
     "text": [
      "Step: 240, Loss: 1.7675344944000244\n"
     ]
    },
    {
     "name": "stderr",
     "output_type": "stream",
     "text": [
      " 32%|███▏      | 253/782 [00:12<00:27, 19.44it/s]"
     ]
    },
    {
     "name": "stdout",
     "output_type": "stream",
     "text": [
      "Step: 250, Loss: 1.900821566581726\n"
     ]
    },
    {
     "name": "stderr",
     "output_type": "stream",
     "text": [
      " 34%|███▍      | 265/782 [00:13<00:26, 19.68it/s]"
     ]
    },
    {
     "name": "stdout",
     "output_type": "stream",
     "text": [
      "Step: 260, Loss: 2.114980459213257\n"
     ]
    },
    {
     "name": "stderr",
     "output_type": "stream",
     "text": [
      " 35%|███▌      | 275/782 [00:13<00:26, 19.41it/s]"
     ]
    },
    {
     "name": "stdout",
     "output_type": "stream",
     "text": [
      "Step: 270, Loss: 2.2413196563720703\n"
     ]
    },
    {
     "name": "stderr",
     "output_type": "stream",
     "text": [
      " 36%|███▋      | 285/782 [00:14<00:25, 19.61it/s]"
     ]
    },
    {
     "name": "stdout",
     "output_type": "stream",
     "text": [
      "Step: 280, Loss: 2.107764720916748\n"
     ]
    },
    {
     "name": "stderr",
     "output_type": "stream",
     "text": [
      " 38%|███▊      | 294/782 [00:14<00:25, 19.24it/s]"
     ]
    },
    {
     "name": "stdout",
     "output_type": "stream",
     "text": [
      "Step: 290, Loss: 1.9714281558990479\n"
     ]
    },
    {
     "name": "stderr",
     "output_type": "stream",
     "text": [
      " 39%|███▉      | 304/782 [00:15<00:24, 19.62it/s]"
     ]
    },
    {
     "name": "stdout",
     "output_type": "stream",
     "text": [
      "Step: 300, Loss: 2.0743727684020996\n"
     ]
    },
    {
     "name": "stderr",
     "output_type": "stream",
     "text": [
      " 40%|████      | 313/782 [00:15<00:23, 19.69it/s]"
     ]
    },
    {
     "name": "stdout",
     "output_type": "stream",
     "text": [
      "Step: 310, Loss: 1.8459312915802002\n"
     ]
    },
    {
     "name": "stderr",
     "output_type": "stream",
     "text": [
      " 42%|████▏     | 325/782 [00:16<00:23, 19.67it/s]"
     ]
    },
    {
     "name": "stdout",
     "output_type": "stream",
     "text": [
      "Step: 320, Loss: 2.1901464462280273\n"
     ]
    },
    {
     "name": "stderr",
     "output_type": "stream",
     "text": [
      " 43%|████▎     | 334/782 [00:16<00:22, 19.89it/s]"
     ]
    },
    {
     "name": "stdout",
     "output_type": "stream",
     "text": [
      "Step: 330, Loss: 1.9389023780822754\n"
     ]
    },
    {
     "name": "stderr",
     "output_type": "stream",
     "text": [
      " 44%|████▍     | 343/782 [00:17<00:22, 19.45it/s]"
     ]
    },
    {
     "name": "stdout",
     "output_type": "stream",
     "text": [
      "Step: 340, Loss: 1.651084542274475\n"
     ]
    },
    {
     "name": "stderr",
     "output_type": "stream",
     "text": [
      " 45%|████▌     | 355/782 [00:18<00:21, 19.56it/s]"
     ]
    },
    {
     "name": "stdout",
     "output_type": "stream",
     "text": [
      "Step: 350, Loss: 2.051701307296753\n"
     ]
    },
    {
     "name": "stderr",
     "output_type": "stream",
     "text": [
      " 47%|████▋     | 364/782 [00:18<00:20, 20.14it/s]"
     ]
    },
    {
     "name": "stdout",
     "output_type": "stream",
     "text": [
      "Step: 360, Loss: 1.8325318098068237\n"
     ]
    },
    {
     "name": "stderr",
     "output_type": "stream",
     "text": [
      " 48%|████▊     | 373/782 [00:18<00:21, 19.46it/s]"
     ]
    },
    {
     "name": "stdout",
     "output_type": "stream",
     "text": [
      "Step: 370, Loss: 1.8780466318130493\n"
     ]
    },
    {
     "name": "stderr",
     "output_type": "stream",
     "text": [
      " 49%|████▉     | 385/782 [00:19<00:20, 19.49it/s]"
     ]
    },
    {
     "name": "stdout",
     "output_type": "stream",
     "text": [
      "Step: 380, Loss: 1.7859570980072021\n"
     ]
    },
    {
     "name": "stderr",
     "output_type": "stream",
     "text": [
      " 50%|█████     | 394/782 [00:20<00:19, 19.97it/s]"
     ]
    },
    {
     "name": "stdout",
     "output_type": "stream",
     "text": [
      "Step: 390, Loss: 1.8556381464004517\n"
     ]
    },
    {
     "name": "stderr",
     "output_type": "stream",
     "text": [
      " 52%|█████▏    | 405/782 [00:20<00:19, 19.44it/s]"
     ]
    },
    {
     "name": "stdout",
     "output_type": "stream",
     "text": [
      "Step: 400, Loss: 1.911534309387207\n"
     ]
    },
    {
     "name": "stderr",
     "output_type": "stream",
     "text": [
      " 53%|█████▎    | 414/782 [00:21<00:18, 19.90it/s]"
     ]
    },
    {
     "name": "stdout",
     "output_type": "stream",
     "text": [
      "Step: 410, Loss: 2.11399507522583\n"
     ]
    },
    {
     "name": "stderr",
     "output_type": "stream",
     "text": [
      " 54%|█████▍    | 425/782 [00:21<00:18, 19.54it/s]"
     ]
    },
    {
     "name": "stdout",
     "output_type": "stream",
     "text": [
      "Step: 420, Loss: 1.9103503227233887\n"
     ]
    },
    {
     "name": "stderr",
     "output_type": "stream",
     "text": [
      " 55%|█████▌    | 434/782 [00:22<00:17, 19.89it/s]"
     ]
    },
    {
     "name": "stdout",
     "output_type": "stream",
     "text": [
      "Step: 430, Loss: 1.9347869157791138\n"
     ]
    },
    {
     "name": "stderr",
     "output_type": "stream",
     "text": [
      " 57%|█████▋    | 445/782 [00:22<00:17, 19.44it/s]"
     ]
    },
    {
     "name": "stdout",
     "output_type": "stream",
     "text": [
      "Step: 440, Loss: 1.845586895942688\n"
     ]
    },
    {
     "name": "stderr",
     "output_type": "stream",
     "text": [
      " 58%|█████▊    | 454/782 [00:23<00:16, 19.68it/s]"
     ]
    },
    {
     "name": "stdout",
     "output_type": "stream",
     "text": [
      "Step: 450, Loss: 2.100273847579956\n"
     ]
    },
    {
     "name": "stderr",
     "output_type": "stream",
     "text": [
      " 59%|█████▉    | 464/782 [00:23<00:15, 19.88it/s]"
     ]
    },
    {
     "name": "stdout",
     "output_type": "stream",
     "text": [
      "Step: 460, Loss: 2.002143621444702\n"
     ]
    },
    {
     "name": "stderr",
     "output_type": "stream",
     "text": [
      " 61%|██████    | 475/782 [00:24<00:15, 19.28it/s]"
     ]
    },
    {
     "name": "stdout",
     "output_type": "stream",
     "text": [
      "Step: 470, Loss: 1.8177894353866577\n"
     ]
    },
    {
     "name": "stderr",
     "output_type": "stream",
     "text": [
      " 62%|██████▏   | 484/782 [00:24<00:15, 19.82it/s]"
     ]
    },
    {
     "name": "stdout",
     "output_type": "stream",
     "text": [
      "Step: 480, Loss: 1.9122211933135986\n"
     ]
    },
    {
     "name": "stderr",
     "output_type": "stream",
     "text": [
      " 63%|██████▎   | 494/782 [00:25<00:14, 19.77it/s]"
     ]
    },
    {
     "name": "stdout",
     "output_type": "stream",
     "text": [
      "Step: 490, Loss: 1.8695039749145508\n"
     ]
    },
    {
     "name": "stderr",
     "output_type": "stream",
     "text": [
      " 64%|██████▍   | 504/782 [00:25<00:14, 19.05it/s]"
     ]
    },
    {
     "name": "stdout",
     "output_type": "stream",
     "text": [
      "Step: 500, Loss: 2.139779567718506\n"
     ]
    },
    {
     "name": "stderr",
     "output_type": "stream",
     "text": [
      " 66%|██████▌   | 514/782 [00:26<00:14, 18.86it/s]"
     ]
    },
    {
     "name": "stdout",
     "output_type": "stream",
     "text": [
      "Step: 510, Loss: 2.219336748123169\n"
     ]
    },
    {
     "name": "stderr",
     "output_type": "stream",
     "text": [
      " 67%|██████▋   | 525/782 [00:26<00:13, 19.05it/s]"
     ]
    },
    {
     "name": "stdout",
     "output_type": "stream",
     "text": [
      "Step: 520, Loss: 2.3179476261138916\n"
     ]
    },
    {
     "name": "stderr",
     "output_type": "stream",
     "text": [
      " 68%|██████▊   | 535/782 [00:27<00:12, 19.02it/s]"
     ]
    },
    {
     "name": "stdout",
     "output_type": "stream",
     "text": [
      "Step: 530, Loss: 2.191019296646118\n"
     ]
    },
    {
     "name": "stderr",
     "output_type": "stream",
     "text": [
      " 70%|██████▉   | 544/782 [00:27<00:12, 19.09it/s]"
     ]
    },
    {
     "name": "stdout",
     "output_type": "stream",
     "text": [
      "Step: 540, Loss: 2.3810744285583496\n"
     ]
    },
    {
     "name": "stderr",
     "output_type": "stream",
     "text": [
      " 71%|███████   | 553/782 [00:28<00:11, 19.13it/s]"
     ]
    },
    {
     "name": "stdout",
     "output_type": "stream",
     "text": [
      "Step: 550, Loss: 2.545644760131836\n"
     ]
    },
    {
     "name": "stderr",
     "output_type": "stream",
     "text": [
      " 72%|███████▏  | 564/782 [00:28<00:11, 19.81it/s]"
     ]
    },
    {
     "name": "stdout",
     "output_type": "stream",
     "text": [
      "Step: 560, Loss: 2.2267541885375977\n"
     ]
    },
    {
     "name": "stderr",
     "output_type": "stream",
     "text": [
      " 73%|███████▎  | 574/782 [00:29<00:10, 20.15it/s]"
     ]
    },
    {
     "name": "stdout",
     "output_type": "stream",
     "text": [
      "Step: 570, Loss: 2.1409687995910645\n"
     ]
    },
    {
     "name": "stderr",
     "output_type": "stream",
     "text": [
      " 75%|███████▍  | 585/782 [00:30<00:10, 19.55it/s]"
     ]
    },
    {
     "name": "stdout",
     "output_type": "stream",
     "text": [
      "Step: 580, Loss: 1.9986703395843506\n"
     ]
    },
    {
     "name": "stderr",
     "output_type": "stream",
     "text": [
      " 76%|███████▌  | 594/782 [00:30<00:09, 19.84it/s]"
     ]
    },
    {
     "name": "stdout",
     "output_type": "stream",
     "text": [
      "Step: 590, Loss: 1.7990440130233765\n"
     ]
    },
    {
     "name": "stderr",
     "output_type": "stream",
     "text": [
      " 77%|███████▋  | 605/782 [00:31<00:09, 19.43it/s]"
     ]
    },
    {
     "name": "stdout",
     "output_type": "stream",
     "text": [
      "Step: 600, Loss: 1.7455486059188843\n"
     ]
    },
    {
     "name": "stderr",
     "output_type": "stream",
     "text": [
      " 79%|███████▊  | 614/782 [00:31<00:08, 19.89it/s]"
     ]
    },
    {
     "name": "stdout",
     "output_type": "stream",
     "text": [
      "Step: 610, Loss: 1.7747175693511963\n"
     ]
    },
    {
     "name": "stderr",
     "output_type": "stream",
     "text": [
      " 80%|███████▉  | 625/782 [00:32<00:08, 19.54it/s]"
     ]
    },
    {
     "name": "stdout",
     "output_type": "stream",
     "text": [
      "Step: 620, Loss: 2.1050984859466553\n"
     ]
    },
    {
     "name": "stderr",
     "output_type": "stream",
     "text": [
      " 81%|████████  | 634/782 [00:32<00:07, 19.93it/s]"
     ]
    },
    {
     "name": "stdout",
     "output_type": "stream",
     "text": [
      "Step: 630, Loss: 2.0603160858154297\n"
     ]
    },
    {
     "name": "stderr",
     "output_type": "stream",
     "text": [
      " 82%|████████▏ | 645/782 [00:33<00:06, 19.63it/s]"
     ]
    },
    {
     "name": "stdout",
     "output_type": "stream",
     "text": [
      "Step: 640, Loss: 2.149412155151367\n"
     ]
    },
    {
     "name": "stderr",
     "output_type": "stream",
     "text": [
      " 84%|████████▎ | 654/782 [00:33<00:06, 20.00it/s]"
     ]
    },
    {
     "name": "stdout",
     "output_type": "stream",
     "text": [
      "Step: 650, Loss: 1.9560511112213135\n"
     ]
    },
    {
     "name": "stderr",
     "output_type": "stream",
     "text": [
      " 85%|████████▌ | 665/782 [00:34<00:06, 19.47it/s]"
     ]
    },
    {
     "name": "stdout",
     "output_type": "stream",
     "text": [
      "Step: 660, Loss: 1.5095255374908447\n"
     ]
    },
    {
     "name": "stderr",
     "output_type": "stream",
     "text": [
      " 86%|████████▌ | 674/782 [00:34<00:05, 20.12it/s]"
     ]
    },
    {
     "name": "stdout",
     "output_type": "stream",
     "text": [
      "Step: 670, Loss: 2.1261796951293945\n"
     ]
    },
    {
     "name": "stderr",
     "output_type": "stream",
     "text": [
      " 88%|████████▊ | 685/782 [00:35<00:04, 19.52it/s]"
     ]
    },
    {
     "name": "stdout",
     "output_type": "stream",
     "text": [
      "Step: 680, Loss: 2.0193793773651123\n"
     ]
    },
    {
     "name": "stderr",
     "output_type": "stream",
     "text": [
      " 89%|████████▊ | 694/782 [00:35<00:04, 20.18it/s]"
     ]
    },
    {
     "name": "stdout",
     "output_type": "stream",
     "text": [
      "Step: 690, Loss: 2.278795003890991\n"
     ]
    },
    {
     "name": "stderr",
     "output_type": "stream",
     "text": [
      " 90%|█████████ | 705/782 [00:36<00:03, 19.53it/s]"
     ]
    },
    {
     "name": "stdout",
     "output_type": "stream",
     "text": [
      "Step: 700, Loss: 1.8896692991256714\n"
     ]
    },
    {
     "name": "stderr",
     "output_type": "stream",
     "text": [
      " 91%|█████████▏| 714/782 [00:36<00:03, 20.08it/s]"
     ]
    },
    {
     "name": "stdout",
     "output_type": "stream",
     "text": [
      "Step: 710, Loss: 2.0394392013549805\n"
     ]
    },
    {
     "name": "stderr",
     "output_type": "stream",
     "text": [
      " 93%|█████████▎| 725/782 [00:37<00:02, 19.56it/s]"
     ]
    },
    {
     "name": "stdout",
     "output_type": "stream",
     "text": [
      "Step: 720, Loss: 1.9263139963150024\n"
     ]
    },
    {
     "name": "stderr",
     "output_type": "stream",
     "text": [
      " 94%|█████████▍| 734/782 [00:37<00:02, 20.14it/s]"
     ]
    },
    {
     "name": "stdout",
     "output_type": "stream",
     "text": [
      "Step: 730, Loss: 1.9640564918518066\n"
     ]
    },
    {
     "name": "stderr",
     "output_type": "stream",
     "text": [
      " 95%|█████████▌| 743/782 [00:38<00:01, 19.89it/s]"
     ]
    },
    {
     "name": "stdout",
     "output_type": "stream",
     "text": [
      "Step: 740, Loss: 1.4485971927642822\n"
     ]
    },
    {
     "name": "stderr",
     "output_type": "stream",
     "text": [
      " 97%|█████████▋| 755/782 [00:38<00:01, 19.74it/s]"
     ]
    },
    {
     "name": "stdout",
     "output_type": "stream",
     "text": [
      "Step: 750, Loss: 1.8275727033615112\n"
     ]
    },
    {
     "name": "stderr",
     "output_type": "stream",
     "text": [
      " 98%|█████████▊| 764/782 [00:39<00:00, 20.06it/s]"
     ]
    },
    {
     "name": "stdout",
     "output_type": "stream",
     "text": [
      "Step: 760, Loss: 2.3201487064361572\n"
     ]
    },
    {
     "name": "stderr",
     "output_type": "stream",
     "text": [
      " 99%|█████████▉| 774/782 [00:39<00:00, 19.35it/s]"
     ]
    },
    {
     "name": "stdout",
     "output_type": "stream",
     "text": [
      "Step: 770, Loss: 1.5615630149841309\n"
     ]
    },
    {
     "name": "stderr",
     "output_type": "stream",
     "text": [
      "100%|██████████| 782/782 [00:40<00:00, 19.42it/s]"
     ]
    },
    {
     "name": "stdout",
     "output_type": "stream",
     "text": [
      "Step: 780, Loss: 2.0189709663391113\n"
     ]
    },
    {
     "name": "stderr",
     "output_type": "stream",
     "text": [
      "\n"
     ]
    }
   ],
   "source": [
    "torch.manual_seed(42)\n",
    "\n",
    "criterion = torch.nn.CrossEntropyLoss()\n",
    "optimizer = torch.optim.Adam(model.parameters(), lr=0.01)\n",
    "\n",
    "model.train()\n",
    "\n",
    "for step, data in tqdm(enumerate(trainloader_cifar10), total=len(trainloader_cifar10)):\n",
    "    inputs, labels = data\n",
    "    inputs, labels = inputs.to(device), labels.to(device)\n",
    "\n",
    "    optimizer.zero_grad()\n",
    "    outputs = model(inputs)\n",
    "    loss = criterion(outputs, labels)\n",
    "\n",
    "    loss.backward()\n",
    "    optimizer.step()\n",
    "\n",
    "    if step % 10 == 0:\n",
    "      print(f'Step: {step}, Loss: {loss}')"
   ]
  },
  {
   "cell_type": "markdown",
   "metadata": {
    "id": "FR-yDDnXs_HJ"
   },
   "source": [
    "**Вопрос:** Посчитайте точность на тестовой выборке CIFAR10\n",
    "\n",
    "**Пример ответа:** `32.45`"
   ]
  },
  {
   "cell_type": "code",
   "execution_count": null,
   "metadata": {
    "colab": {
     "base_uri": "https://localhost:8080/"
    },
    "execution": {
     "iopub.execute_input": "2024-05-09T06:34:07.578140Z",
     "iopub.status.busy": "2024-05-09T06:34:07.577305Z",
     "iopub.status.idle": "2024-05-09T06:34:10.265228Z",
     "shell.execute_reply": "2024-05-09T06:34:10.264121Z",
     "shell.execute_reply.started": "2024-05-09T06:34:07.578089Z"
    },
    "id": "14Qt9zqfs-Kd",
    "outputId": "ad746c1d-8955-4938-8654-d966bef866d4",
    "tags": []
   },
   "outputs": [
    {
     "name": "stderr",
     "output_type": "stream",
     "text": [
      "100%|██████████| 157/157 [00:07<00:00, 19.83it/s]"
     ]
    },
    {
     "name": "stdout",
     "output_type": "stream",
     "text": [
      "\n",
      "Test accuracy: 37.81%\n"
     ]
    },
    {
     "name": "stderr",
     "output_type": "stream",
     "text": [
      "\n"
     ]
    }
   ],
   "source": [
    "accuracy = test(model, testloader_cifar10)\n",
    "print(f\"\\nTest accuracy: {100*accuracy}%\")"
   ]
  },
  {
   "cell_type": "markdown",
   "metadata": {
    "id": "ZeA7f0zi5o8w"
   },
   "source": [
    "Как можете видеть, точность модели выросла до примерно 35%. Мы обучили только последний слой (классификации), а остальная часть сети осталось нетронутой (т.е. остальные слои обучены на датасете MNIST). Эта техника обучения и называется Transfer Learning.\n",
    "\n",
    "Теперь протестируйте эту модель еще раз на тестовой выборке MNIST:"
   ]
  },
  {
   "cell_type": "code",
   "execution_count": null,
   "metadata": {
    "colab": {
     "base_uri": "https://localhost:8080/"
    },
    "execution": {
     "iopub.execute_input": "2024-05-09T06:34:10.267921Z",
     "iopub.status.busy": "2024-05-09T06:34:10.267011Z",
     "iopub.status.idle": "2024-05-09T06:34:12.874041Z",
     "shell.execute_reply": "2024-05-09T06:34:12.872647Z",
     "shell.execute_reply.started": "2024-05-09T06:34:10.267851Z"
    },
    "id": "JxYHD3IFod1p",
    "outputId": "90f19345-4728-491d-9904-1fc43e8b2309",
    "tags": []
   },
   "outputs": [
    {
     "name": "stderr",
     "output_type": "stream",
     "text": [
      "100%|██████████| 157/157 [00:07<00:00, 20.22it/s]"
     ]
    },
    {
     "name": "stdout",
     "output_type": "stream",
     "text": [
      "\n",
      "MNIST test accuracy: 8.72%\n"
     ]
    },
    {
     "name": "stderr",
     "output_type": "stream",
     "text": [
      "\n"
     ]
    }
   ],
   "source": [
    "accuracy = test(model, testloader)\n",
    "print(f\"\\nMNIST test accuracy: {100*accuracy}%\")"
   ]
  },
  {
   "cell_type": "markdown",
   "metadata": {
    "id": "X1r6N7cW6rch"
   },
   "source": [
    "Как вы можете видеть, точность упала ниже 10%, поскольку последний слой классификации теперь обучен на CIFAR10 датасете. Это называется \"катастрофическим забыванием\" (catastrophic forgetting). Катастрофическое забывание это тенденация нейронной сети забывать предыдущие обученные знания когда она обучается новой информации.\n",
    "\n",
    "Наконец, давайте вернем назад ранее сохраненный слой классификации обученный на MNIST и протестируем еще раз:"
   ]
  },
  {
   "cell_type": "markdown",
   "metadata": {
    "id": "IseXvSdRQcX-"
   },
   "source": [
    "**Задача 13:** Верните последний слой mnist_fc и проведите финальный тест на тестовых выборках MNIST и CIFAR10"
   ]
  },
  {
   "cell_type": "markdown",
   "metadata": {
    "id": "3Xr67kgiu73F"
   },
   "source": [
    "**Вопрос:** Посчитайте и выведите точность на тестовых выборках MNIST и CIFAR10\n",
    "\n",
    "**Пример ответа:**\n",
    "`CIFAR test accuracy: 9.45`\n",
    "`MNIST test accuracy: 51.68`"
   ]
  },
  {
   "cell_type": "code",
   "execution_count": null,
   "metadata": {
    "colab": {
     "base_uri": "https://localhost:8080/"
    },
    "execution": {
     "iopub.execute_input": "2024-05-09T06:34:12.876933Z",
     "iopub.status.busy": "2024-05-09T06:34:12.876185Z",
     "iopub.status.idle": "2024-05-09T06:34:18.122364Z",
     "shell.execute_reply": "2024-05-09T06:34:18.121127Z",
     "shell.execute_reply.started": "2024-05-09T06:34:12.876895Z"
    },
    "id": "75NDth_Dol4c",
    "outputId": "cc2b0bf5-e0b5-4ebc-f38c-9a5be2c54273",
    "tags": []
   },
   "outputs": [
    {
     "name": "stderr",
     "output_type": "stream",
     "text": [
      "100%|██████████| 157/157 [00:07<00:00, 20.74it/s]"
     ]
    },
    {
     "name": "stdout",
     "output_type": "stream",
     "text": [
      "\n",
      "CIFAR test accuracy: 9.75%\n"
     ]
    },
    {
     "name": "stderr",
     "output_type": "stream",
     "text": [
      "\n",
      "100%|██████████| 157/157 [00:07<00:00, 20.29it/s]"
     ]
    },
    {
     "name": "stdout",
     "output_type": "stream",
     "text": [
      "\n",
      "MNIST test accuracy: 65.69%\n"
     ]
    },
    {
     "name": "stderr",
     "output_type": "stream",
     "text": [
      "\n"
     ]
    }
   ],
   "source": [
    "model.fc = mnist_fc                       # верните в модель слой классификации обученный на MNIST\n",
    "model.fc = model.fc.cuda()                # Перенесем на cuda\n",
    "\n",
    "accuracy = test(model, testloader_cifar10)\n",
    "print(f\"\\nCIFAR test accuracy: {100*accuracy}%\")\n",
    "\n",
    "accuracy = test(model, testloader)\n",
    "print(f\"\\nMNIST test accuracy: {100*accuracy}%\")"
   ]
  },
  {
   "cell_type": "markdown",
   "metadata": {
    "id": "da20q1ypMy5U"
   },
   "source": [
    "# Компиляция моделей PyTorch 2.x\n",
    "\n",
    "Замерьте скорость работы модели без компиляции:"
   ]
  },
  {
   "cell_type": "code",
   "execution_count": null,
   "metadata": {
    "colab": {
     "base_uri": "https://localhost:8080/"
    },
    "execution": {
     "iopub.execute_input": "2024-05-09T06:34:18.124628Z",
     "iopub.status.busy": "2024-05-09T06:34:18.124041Z",
     "iopub.status.idle": "2024-05-09T06:34:44.280070Z",
     "shell.execute_reply": "2024-05-09T06:34:44.278764Z",
     "shell.execute_reply.started": "2024-05-09T06:34:18.124577Z"
    },
    "id": "AnQT_t2jMy5U",
    "outputId": "2e384a9b-26a7-4800-ba8b-c4675f84802e",
    "tags": []
   },
   "outputs": [
    {
     "name": "stderr",
     "output_type": "stream",
     "text": [
      "100%|██████████| 157/157 [00:07<00:00, 21.26it/s]\n",
      "100%|██████████| 157/157 [00:07<00:00, 20.54it/s]\n",
      "100%|██████████| 157/157 [00:07<00:00, 20.63it/s]\n",
      "100%|██████████| 157/157 [00:07<00:00, 20.24it/s]\n",
      "100%|██████████| 157/157 [00:07<00:00, 20.51it/s]\n",
      "100%|██████████| 157/157 [00:07<00:00, 20.72it/s]\n",
      "100%|██████████| 157/157 [00:07<00:00, 20.22it/s]\n",
      "100%|██████████| 157/157 [00:07<00:00, 20.87it/s]\n",
      "100%|██████████| 157/157 [00:07<00:00, 20.47it/s]\n",
      "100%|██████████| 157/157 [00:07<00:00, 20.27it/s]"
     ]
    },
    {
     "name": "stdout",
     "output_type": "stream",
     "text": [
      "W/O compile: 76.98227095603943\n"
     ]
    },
    {
     "name": "stderr",
     "output_type": "stream",
     "text": [
      "\n"
     ]
    }
   ],
   "source": [
    "import time\n",
    "\n",
    "start = time.time()\n",
    "for i in range(10):\n",
    "    test(model, testloader)\n",
    "print('W/O compile:', time.time() - start)"
   ]
  },
  {
   "cell_type": "markdown",
   "metadata": {
    "id": "Lc-UCSKcMy5U"
   },
   "source": [
    "**Пример ответа:**\n",
    "`W/O compile: 3.372831344604492`"
   ]
  },
  {
   "cell_type": "markdown",
   "metadata": {
    "id": "O6XRH128My5U"
   },
   "source": [
    "Теперь скомпилируйте модель используя функцию `torch.compile(model, mode)` с разными параметрами `mode`:\n",
    "\n",
    "1) с параметрами по умолчанию `mode=None`\n",
    "\n",
    "2) `mode=\"reduce-overhead\"`\n",
    "\n",
    "3) `mode=\"max-autotune\"`.\n",
    "\n",
    "Замерьте скорость скомпилированных моделей и сравните со скоростью без компиляции:"
   ]
  },
  {
   "cell_type": "markdown",
   "metadata": {
    "execution": {
     "iopub.status.busy": "2024-05-09T11:10:33.286618072Z",
     "iopub.status.idle": "2024-05-09T11:10:33.289682078Z",
     "shell.execute_reply": "2024-05-09T11:10:33.286576300Z"
    }
   },
   "source": [
    "<div style=\"width: 100%; background: #eeeeff; padding: 10px\">\n",
    "    <h3>Как решаем</h3>\n",
    "    <div>Прогреваем компилятор перед каждой компиляцией, чтобы первый прогон замерять уже оптимально</div>\n",
    "    <div>Выводим сохраненные метрики</div>\n",
    "</div>"
   ]
  },
  {
   "cell_type": "code",
   "execution_count": null,
   "metadata": {
    "colab": {
     "base_uri": "https://localhost:8080/"
    },
    "execution": {
     "iopub.execute_input": "2024-05-09T06:42:33.158698Z",
     "iopub.status.busy": "2024-05-09T06:42:33.157720Z",
     "iopub.status.idle": "2024-05-09T06:42:42.855773Z",
     "shell.execute_reply": "2024-05-09T06:42:42.853070Z",
     "shell.execute_reply.started": "2024-05-09T06:42:33.158663Z"
    },
    "id": "s2WQ6HXrMy5U",
    "outputId": "99a7aa28-82c2-46f7-accb-547519dd79c2",
    "tags": []
   },
   "outputs": [
    {
     "name": "stderr",
     "output_type": "stream",
     "text": [
      "100%|██████████| 157/157 [00:36<00:00,  4.35it/s]\n",
      "/usr/lib/python3.10/multiprocessing/popen_fork.py:66: RuntimeWarning: os.fork() was called. os.fork() is incompatible with multithreaded code, and JAX is multithreaded, so this will likely lead to a deadlock.\n",
      "  self.pid = os.fork()\n",
      "100%|██████████| 157/157 [00:06<00:00, 24.17it/s]\n",
      "100%|██████████| 157/157 [00:06<00:00, 24.11it/s]\n",
      "100%|██████████| 157/157 [00:06<00:00, 23.38it/s]\n",
      "100%|██████████| 157/157 [00:06<00:00, 23.81it/s]\n",
      "100%|██████████| 157/157 [00:06<00:00, 23.43it/s]\n",
      "100%|██████████| 157/157 [00:06<00:00, 24.21it/s]\n",
      "100%|██████████| 157/157 [00:06<00:00, 23.65it/s]\n",
      "100%|██████████| 157/157 [00:06<00:00, 24.80it/s]\n",
      "100%|██████████| 157/157 [00:06<00:00, 24.08it/s]\n",
      "100%|██████████| 157/157 [00:06<00:00, 25.35it/s]\n"
     ]
    }
   ],
   "source": [
    "# Warm-up для компиляции:\n",
    "torch._dynamo.reset()\n",
    "default_model = torch.compile(model, mode=None)\n",
    "test(default_model, testloader)\n",
    "\n",
    "default_model = torch.compile(model, mode=None)\n",
    "\n",
    "start = time.time()\n",
    "for i in range(10):\n",
    "    test(default_model, testloader)\n",
    "by_default = time.time() - start"
   ]
  },
  {
   "cell_type": "code",
   "execution_count": null,
   "metadata": {
    "colab": {
     "base_uri": "https://localhost:8080/"
    },
    "execution": {
     "iopub.status.busy": "2024-05-08T21:11:25.937369Z",
     "iopub.status.idle": "2024-05-08T21:11:25.937967Z",
     "shell.execute_reply": "2024-05-08T21:11:25.937761Z"
    },
    "id": "DopyuNU7My5U",
    "outputId": "58dfa3c0-f9d5-4ba6-8860-5b497a8ff5d4",
    "tags": []
   },
   "outputs": [
    {
     "name": "stderr",
     "output_type": "stream",
     "text": [
      "100%|██████████| 157/157 [00:14<00:00, 10.65it/s]\n",
      "/usr/lib/python3.10/multiprocessing/popen_fork.py:66: RuntimeWarning: os.fork() was called. os.fork() is incompatible with multithreaded code, and JAX is multithreaded, so this will likely lead to a deadlock.\n",
      "  self.pid = os.fork()\n",
      "100%|██████████| 157/157 [00:07<00:00, 22.23it/s]\n",
      "/usr/lib/python3.10/multiprocessing/popen_fork.py:66: RuntimeWarning: os.fork() was called. os.fork() is incompatible with multithreaded code, and JAX is multithreaded, so this will likely lead to a deadlock.\n",
      "  self.pid = os.fork()\n",
      " 99%|█████████▊| 155/157 [00:06<00:00, 24.75it/s]/usr/lib/python3.10/multiprocessing/popen_fork.py:66: RuntimeWarning: os.fork() was called. os.fork() is incompatible with multithreaded code, and JAX is multithreaded, so this will likely lead to a deadlock.\n",
      "  self.pid = os.fork()\n",
      "100%|██████████| 157/157 [00:06<00:00, 24.42it/s]\n",
      "100%|██████████| 157/157 [00:06<00:00, 23.72it/s]\n",
      "100%|██████████| 157/157 [00:06<00:00, 24.09it/s]\n",
      "100%|██████████| 157/157 [00:06<00:00, 23.43it/s]\n",
      "100%|██████████| 157/157 [00:06<00:00, 24.10it/s]\n",
      "100%|██████████| 157/157 [00:06<00:00, 23.73it/s]\n",
      "100%|██████████| 157/157 [00:06<00:00, 24.34it/s]\n",
      "100%|██████████| 157/157 [00:06<00:00, 24.10it/s]\n",
      "100%|██████████| 157/157 [00:06<00:00, 23.61it/s]\n"
     ]
    }
   ],
   "source": [
    "# Warm-up для компиляции:\n",
    "torch._dynamo.reset()\n",
    "reduce_overhead_model = torch.compile(model, mode=\"reduce-overhead\")\n",
    "test(reduce_overhead_model, testloader)\n",
    "\n",
    "reduce_overhead_model = torch.compile(model, mode=\"reduce-overhead\")\n",
    "\n",
    "start = time.time()\n",
    "for i in range(10):\n",
    "    test(reduce_overhead_model, testloader)\n",
    "reduce_overhead = time.time() - start"
   ]
  },
  {
   "cell_type": "code",
   "execution_count": null,
   "metadata": {
    "colab": {
     "base_uri": "https://localhost:8080/"
    },
    "id": "1AscwAOgMy5U",
    "outputId": "72b29598-fbcd-43ff-b2a7-2e2e37a86460",
    "tags": []
   },
   "outputs": [
    {
     "name": "stderr",
     "output_type": "stream",
     "text": [
      "  0%|          | 0/157 [00:00<?, ?it/s][2024-05-09 10:47:44,060] [2/0] torch._inductor.utils: [WARNING] not enough SMs to use max_autotune_gemm mode\n",
      "AUTOTUNE addmm(50176x128, 50176x64, 64x128)\n",
      "  addmm 0.5344 ms 100.0%\n",
      "  bias_addmm 0.5673 ms 94.2%\n",
      "SingleProcess AUTOTUNE takes 0.2452 seconds\n",
      "AUTOTUNE addmm(50176x256, 50176x128, 128x256)\n",
      "  bias_addmm 0.8375 ms 100.0%\n",
      "  addmm 1.1203 ms 74.8%\n",
      "SingleProcess AUTOTUNE takes 0.2610 seconds\n",
      "AUTOTUNE addmm(64x10, 64x2304, 2304x10)\n",
      "  bias_addmm 0.0151 ms 100.0%\n",
      "  addmm 0.0205 ms 73.6%\n",
      "SingleProcess AUTOTUNE takes 0.2213 seconds\n",
      " 99%|█████████▉| 156/157 [00:15<00:00, 18.42it/s]AUTOTUNE addmm(12544x128, 12544x64, 64x128)\n",
      "  addmm 0.1536 ms 100.0%\n",
      "  bias_addmm 0.1702 ms 90.3%\n",
      "SingleProcess AUTOTUNE takes 0.2252 seconds\n",
      "AUTOTUNE addmm(12544x256, 12544x128, 128x256)\n",
      "  bias_addmm 0.1720 ms 100.0%\n",
      "  addmm 0.2724 ms 63.2%\n",
      "SingleProcess AUTOTUNE takes 0.2265 seconds\n",
      "AUTOTUNE addmm(16x10, 16x2304, 2304x10)\n",
      "  bias_addmm 0.0131 ms 100.0%\n",
      "  addmm 0.0294 ms 44.6%\n",
      "SingleProcess AUTOTUNE takes 0.2419 seconds\n",
      "100%|██████████| 157/157 [00:24<00:00,  6.33it/s]\n",
      "/usr/lib/python3.10/multiprocessing/popen_fork.py:66: RuntimeWarning: os.fork() was called. os.fork() is incompatible with multithreaded code, and JAX is multithreaded, so this will likely lead to a deadlock.\n",
      "  self.pid = os.fork()\n",
      "100%|██████████| 157/157 [00:07<00:00, 21.88it/s]\n",
      "/usr/lib/python3.10/multiprocessing/popen_fork.py:66: RuntimeWarning: os.fork() was called. os.fork() is incompatible with multithreaded code, and JAX is multithreaded, so this will likely lead to a deadlock.\n",
      "  self.pid = os.fork()\n",
      " 99%|█████████▊| 155/157 [00:06<00:00, 24.45it/s]/usr/lib/python3.10/multiprocessing/popen_fork.py:66: RuntimeWarning: os.fork() was called. os.fork() is incompatible with multithreaded code, and JAX is multithreaded, so this will likely lead to a deadlock.\n",
      "  self.pid = os.fork()\n",
      "100%|██████████| 157/157 [00:06<00:00, 24.28it/s]\n",
      "100%|██████████| 157/157 [00:06<00:00, 23.27it/s]\n",
      "100%|██████████| 157/157 [00:06<00:00, 23.79it/s]\n",
      "100%|██████████| 157/157 [00:06<00:00, 22.94it/s]\n",
      "100%|██████████| 157/157 [00:06<00:00, 24.09it/s]\n",
      "100%|██████████| 157/157 [00:06<00:00, 23.80it/s]\n",
      "100%|██████████| 157/157 [00:06<00:00, 24.17it/s]\n",
      "100%|██████████| 157/157 [00:06<00:00, 24.03it/s]\n",
      "100%|██████████| 157/157 [00:06<00:00, 24.16it/s]\n"
     ]
    }
   ],
   "source": [
    "# Warm-up для компиляции:\n",
    "torch._dynamo.reset()\n",
    "max_autotune_model = torch.compile(model, mode=\"max-autotune\")\n",
    "test(max_autotune_model, testloader)\n",
    "\n",
    "\n",
    "max_autotune_model = torch.compile(model, mode=\"max-autotune\")\n",
    "\n",
    "start = time.time()\n",
    "for i in range(10):\n",
    "    test(max_autotune_model, testloader)\n",
    "max_autotune = time.time() - start"
   ]
  },
  {
   "cell_type": "markdown",
   "metadata": {
    "id": "MFMQZd32My5U"
   },
   "source": [
    "#### **Пример ответа:**\n",
    "\n",
    "`by default: 3.11631344604432`\n",
    "\n",
    "`reduce-overhead: 3.2283134461134`\n",
    "\n",
    "`max-autotune: 3.5928357860168`"
   ]
  },
  {
   "cell_type": "code",
   "execution_count": null,
   "metadata": {
    "colab": {
     "base_uri": "https://localhost:8080/"
    },
    "id": "BcZhobOfMy5U",
    "outputId": "a774a19f-b95f-47f1-bb3f-f0a8df5a5d5c"
   },
   "outputs": [
    {
     "name": "stdout",
     "output_type": "stream",
     "text": [
      "by default: 65.98570132255554\n",
      "reduce-overhead: 66.77985620498657\n",
      "max-autotune: 67.2152647972107\n"
     ]
    }
   ],
   "source": [
    "print(f'by default: {by_default}')\n",
    "print(f'reduce-overhead: {reduce_overhead}')\n",
    "print(f'max-autotune: {max_autotune}')"
   ]
  },
  {
   "cell_type": "code",
   "execution_count": null,
   "metadata": {
    "id": "kDDjoMuGqcEM"
   },
   "outputs": [],
   "source": []
  }
 ],
 "metadata": {
  "accelerator": "GPU",
  "colab": {
   "provenance": []
  },
  "gpuClass": "standard",
  "kernelspec": {
   "display_name": "DataSphere Kernel",
   "language": "python",
   "name": "python3"
  },
  "language_info": {
   "codemirror_mode": {
    "name": "ipython",
    "version": 3
   },
   "file_extension": ".py",
   "mimetype": "text/x-python",
   "name": "python",
   "nbconvert_exporter": "python",
   "pygments_lexer": "ipython3",
   "version": "3.10.12"
  }
 },
 "nbformat": 4,
 "nbformat_minor": 4
}
